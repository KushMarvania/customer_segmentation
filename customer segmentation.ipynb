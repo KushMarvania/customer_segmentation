{
 "cells": [
  {
   "cell_type": "markdown",
   "id": "32eeea46",
   "metadata": {
    "_cell_guid": "1d4a5736-6975-469b-a2ca-b70e86232503",
    "_uuid": "86c7377c-6882-4539-87f0-e77f694a5d64",
    "papermill": {
     "duration": 0.022165,
     "end_time": "2023-04-04T14:53:17.054645",
     "exception": false,
     "start_time": "2023-04-04T14:53:17.032480",
     "status": "completed"
    },
    "tags": []
   },
   "source": [
    "# Customer Segmentation Research & Implementation"
   ]
  },
  {
   "cell_type": "markdown",
   "id": "fe8c54e3",
   "metadata": {
    "_cell_guid": "f74c0832-a68e-45b0-a5c8-fc3356c005da",
    "_uuid": "e8adf237-0d4f-4dfb-8f15-160240e6ff79",
    "papermill": {
     "duration": 0.016134,
     "end_time": "2023-04-04T14:53:17.087573",
     "exception": false,
     "start_time": "2023-04-04T14:53:17.071439",
     "status": "completed"
    },
    "tags": []
   },
   "source": [
    "# Introduction\n",
    "\n",
    "**Customer segmentation** is a process of dividing customers into groups based on shared characteristics such as demographics, behavior, or purchasing patterns. There are different clustering algorithms that can be used for customer segmentation, each with its advantages and disadvantages. In this case, you want to use K-means, DBSCAN, CRM and LRFM, Fuzzy clustering, and Hierarchical clustering to segment your customers. Let's discuss each of these algorithms briefly:\n",
    "\n",
    "* K-means clustering: This algorithm partitions the data into K clusters, where K is a predefined number. Each data point belongs to the cluster whose mean is closest to it. This algorithm is easy to implement and computationally efficient, but it assumes that clusters are spherical, equally sized, and have similar densities.\n",
    "* DBSCAN: This algorithm groups together points that are close to each other based on a density criterion. Points that are close together and have high density are considered part of the same cluster. This algorithm is robust to noise and can handle arbitrary-shaped clusters, but it requires specifying two parameters: epsilon (the radius around each point) and min_points (the minimum number of points to form a cluster).\n",
    "* CRM and LRFM: These are marketing segmentation methods that use customer behavior and purchasing patterns to group customers into segments. CRM (Customer Relationship Management) focuses on customer interactions with the company, while LRFM (Recency, Frequency, Monetary) focuses on the frequency, recency, and monetary value of customer purchases.\n",
    "* Fuzzy clustering: This algorithm assigns a degree of membership to each data point to each cluster. A point can belong to multiple clusters with varying degrees of membership. This algorithm is useful when a data point is ambiguous and can belong to multiple clusters.\n",
    "* Hierarchical clustering: This algorithm groups data points into a hierarchy of clusters using a bottom-up (agglomerative) or top-down (divisive) approach. Each data point starts as its cluster, and the algorithm iteratively merges or splits clusters based on a distance criterion. This algorithm can be used to visualize the relationships between clusters at different levels of granularity.\n",
    "\n",
    "To determine which algorithm is best for your customer segmentation task, you can compare their results based on metrics such as cluster validity, interpretability, and computational efficiency. You can also experiment with different parameters and preprocessing steps to optimize the results."
   ]
  },
  {
   "cell_type": "code",
   "execution_count": 1,
   "id": "fc352c89",
   "metadata": {
    "_cell_guid": "596e0962-bca7-4fa9-9285-f2d449829f59",
    "_uuid": "46a893bf-f477-4697-bf97-075baaba1479",
    "collapsed": false,
    "execution": {
     "iopub.execute_input": "2023-04-04T14:53:17.125027Z",
     "iopub.status.busy": "2023-04-04T14:53:17.123660Z",
     "iopub.status.idle": "2023-04-04T14:53:17.143460Z",
     "shell.execute_reply": "2023-04-04T14:53:17.142127Z"
    },
    "jupyter": {
     "outputs_hidden": false
    },
    "papermill": {
     "duration": 0.040694,
     "end_time": "2023-04-04T14:53:17.146168",
     "exception": false,
     "start_time": "2023-04-04T14:53:17.105474",
     "status": "completed"
    },
    "tags": []
   },
   "outputs": [
    {
     "name": "stdout",
     "output_type": "stream",
     "text": [
      "/kaggle/input/ccdata/CC GENERAL.csv\n"
     ]
    }
   ],
   "source": [
    "import numpy as np # linear algebra\n",
    "import pandas as pd # data processing, CSV file I/O (e.g. pd.read_csv)\n",
    "import os\n",
    "\n",
    "for dirname, _, filenames in os.walk('/kaggle/input'):\n",
    "    for filename in filenames:\n",
    "        print(os.path.join(dirname, filename))"
   ]
  },
  {
   "cell_type": "markdown",
   "id": "f89a5e3e",
   "metadata": {
    "_cell_guid": "deccdde6-7e48-42be-bfaa-eed550dfc763",
    "_uuid": "eef416d3-f49d-4e20-8d7d-756001382860",
    "papermill": {
     "duration": 0.016368,
     "end_time": "2023-04-04T14:53:17.180175",
     "exception": false,
     "start_time": "2023-04-04T14:53:17.163807",
     "status": "completed"
    },
    "tags": []
   },
   "source": [
    "> numpy\n",
    "\n",
    "NumPy is an open source project that enables numerical computing with Python. It was created in 2005 building on the early work of the Numeric and Numarray libraries. NumPy will always be 100% open source software and free for all to use. It is released under the liberal terms of the modified BSD license. NumPy is developed in the open on GitHub, through the consensus of the NumPy and wider scientific Python community. For more information on our governance approach, please see our Governance Document.\n",
    "\n",
    "> pandas\n",
    "\n",
    "Pandas is an open-source library that is made mainly for working with relational or labeled data both easily and intuitively. It provides various data structures and operations for manipulating numerical data and time series. This library is built on top of the NumPy library. Pandas is fast and it has high performance & productivity for users."
   ]
  },
  {
   "cell_type": "code",
   "execution_count": 2,
   "id": "a3cac184",
   "metadata": {
    "_cell_guid": "a8b9fa39-c5c9-41d5-ad4d-4bce92d26c41",
    "_uuid": "ba7ddf4d-66ac-4680-8fdd-f93f2edb38c7",
    "collapsed": false,
    "execution": {
     "iopub.execute_input": "2023-04-04T14:53:17.216395Z",
     "iopub.status.busy": "2023-04-04T14:53:17.215255Z",
     "iopub.status.idle": "2023-04-04T14:53:17.304904Z",
     "shell.execute_reply": "2023-04-04T14:53:17.303770Z"
    },
    "jupyter": {
     "outputs_hidden": false
    },
    "papermill": {
     "duration": 0.10988,
     "end_time": "2023-04-04T14:53:17.307052",
     "exception": false,
     "start_time": "2023-04-04T14:53:17.197172",
     "status": "completed"
    },
    "tags": []
   },
   "outputs": [
    {
     "name": "stdout",
     "output_type": "stream",
     "text": [
      "(8950, 18)\n"
     ]
    },
    {
     "data": {
      "text/html": [
       "<div>\n",
       "<style scoped>\n",
       "    .dataframe tbody tr th:only-of-type {\n",
       "        vertical-align: middle;\n",
       "    }\n",
       "\n",
       "    .dataframe tbody tr th {\n",
       "        vertical-align: top;\n",
       "    }\n",
       "\n",
       "    .dataframe thead th {\n",
       "        text-align: right;\n",
       "    }\n",
       "</style>\n",
       "<table border=\"1\" class=\"dataframe\">\n",
       "  <thead>\n",
       "    <tr style=\"text-align: right;\">\n",
       "      <th></th>\n",
       "      <th>CUST_ID</th>\n",
       "      <th>BALANCE</th>\n",
       "      <th>BALANCE_FREQUENCY</th>\n",
       "      <th>PURCHASES</th>\n",
       "      <th>ONEOFF_PURCHASES</th>\n",
       "      <th>INSTALLMENTS_PURCHASES</th>\n",
       "      <th>CASH_ADVANCE</th>\n",
       "      <th>PURCHASES_FREQUENCY</th>\n",
       "      <th>ONEOFF_PURCHASES_FREQUENCY</th>\n",
       "      <th>PURCHASES_INSTALLMENTS_FREQUENCY</th>\n",
       "      <th>CASH_ADVANCE_FREQUENCY</th>\n",
       "      <th>CASH_ADVANCE_TRX</th>\n",
       "      <th>PURCHASES_TRX</th>\n",
       "      <th>CREDIT_LIMIT</th>\n",
       "      <th>PAYMENTS</th>\n",
       "      <th>MINIMUM_PAYMENTS</th>\n",
       "      <th>PRC_FULL_PAYMENT</th>\n",
       "      <th>TENURE</th>\n",
       "    </tr>\n",
       "  </thead>\n",
       "  <tbody>\n",
       "    <tr>\n",
       "      <th>0</th>\n",
       "      <td>C10001</td>\n",
       "      <td>40.900749</td>\n",
       "      <td>0.818182</td>\n",
       "      <td>95.40</td>\n",
       "      <td>0.00</td>\n",
       "      <td>95.4</td>\n",
       "      <td>0.000000</td>\n",
       "      <td>0.166667</td>\n",
       "      <td>0.000000</td>\n",
       "      <td>0.083333</td>\n",
       "      <td>0.000000</td>\n",
       "      <td>0</td>\n",
       "      <td>2</td>\n",
       "      <td>1000.0</td>\n",
       "      <td>201.802084</td>\n",
       "      <td>139.509787</td>\n",
       "      <td>0.000000</td>\n",
       "      <td>12</td>\n",
       "    </tr>\n",
       "    <tr>\n",
       "      <th>1</th>\n",
       "      <td>C10002</td>\n",
       "      <td>3202.467416</td>\n",
       "      <td>0.909091</td>\n",
       "      <td>0.00</td>\n",
       "      <td>0.00</td>\n",
       "      <td>0.0</td>\n",
       "      <td>6442.945483</td>\n",
       "      <td>0.000000</td>\n",
       "      <td>0.000000</td>\n",
       "      <td>0.000000</td>\n",
       "      <td>0.250000</td>\n",
       "      <td>4</td>\n",
       "      <td>0</td>\n",
       "      <td>7000.0</td>\n",
       "      <td>4103.032597</td>\n",
       "      <td>1072.340217</td>\n",
       "      <td>0.222222</td>\n",
       "      <td>12</td>\n",
       "    </tr>\n",
       "    <tr>\n",
       "      <th>2</th>\n",
       "      <td>C10003</td>\n",
       "      <td>2495.148862</td>\n",
       "      <td>1.000000</td>\n",
       "      <td>773.17</td>\n",
       "      <td>773.17</td>\n",
       "      <td>0.0</td>\n",
       "      <td>0.000000</td>\n",
       "      <td>1.000000</td>\n",
       "      <td>1.000000</td>\n",
       "      <td>0.000000</td>\n",
       "      <td>0.000000</td>\n",
       "      <td>0</td>\n",
       "      <td>12</td>\n",
       "      <td>7500.0</td>\n",
       "      <td>622.066742</td>\n",
       "      <td>627.284787</td>\n",
       "      <td>0.000000</td>\n",
       "      <td>12</td>\n",
       "    </tr>\n",
       "    <tr>\n",
       "      <th>3</th>\n",
       "      <td>C10004</td>\n",
       "      <td>1666.670542</td>\n",
       "      <td>0.636364</td>\n",
       "      <td>1499.00</td>\n",
       "      <td>1499.00</td>\n",
       "      <td>0.0</td>\n",
       "      <td>205.788017</td>\n",
       "      <td>0.083333</td>\n",
       "      <td>0.083333</td>\n",
       "      <td>0.000000</td>\n",
       "      <td>0.083333</td>\n",
       "      <td>1</td>\n",
       "      <td>1</td>\n",
       "      <td>7500.0</td>\n",
       "      <td>0.000000</td>\n",
       "      <td>NaN</td>\n",
       "      <td>0.000000</td>\n",
       "      <td>12</td>\n",
       "    </tr>\n",
       "    <tr>\n",
       "      <th>4</th>\n",
       "      <td>C10005</td>\n",
       "      <td>817.714335</td>\n",
       "      <td>1.000000</td>\n",
       "      <td>16.00</td>\n",
       "      <td>16.00</td>\n",
       "      <td>0.0</td>\n",
       "      <td>0.000000</td>\n",
       "      <td>0.083333</td>\n",
       "      <td>0.083333</td>\n",
       "      <td>0.000000</td>\n",
       "      <td>0.000000</td>\n",
       "      <td>0</td>\n",
       "      <td>1</td>\n",
       "      <td>1200.0</td>\n",
       "      <td>678.334763</td>\n",
       "      <td>244.791237</td>\n",
       "      <td>0.000000</td>\n",
       "      <td>12</td>\n",
       "    </tr>\n",
       "  </tbody>\n",
       "</table>\n",
       "</div>"
      ],
      "text/plain": [
       "  CUST_ID      BALANCE  BALANCE_FREQUENCY  PURCHASES  ONEOFF_PURCHASES  \\\n",
       "0  C10001    40.900749           0.818182      95.40              0.00   \n",
       "1  C10002  3202.467416           0.909091       0.00              0.00   \n",
       "2  C10003  2495.148862           1.000000     773.17            773.17   \n",
       "3  C10004  1666.670542           0.636364    1499.00           1499.00   \n",
       "4  C10005   817.714335           1.000000      16.00             16.00   \n",
       "\n",
       "   INSTALLMENTS_PURCHASES  CASH_ADVANCE  PURCHASES_FREQUENCY  \\\n",
       "0                    95.4      0.000000             0.166667   \n",
       "1                     0.0   6442.945483             0.000000   \n",
       "2                     0.0      0.000000             1.000000   \n",
       "3                     0.0    205.788017             0.083333   \n",
       "4                     0.0      0.000000             0.083333   \n",
       "\n",
       "   ONEOFF_PURCHASES_FREQUENCY  PURCHASES_INSTALLMENTS_FREQUENCY  \\\n",
       "0                    0.000000                          0.083333   \n",
       "1                    0.000000                          0.000000   \n",
       "2                    1.000000                          0.000000   \n",
       "3                    0.083333                          0.000000   \n",
       "4                    0.083333                          0.000000   \n",
       "\n",
       "   CASH_ADVANCE_FREQUENCY  CASH_ADVANCE_TRX  PURCHASES_TRX  CREDIT_LIMIT  \\\n",
       "0                0.000000                 0              2        1000.0   \n",
       "1                0.250000                 4              0        7000.0   \n",
       "2                0.000000                 0             12        7500.0   \n",
       "3                0.083333                 1              1        7500.0   \n",
       "4                0.000000                 0              1        1200.0   \n",
       "\n",
       "      PAYMENTS  MINIMUM_PAYMENTS  PRC_FULL_PAYMENT  TENURE  \n",
       "0   201.802084        139.509787          0.000000      12  \n",
       "1  4103.032597       1072.340217          0.222222      12  \n",
       "2   622.066742        627.284787          0.000000      12  \n",
       "3     0.000000               NaN          0.000000      12  \n",
       "4   678.334763        244.791237          0.000000      12  "
      ]
     },
     "execution_count": 2,
     "metadata": {},
     "output_type": "execute_result"
    }
   ],
   "source": [
    "data = pd.read_csv(\"/kaggle/input/ccdata/CC GENERAL.csv\")\n",
    "print(data.shape)\n",
    "data.head()"
   ]
  },
  {
   "cell_type": "markdown",
   "id": "f2329f71",
   "metadata": {
    "_cell_guid": "8461de6c-2413-4d82-9afe-a993a9681121",
    "_uuid": "bfab4445-a0e2-4bf6-b8bd-bcf8d3b6b66f",
    "papermill": {
     "duration": 0.016545,
     "end_time": "2023-04-04T14:53:17.340447",
     "exception": false,
     "start_time": "2023-04-04T14:53:17.323902",
     "status": "completed"
    },
    "tags": []
   },
   "source": [
    "# About Dataset\n",
    "\n",
    "This case requires to develop a customer segmentation to define marketing strategy. The\n",
    "sample Dataset summarizes the usage behavior of about 9000 active credit card holders during the last 6 months. The file is at a customer level with 18 behavioral variables.\n",
    "\n",
    "Following is the Data Dictionary for Credit Card dataset :-\n",
    "\n",
    "* CUST_ID : Identification of Credit Card holder (Categorical)\n",
    "* BALANCE : Balance amount left in their account to make purchases\n",
    "* BALANCE_FREQUENCY : How frequently the Balance is updated, score between 0 and 1 (1 = frequently updated, 0 = not frequently updated)\n",
    "* PURCHASES : Amount of purchases made from account\n",
    "* ONEOFF_PURCHASES : Maximum purchase amount done in one-go\n",
    "* INSTALLMENTS_PURCHASES : Amount of purchase done in installment\n",
    "* CASH_ADVANCE : Cash in advance given by the user\n",
    "* PURCHASES_FREQUENCY : How frequently the Purchases are being made, score between 0 and 1 (1 = frequently purchased, 0 = not frequently purchased)\n",
    "* ONEOFFPURCHASESFREQUENCY : How frequently Purchases are happening in one-go (1 = frequently purchased, 0 = not frequently purchased)\n",
    "* PURCHASESINSTALLMENTSFREQUENCY : How frequently purchases in installments are being done (1 = frequently done, 0 = not frequently done)\n",
    "* CASHADVANCEFREQUENCY : How frequently the cash in advance being paid\n",
    "* CASHADVANCETRX : Number of Transactions made with \"Cash in Advanced\"\n",
    "* PURCHASES_TRX : Numbe of purchase transactions made\n",
    "* CREDIT_LIMIT : Limit of Credit Card for user\n",
    "* PAYMENTS : Amount of Payment done by user\n",
    "* MINIMUM_PAYMENTS : Minimum amount of payments made by user\n",
    "* PRCFULLPAYMENT : Percent of full payment paid by user\n",
    "* TENURE : Tenure of credit card service for user"
   ]
  },
  {
   "cell_type": "markdown",
   "id": "5dfe7571",
   "metadata": {
    "_cell_guid": "3688b6a5-049a-4fa5-9e88-ba1968a138ae",
    "_uuid": "b37e8d55-f83e-4490-906d-6bdfa6745143",
    "papermill": {
     "duration": 0.016632,
     "end_time": "2023-04-04T14:53:17.374274",
     "exception": false,
     "start_time": "2023-04-04T14:53:17.357642",
     "status": "completed"
    },
    "tags": []
   },
   "source": [
    "# Understanding & Pre-Processing Data"
   ]
  },
  {
   "cell_type": "code",
   "execution_count": 3,
   "id": "3a65220b",
   "metadata": {
    "_cell_guid": "682e407c-2100-47ef-9d36-0f6edb3ff9de",
    "_uuid": "8c912efb-7f63-4570-927d-6cdfab6e6776",
    "collapsed": false,
    "execution": {
     "iopub.execute_input": "2023-04-04T14:53:17.411298Z",
     "iopub.status.busy": "2023-04-04T14:53:17.410091Z",
     "iopub.status.idle": "2023-04-04T14:53:17.434371Z",
     "shell.execute_reply": "2023-04-04T14:53:17.432682Z"
    },
    "jupyter": {
     "outputs_hidden": false
    },
    "papermill": {
     "duration": 0.045118,
     "end_time": "2023-04-04T14:53:17.436973",
     "exception": false,
     "start_time": "2023-04-04T14:53:17.391855",
     "status": "completed"
    },
    "tags": []
   },
   "outputs": [
    {
     "name": "stdout",
     "output_type": "stream",
     "text": [
      "<class 'pandas.core.frame.DataFrame'>\n",
      "RangeIndex: 8950 entries, 0 to 8949\n",
      "Data columns (total 18 columns):\n",
      " #   Column                            Non-Null Count  Dtype  \n",
      "---  ------                            --------------  -----  \n",
      " 0   CUST_ID                           8950 non-null   object \n",
      " 1   BALANCE                           8950 non-null   float64\n",
      " 2   BALANCE_FREQUENCY                 8950 non-null   float64\n",
      " 3   PURCHASES                         8950 non-null   float64\n",
      " 4   ONEOFF_PURCHASES                  8950 non-null   float64\n",
      " 5   INSTALLMENTS_PURCHASES            8950 non-null   float64\n",
      " 6   CASH_ADVANCE                      8950 non-null   float64\n",
      " 7   PURCHASES_FREQUENCY               8950 non-null   float64\n",
      " 8   ONEOFF_PURCHASES_FREQUENCY        8950 non-null   float64\n",
      " 9   PURCHASES_INSTALLMENTS_FREQUENCY  8950 non-null   float64\n",
      " 10  CASH_ADVANCE_FREQUENCY            8950 non-null   float64\n",
      " 11  CASH_ADVANCE_TRX                  8950 non-null   int64  \n",
      " 12  PURCHASES_TRX                     8950 non-null   int64  \n",
      " 13  CREDIT_LIMIT                      8949 non-null   float64\n",
      " 14  PAYMENTS                          8950 non-null   float64\n",
      " 15  MINIMUM_PAYMENTS                  8637 non-null   float64\n",
      " 16  PRC_FULL_PAYMENT                  8950 non-null   float64\n",
      " 17  TENURE                            8950 non-null   int64  \n",
      "dtypes: float64(14), int64(3), object(1)\n",
      "memory usage: 1.2+ MB\n"
     ]
    }
   ],
   "source": [
    "data.info()"
   ]
  },
  {
   "cell_type": "code",
   "execution_count": 4,
   "id": "ede83a8f",
   "metadata": {
    "_cell_guid": "fb88ad18-cb70-403f-89f7-26db21433cf3",
    "_uuid": "b6ba06a6-acd2-4036-ac08-4b8608ad1db2",
    "collapsed": false,
    "execution": {
     "iopub.execute_input": "2023-04-04T14:53:17.472741Z",
     "iopub.status.busy": "2023-04-04T14:53:17.471730Z",
     "iopub.status.idle": "2023-04-04T14:53:17.481060Z",
     "shell.execute_reply": "2023-04-04T14:53:17.480058Z"
    },
    "jupyter": {
     "outputs_hidden": false
    },
    "papermill": {
     "duration": 0.029523,
     "end_time": "2023-04-04T14:53:17.483434",
     "exception": false,
     "start_time": "2023-04-04T14:53:17.453911",
     "status": "completed"
    },
    "tags": []
   },
   "outputs": [],
   "source": [
    "# drop customer Id column.\n",
    "data.drop(['CUST_ID'], axis=1, inplace=True)"
   ]
  },
  {
   "cell_type": "code",
   "execution_count": 5,
   "id": "d6778e65",
   "metadata": {
    "_cell_guid": "c10fe307-d08a-415d-a329-36b34bf08e7c",
    "_uuid": "74427e4c-3d5f-4d22-8ed9-71fd14328f08",
    "collapsed": false,
    "execution": {
     "iopub.execute_input": "2023-04-04T14:53:17.519886Z",
     "iopub.status.busy": "2023-04-04T14:53:17.519522Z",
     "iopub.status.idle": "2023-04-04T14:53:17.529174Z",
     "shell.execute_reply": "2023-04-04T14:53:17.528179Z"
    },
    "jupyter": {
     "outputs_hidden": false
    },
    "papermill": {
     "duration": 0.030693,
     "end_time": "2023-04-04T14:53:17.531340",
     "exception": false,
     "start_time": "2023-04-04T14:53:17.500647",
     "status": "completed"
    },
    "tags": []
   },
   "outputs": [
    {
     "data": {
      "text/plain": [
       "BALANCE                               0\n",
       "BALANCE_FREQUENCY                     0\n",
       "PURCHASES                             0\n",
       "ONEOFF_PURCHASES                      0\n",
       "INSTALLMENTS_PURCHASES                0\n",
       "CASH_ADVANCE                          0\n",
       "PURCHASES_FREQUENCY                   0\n",
       "ONEOFF_PURCHASES_FREQUENCY            0\n",
       "PURCHASES_INSTALLMENTS_FREQUENCY      0\n",
       "CASH_ADVANCE_FREQUENCY                0\n",
       "CASH_ADVANCE_TRX                      0\n",
       "PURCHASES_TRX                         0\n",
       "CREDIT_LIMIT                          1\n",
       "PAYMENTS                              0\n",
       "MINIMUM_PAYMENTS                    313\n",
       "PRC_FULL_PAYMENT                      0\n",
       "TENURE                                0\n",
       "dtype: int64"
      ]
     },
     "execution_count": 5,
     "metadata": {},
     "output_type": "execute_result"
    }
   ],
   "source": [
    "data.isnull().sum()"
   ]
  },
  {
   "cell_type": "markdown",
   "id": "ff9e7c31",
   "metadata": {
    "_cell_guid": "5d3a10d2-6bd9-4c22-8df0-35a0b348d106",
    "_uuid": "452c0f7a-b3a5-4548-a819-5ce41eafbc8f",
    "papermill": {
     "duration": 0.01745,
     "end_time": "2023-04-04T14:53:17.565834",
     "exception": false,
     "start_time": "2023-04-04T14:53:17.548384",
     "status": "completed"
    },
    "tags": []
   },
   "source": [
    "So there are 313 null values in MINIMUM_PAYMENTS and 1 in CREDIT_LIMIT. We can either remove the rows corresponding to these cells or replace it with mean values. Considering not many cells are null, we will use **mean to occupy the space**."
   ]
  },
  {
   "cell_type": "code",
   "execution_count": 6,
   "id": "b57e5028",
   "metadata": {
    "_cell_guid": "6ff49148-9917-45d0-b887-d11518765ef8",
    "_uuid": "720a16d6-1951-4a4b-82ec-3c76a5fb976a",
    "collapsed": false,
    "execution": {
     "iopub.execute_input": "2023-04-04T14:53:17.602207Z",
     "iopub.status.busy": "2023-04-04T14:53:17.601519Z",
     "iopub.status.idle": "2023-04-04T14:53:17.616735Z",
     "shell.execute_reply": "2023-04-04T14:53:17.615569Z"
    },
    "jupyter": {
     "outputs_hidden": false
    },
    "papermill": {
     "duration": 0.035908,
     "end_time": "2023-04-04T14:53:17.619118",
     "exception": false,
     "start_time": "2023-04-04T14:53:17.583210",
     "status": "completed"
    },
    "tags": []
   },
   "outputs": [
    {
     "data": {
      "text/plain": [
       "BALANCE                             0\n",
       "BALANCE_FREQUENCY                   0\n",
       "PURCHASES                           0\n",
       "ONEOFF_PURCHASES                    0\n",
       "INSTALLMENTS_PURCHASES              0\n",
       "CASH_ADVANCE                        0\n",
       "PURCHASES_FREQUENCY                 0\n",
       "ONEOFF_PURCHASES_FREQUENCY          0\n",
       "PURCHASES_INSTALLMENTS_FREQUENCY    0\n",
       "CASH_ADVANCE_FREQUENCY              0\n",
       "CASH_ADVANCE_TRX                    0\n",
       "PURCHASES_TRX                       0\n",
       "CREDIT_LIMIT                        0\n",
       "PAYMENTS                            0\n",
       "MINIMUM_PAYMENTS                    0\n",
       "PRC_FULL_PAYMENT                    0\n",
       "TENURE                              0\n",
       "dtype: int64"
      ]
     },
     "execution_count": 6,
     "metadata": {},
     "output_type": "execute_result"
    }
   ],
   "source": [
    "data = data.fillna(data.mean())\n",
    "\n",
    "# Verify all the columns are filled\n",
    "data.isnull().sum()"
   ]
  },
  {
   "cell_type": "markdown",
   "id": "f3192118",
   "metadata": {
    "_cell_guid": "0898fef4-93ce-4f90-90a7-1401123681b6",
    "_uuid": "db814c44-4859-4b01-b98e-c0000960459b",
    "papermill": {
     "duration": 0.017117,
     "end_time": "2023-04-04T14:53:17.653706",
     "exception": false,
     "start_time": "2023-04-04T14:53:17.636589",
     "status": "completed"
    },
    "tags": []
   },
   "source": [
    "Rounding all the feature values by two decimal places for simplification"
   ]
  },
  {
   "cell_type": "code",
   "execution_count": 7,
   "id": "dc9a1321",
   "metadata": {
    "_cell_guid": "55c6df87-1b5b-458f-809b-995af23b6eea",
    "_uuid": "efc3884a-86a9-4085-8658-ecfbb5f7ac3f",
    "collapsed": false,
    "execution": {
     "iopub.execute_input": "2023-04-04T14:53:17.690672Z",
     "iopub.status.busy": "2023-04-04T14:53:17.690243Z",
     "iopub.status.idle": "2023-04-04T14:53:17.702559Z",
     "shell.execute_reply": "2023-04-04T14:53:17.701158Z"
    },
    "jupyter": {
     "outputs_hidden": false
    },
    "papermill": {
     "duration": 0.033765,
     "end_time": "2023-04-04T14:53:17.704916",
     "exception": false,
     "start_time": "2023-04-04T14:53:17.671151",
     "status": "completed"
    },
    "tags": []
   },
   "outputs": [],
   "source": [
    "data = data.round(2)"
   ]
  },
  {
   "cell_type": "code",
   "execution_count": 8,
   "id": "36220769",
   "metadata": {
    "_cell_guid": "a77d4003-0655-4bee-b33e-12f53b435ef6",
    "_uuid": "da2cfa24-2ffb-451e-ac61-6da3d8fa840b",
    "collapsed": false,
    "execution": {
     "iopub.execute_input": "2023-04-04T14:53:17.742240Z",
     "iopub.status.busy": "2023-04-04T14:53:17.741808Z",
     "iopub.status.idle": "2023-04-04T14:53:17.765179Z",
     "shell.execute_reply": "2023-04-04T14:53:17.764076Z"
    },
    "jupyter": {
     "outputs_hidden": false
    },
    "papermill": {
     "duration": 0.044595,
     "end_time": "2023-04-04T14:53:17.767413",
     "exception": false,
     "start_time": "2023-04-04T14:53:17.722818",
     "status": "completed"
    },
    "tags": []
   },
   "outputs": [
    {
     "data": {
      "text/html": [
       "<div>\n",
       "<style scoped>\n",
       "    .dataframe tbody tr th:only-of-type {\n",
       "        vertical-align: middle;\n",
       "    }\n",
       "\n",
       "    .dataframe tbody tr th {\n",
       "        vertical-align: top;\n",
       "    }\n",
       "\n",
       "    .dataframe thead th {\n",
       "        text-align: right;\n",
       "    }\n",
       "</style>\n",
       "<table border=\"1\" class=\"dataframe\">\n",
       "  <thead>\n",
       "    <tr style=\"text-align: right;\">\n",
       "      <th></th>\n",
       "      <th>BALANCE</th>\n",
       "      <th>BALANCE_FREQUENCY</th>\n",
       "      <th>PURCHASES</th>\n",
       "      <th>ONEOFF_PURCHASES</th>\n",
       "      <th>INSTALLMENTS_PURCHASES</th>\n",
       "      <th>CASH_ADVANCE</th>\n",
       "      <th>PURCHASES_FREQUENCY</th>\n",
       "      <th>ONEOFF_PURCHASES_FREQUENCY</th>\n",
       "      <th>PURCHASES_INSTALLMENTS_FREQUENCY</th>\n",
       "      <th>CASH_ADVANCE_FREQUENCY</th>\n",
       "      <th>CASH_ADVANCE_TRX</th>\n",
       "      <th>PURCHASES_TRX</th>\n",
       "      <th>CREDIT_LIMIT</th>\n",
       "      <th>PAYMENTS</th>\n",
       "      <th>MINIMUM_PAYMENTS</th>\n",
       "      <th>PRC_FULL_PAYMENT</th>\n",
       "      <th>TENURE</th>\n",
       "    </tr>\n",
       "  </thead>\n",
       "  <tbody>\n",
       "    <tr>\n",
       "      <th>0</th>\n",
       "      <td>40.90</td>\n",
       "      <td>0.82</td>\n",
       "      <td>95.40</td>\n",
       "      <td>0.00</td>\n",
       "      <td>95.4</td>\n",
       "      <td>0.00</td>\n",
       "      <td>0.17</td>\n",
       "      <td>0.00</td>\n",
       "      <td>0.08</td>\n",
       "      <td>0.00</td>\n",
       "      <td>0</td>\n",
       "      <td>2</td>\n",
       "      <td>1000.0</td>\n",
       "      <td>201.80</td>\n",
       "      <td>139.51</td>\n",
       "      <td>0.00</td>\n",
       "      <td>12</td>\n",
       "    </tr>\n",
       "    <tr>\n",
       "      <th>1</th>\n",
       "      <td>3202.47</td>\n",
       "      <td>0.91</td>\n",
       "      <td>0.00</td>\n",
       "      <td>0.00</td>\n",
       "      <td>0.0</td>\n",
       "      <td>6442.95</td>\n",
       "      <td>0.00</td>\n",
       "      <td>0.00</td>\n",
       "      <td>0.00</td>\n",
       "      <td>0.25</td>\n",
       "      <td>4</td>\n",
       "      <td>0</td>\n",
       "      <td>7000.0</td>\n",
       "      <td>4103.03</td>\n",
       "      <td>1072.34</td>\n",
       "      <td>0.22</td>\n",
       "      <td>12</td>\n",
       "    </tr>\n",
       "    <tr>\n",
       "      <th>2</th>\n",
       "      <td>2495.15</td>\n",
       "      <td>1.00</td>\n",
       "      <td>773.17</td>\n",
       "      <td>773.17</td>\n",
       "      <td>0.0</td>\n",
       "      <td>0.00</td>\n",
       "      <td>1.00</td>\n",
       "      <td>1.00</td>\n",
       "      <td>0.00</td>\n",
       "      <td>0.00</td>\n",
       "      <td>0</td>\n",
       "      <td>12</td>\n",
       "      <td>7500.0</td>\n",
       "      <td>622.07</td>\n",
       "      <td>627.28</td>\n",
       "      <td>0.00</td>\n",
       "      <td>12</td>\n",
       "    </tr>\n",
       "    <tr>\n",
       "      <th>3</th>\n",
       "      <td>1666.67</td>\n",
       "      <td>0.64</td>\n",
       "      <td>1499.00</td>\n",
       "      <td>1499.00</td>\n",
       "      <td>0.0</td>\n",
       "      <td>205.79</td>\n",
       "      <td>0.08</td>\n",
       "      <td>0.08</td>\n",
       "      <td>0.00</td>\n",
       "      <td>0.08</td>\n",
       "      <td>1</td>\n",
       "      <td>1</td>\n",
       "      <td>7500.0</td>\n",
       "      <td>0.00</td>\n",
       "      <td>864.21</td>\n",
       "      <td>0.00</td>\n",
       "      <td>12</td>\n",
       "    </tr>\n",
       "    <tr>\n",
       "      <th>4</th>\n",
       "      <td>817.71</td>\n",
       "      <td>1.00</td>\n",
       "      <td>16.00</td>\n",
       "      <td>16.00</td>\n",
       "      <td>0.0</td>\n",
       "      <td>0.00</td>\n",
       "      <td>0.08</td>\n",
       "      <td>0.08</td>\n",
       "      <td>0.00</td>\n",
       "      <td>0.00</td>\n",
       "      <td>0</td>\n",
       "      <td>1</td>\n",
       "      <td>1200.0</td>\n",
       "      <td>678.33</td>\n",
       "      <td>244.79</td>\n",
       "      <td>0.00</td>\n",
       "      <td>12</td>\n",
       "    </tr>\n",
       "  </tbody>\n",
       "</table>\n",
       "</div>"
      ],
      "text/plain": [
       "   BALANCE  BALANCE_FREQUENCY  PURCHASES  ONEOFF_PURCHASES  \\\n",
       "0    40.90               0.82      95.40              0.00   \n",
       "1  3202.47               0.91       0.00              0.00   \n",
       "2  2495.15               1.00     773.17            773.17   \n",
       "3  1666.67               0.64    1499.00           1499.00   \n",
       "4   817.71               1.00      16.00             16.00   \n",
       "\n",
       "   INSTALLMENTS_PURCHASES  CASH_ADVANCE  PURCHASES_FREQUENCY  \\\n",
       "0                    95.4          0.00                 0.17   \n",
       "1                     0.0       6442.95                 0.00   \n",
       "2                     0.0          0.00                 1.00   \n",
       "3                     0.0        205.79                 0.08   \n",
       "4                     0.0          0.00                 0.08   \n",
       "\n",
       "   ONEOFF_PURCHASES_FREQUENCY  PURCHASES_INSTALLMENTS_FREQUENCY  \\\n",
       "0                        0.00                              0.08   \n",
       "1                        0.00                              0.00   \n",
       "2                        1.00                              0.00   \n",
       "3                        0.08                              0.00   \n",
       "4                        0.08                              0.00   \n",
       "\n",
       "   CASH_ADVANCE_FREQUENCY  CASH_ADVANCE_TRX  PURCHASES_TRX  CREDIT_LIMIT  \\\n",
       "0                    0.00                 0              2        1000.0   \n",
       "1                    0.25                 4              0        7000.0   \n",
       "2                    0.00                 0             12        7500.0   \n",
       "3                    0.08                 1              1        7500.0   \n",
       "4                    0.00                 0              1        1200.0   \n",
       "\n",
       "   PAYMENTS  MINIMUM_PAYMENTS  PRC_FULL_PAYMENT  TENURE  \n",
       "0    201.80            139.51              0.00      12  \n",
       "1   4103.03           1072.34              0.22      12  \n",
       "2    622.07            627.28              0.00      12  \n",
       "3      0.00            864.21              0.00      12  \n",
       "4    678.33            244.79              0.00      12  "
      ]
     },
     "execution_count": 8,
     "metadata": {},
     "output_type": "execute_result"
    }
   ],
   "source": [
    "data.head()"
   ]
  },
  {
   "cell_type": "code",
   "execution_count": 9,
   "id": "26a18167",
   "metadata": {
    "_cell_guid": "481ba750-60f7-47b9-af44-909a274805c6",
    "_uuid": "c27fcc07-5a22-4797-a929-73b62c832ab7",
    "collapsed": false,
    "execution": {
     "iopub.execute_input": "2023-04-04T14:53:17.804447Z",
     "iopub.status.busy": "2023-04-04T14:53:17.803987Z",
     "iopub.status.idle": "2023-04-04T14:53:17.871057Z",
     "shell.execute_reply": "2023-04-04T14:53:17.869951Z"
    },
    "jupyter": {
     "outputs_hidden": false
    },
    "papermill": {
     "duration": 0.088275,
     "end_time": "2023-04-04T14:53:17.873463",
     "exception": false,
     "start_time": "2023-04-04T14:53:17.785188",
     "status": "completed"
    },
    "tags": []
   },
   "outputs": [
    {
     "data": {
      "text/html": [
       "<div>\n",
       "<style scoped>\n",
       "    .dataframe tbody tr th:only-of-type {\n",
       "        vertical-align: middle;\n",
       "    }\n",
       "\n",
       "    .dataframe tbody tr th {\n",
       "        vertical-align: top;\n",
       "    }\n",
       "\n",
       "    .dataframe thead th {\n",
       "        text-align: right;\n",
       "    }\n",
       "</style>\n",
       "<table border=\"1\" class=\"dataframe\">\n",
       "  <thead>\n",
       "    <tr style=\"text-align: right;\">\n",
       "      <th></th>\n",
       "      <th>BALANCE</th>\n",
       "      <th>BALANCE_FREQUENCY</th>\n",
       "      <th>PURCHASES</th>\n",
       "      <th>ONEOFF_PURCHASES</th>\n",
       "      <th>INSTALLMENTS_PURCHASES</th>\n",
       "      <th>CASH_ADVANCE</th>\n",
       "      <th>PURCHASES_FREQUENCY</th>\n",
       "      <th>ONEOFF_PURCHASES_FREQUENCY</th>\n",
       "      <th>PURCHASES_INSTALLMENTS_FREQUENCY</th>\n",
       "      <th>CASH_ADVANCE_FREQUENCY</th>\n",
       "      <th>CASH_ADVANCE_TRX</th>\n",
       "      <th>PURCHASES_TRX</th>\n",
       "      <th>CREDIT_LIMIT</th>\n",
       "      <th>PAYMENTS</th>\n",
       "      <th>MINIMUM_PAYMENTS</th>\n",
       "      <th>PRC_FULL_PAYMENT</th>\n",
       "      <th>TENURE</th>\n",
       "    </tr>\n",
       "  </thead>\n",
       "  <tbody>\n",
       "    <tr>\n",
       "      <th>count</th>\n",
       "      <td>8950.000000</td>\n",
       "      <td>8950.000000</td>\n",
       "      <td>8950.000000</td>\n",
       "      <td>8950.000000</td>\n",
       "      <td>8950.000000</td>\n",
       "      <td>8950.000000</td>\n",
       "      <td>8950.000000</td>\n",
       "      <td>8950.000000</td>\n",
       "      <td>8950.000000</td>\n",
       "      <td>8950.000000</td>\n",
       "      <td>8950.000000</td>\n",
       "      <td>8950.000000</td>\n",
       "      <td>8950.000000</td>\n",
       "      <td>8950.000000</td>\n",
       "      <td>8950.000000</td>\n",
       "      <td>8950.000000</td>\n",
       "      <td>8950.000000</td>\n",
       "    </tr>\n",
       "    <tr>\n",
       "      <th>mean</th>\n",
       "      <td>1564.474826</td>\n",
       "      <td>0.877426</td>\n",
       "      <td>1003.204834</td>\n",
       "      <td>592.437371</td>\n",
       "      <td>411.067645</td>\n",
       "      <td>978.871102</td>\n",
       "      <td>0.490217</td>\n",
       "      <td>0.202177</td>\n",
       "      <td>0.364553</td>\n",
       "      <td>0.134911</td>\n",
       "      <td>3.248827</td>\n",
       "      <td>14.709832</td>\n",
       "      <td>4494.449450</td>\n",
       "      <td>1733.143878</td>\n",
       "      <td>864.206687</td>\n",
       "      <td>0.153534</td>\n",
       "      <td>11.517318</td>\n",
       "    </tr>\n",
       "    <tr>\n",
       "      <th>std</th>\n",
       "      <td>2081.531851</td>\n",
       "      <td>0.237169</td>\n",
       "      <td>2136.634782</td>\n",
       "      <td>1659.887917</td>\n",
       "      <td>904.338115</td>\n",
       "      <td>2097.163869</td>\n",
       "      <td>0.401678</td>\n",
       "      <td>0.298555</td>\n",
       "      <td>0.397623</td>\n",
       "      <td>0.200262</td>\n",
       "      <td>6.824647</td>\n",
       "      <td>24.857649</td>\n",
       "      <td>3638.612412</td>\n",
       "      <td>2895.063787</td>\n",
       "      <td>2330.588020</td>\n",
       "      <td>0.292648</td>\n",
       "      <td>1.338331</td>\n",
       "    </tr>\n",
       "    <tr>\n",
       "      <th>min</th>\n",
       "      <td>0.000000</td>\n",
       "      <td>0.000000</td>\n",
       "      <td>0.000000</td>\n",
       "      <td>0.000000</td>\n",
       "      <td>0.000000</td>\n",
       "      <td>0.000000</td>\n",
       "      <td>0.000000</td>\n",
       "      <td>0.000000</td>\n",
       "      <td>0.000000</td>\n",
       "      <td>0.000000</td>\n",
       "      <td>0.000000</td>\n",
       "      <td>0.000000</td>\n",
       "      <td>50.000000</td>\n",
       "      <td>0.000000</td>\n",
       "      <td>0.020000</td>\n",
       "      <td>0.000000</td>\n",
       "      <td>6.000000</td>\n",
       "    </tr>\n",
       "    <tr>\n",
       "      <th>25%</th>\n",
       "      <td>128.280000</td>\n",
       "      <td>0.890000</td>\n",
       "      <td>39.635000</td>\n",
       "      <td>0.000000</td>\n",
       "      <td>0.000000</td>\n",
       "      <td>0.000000</td>\n",
       "      <td>0.080000</td>\n",
       "      <td>0.000000</td>\n",
       "      <td>0.000000</td>\n",
       "      <td>0.000000</td>\n",
       "      <td>0.000000</td>\n",
       "      <td>1.000000</td>\n",
       "      <td>1600.000000</td>\n",
       "      <td>383.272500</td>\n",
       "      <td>170.857500</td>\n",
       "      <td>0.000000</td>\n",
       "      <td>12.000000</td>\n",
       "    </tr>\n",
       "    <tr>\n",
       "      <th>50%</th>\n",
       "      <td>873.385000</td>\n",
       "      <td>1.000000</td>\n",
       "      <td>361.280000</td>\n",
       "      <td>38.000000</td>\n",
       "      <td>89.000000</td>\n",
       "      <td>0.000000</td>\n",
       "      <td>0.500000</td>\n",
       "      <td>0.080000</td>\n",
       "      <td>0.170000</td>\n",
       "      <td>0.000000</td>\n",
       "      <td>0.000000</td>\n",
       "      <td>7.000000</td>\n",
       "      <td>3000.000000</td>\n",
       "      <td>856.900000</td>\n",
       "      <td>335.630000</td>\n",
       "      <td>0.000000</td>\n",
       "      <td>12.000000</td>\n",
       "    </tr>\n",
       "    <tr>\n",
       "      <th>75%</th>\n",
       "      <td>2054.137500</td>\n",
       "      <td>1.000000</td>\n",
       "      <td>1110.130000</td>\n",
       "      <td>577.405000</td>\n",
       "      <td>468.637500</td>\n",
       "      <td>1113.822500</td>\n",
       "      <td>0.920000</td>\n",
       "      <td>0.300000</td>\n",
       "      <td>0.750000</td>\n",
       "      <td>0.220000</td>\n",
       "      <td>4.000000</td>\n",
       "      <td>17.000000</td>\n",
       "      <td>6500.000000</td>\n",
       "      <td>1901.135000</td>\n",
       "      <td>864.210000</td>\n",
       "      <td>0.140000</td>\n",
       "      <td>12.000000</td>\n",
       "    </tr>\n",
       "    <tr>\n",
       "      <th>max</th>\n",
       "      <td>19043.140000</td>\n",
       "      <td>1.000000</td>\n",
       "      <td>49039.570000</td>\n",
       "      <td>40761.250000</td>\n",
       "      <td>22500.000000</td>\n",
       "      <td>47137.210000</td>\n",
       "      <td>1.000000</td>\n",
       "      <td>1.000000</td>\n",
       "      <td>1.000000</td>\n",
       "      <td>1.500000</td>\n",
       "      <td>123.000000</td>\n",
       "      <td>358.000000</td>\n",
       "      <td>30000.000000</td>\n",
       "      <td>50721.480000</td>\n",
       "      <td>76406.210000</td>\n",
       "      <td>1.000000</td>\n",
       "      <td>12.000000</td>\n",
       "    </tr>\n",
       "  </tbody>\n",
       "</table>\n",
       "</div>"
      ],
      "text/plain": [
       "            BALANCE  BALANCE_FREQUENCY     PURCHASES  ONEOFF_PURCHASES  \\\n",
       "count   8950.000000        8950.000000   8950.000000       8950.000000   \n",
       "mean    1564.474826           0.877426   1003.204834        592.437371   \n",
       "std     2081.531851           0.237169   2136.634782       1659.887917   \n",
       "min        0.000000           0.000000      0.000000          0.000000   \n",
       "25%      128.280000           0.890000     39.635000          0.000000   \n",
       "50%      873.385000           1.000000    361.280000         38.000000   \n",
       "75%     2054.137500           1.000000   1110.130000        577.405000   \n",
       "max    19043.140000           1.000000  49039.570000      40761.250000   \n",
       "\n",
       "       INSTALLMENTS_PURCHASES  CASH_ADVANCE  PURCHASES_FREQUENCY  \\\n",
       "count             8950.000000   8950.000000          8950.000000   \n",
       "mean               411.067645    978.871102             0.490217   \n",
       "std                904.338115   2097.163869             0.401678   \n",
       "min                  0.000000      0.000000             0.000000   \n",
       "25%                  0.000000      0.000000             0.080000   \n",
       "50%                 89.000000      0.000000             0.500000   \n",
       "75%                468.637500   1113.822500             0.920000   \n",
       "max              22500.000000  47137.210000             1.000000   \n",
       "\n",
       "       ONEOFF_PURCHASES_FREQUENCY  PURCHASES_INSTALLMENTS_FREQUENCY  \\\n",
       "count                 8950.000000                       8950.000000   \n",
       "mean                     0.202177                          0.364553   \n",
       "std                      0.298555                          0.397623   \n",
       "min                      0.000000                          0.000000   \n",
       "25%                      0.000000                          0.000000   \n",
       "50%                      0.080000                          0.170000   \n",
       "75%                      0.300000                          0.750000   \n",
       "max                      1.000000                          1.000000   \n",
       "\n",
       "       CASH_ADVANCE_FREQUENCY  CASH_ADVANCE_TRX  PURCHASES_TRX  CREDIT_LIMIT  \\\n",
       "count             8950.000000       8950.000000    8950.000000   8950.000000   \n",
       "mean                 0.134911          3.248827      14.709832   4494.449450   \n",
       "std                  0.200262          6.824647      24.857649   3638.612412   \n",
       "min                  0.000000          0.000000       0.000000     50.000000   \n",
       "25%                  0.000000          0.000000       1.000000   1600.000000   \n",
       "50%                  0.000000          0.000000       7.000000   3000.000000   \n",
       "75%                  0.220000          4.000000      17.000000   6500.000000   \n",
       "max                  1.500000        123.000000     358.000000  30000.000000   \n",
       "\n",
       "           PAYMENTS  MINIMUM_PAYMENTS  PRC_FULL_PAYMENT       TENURE  \n",
       "count   8950.000000       8950.000000       8950.000000  8950.000000  \n",
       "mean    1733.143878        864.206687          0.153534    11.517318  \n",
       "std     2895.063787       2330.588020          0.292648     1.338331  \n",
       "min        0.000000          0.020000          0.000000     6.000000  \n",
       "25%      383.272500        170.857500          0.000000    12.000000  \n",
       "50%      856.900000        335.630000          0.000000    12.000000  \n",
       "75%     1901.135000        864.210000          0.140000    12.000000  \n",
       "max    50721.480000      76406.210000          1.000000    12.000000  "
      ]
     },
     "execution_count": 9,
     "metadata": {},
     "output_type": "execute_result"
    }
   ],
   "source": [
    "data.describe()"
   ]
  },
  {
   "cell_type": "markdown",
   "id": "dacf8749",
   "metadata": {
    "_cell_guid": "6c9a8a4c-cc0e-4be0-9d42-efc9ccddfd21",
    "_uuid": "9055f5f5-a1e2-4346-baea-3afed76bdbf5",
    "papermill": {
     "duration": 0.017649,
     "end_time": "2023-04-04T14:53:17.909800",
     "exception": false,
     "start_time": "2023-04-04T14:53:17.892151",
     "status": "completed"
    },
    "tags": []
   },
   "source": [
    "**Correlation table** to know relationship between features"
   ]
  },
  {
   "cell_type": "code",
   "execution_count": 10,
   "id": "fdb0a8a7",
   "metadata": {
    "_cell_guid": "6b6b6fe2-c2a5-42cf-9c8e-371947a86905",
    "_uuid": "7d5730f7-dc07-40fa-bab7-f1eb444b1daa",
    "collapsed": false,
    "execution": {
     "iopub.execute_input": "2023-04-04T14:53:17.947852Z",
     "iopub.status.busy": "2023-04-04T14:53:17.947452Z",
     "iopub.status.idle": "2023-04-04T14:53:17.985633Z",
     "shell.execute_reply": "2023-04-04T14:53:17.984507Z"
    },
    "jupyter": {
     "outputs_hidden": false
    },
    "papermill": {
     "duration": 0.059587,
     "end_time": "2023-04-04T14:53:17.987798",
     "exception": false,
     "start_time": "2023-04-04T14:53:17.928211",
     "status": "completed"
    },
    "tags": []
   },
   "outputs": [
    {
     "data": {
      "text/html": [
       "<div>\n",
       "<style scoped>\n",
       "    .dataframe tbody tr th:only-of-type {\n",
       "        vertical-align: middle;\n",
       "    }\n",
       "\n",
       "    .dataframe tbody tr th {\n",
       "        vertical-align: top;\n",
       "    }\n",
       "\n",
       "    .dataframe thead th {\n",
       "        text-align: right;\n",
       "    }\n",
       "</style>\n",
       "<table border=\"1\" class=\"dataframe\">\n",
       "  <thead>\n",
       "    <tr style=\"text-align: right;\">\n",
       "      <th></th>\n",
       "      <th>BALANCE</th>\n",
       "      <th>BALANCE_FREQUENCY</th>\n",
       "      <th>PURCHASES</th>\n",
       "      <th>ONEOFF_PURCHASES</th>\n",
       "      <th>INSTALLMENTS_PURCHASES</th>\n",
       "      <th>CASH_ADVANCE</th>\n",
       "      <th>PURCHASES_FREQUENCY</th>\n",
       "      <th>ONEOFF_PURCHASES_FREQUENCY</th>\n",
       "      <th>PURCHASES_INSTALLMENTS_FREQUENCY</th>\n",
       "      <th>CASH_ADVANCE_FREQUENCY</th>\n",
       "      <th>CASH_ADVANCE_TRX</th>\n",
       "      <th>PURCHASES_TRX</th>\n",
       "      <th>CREDIT_LIMIT</th>\n",
       "      <th>PAYMENTS</th>\n",
       "      <th>MINIMUM_PAYMENTS</th>\n",
       "      <th>PRC_FULL_PAYMENT</th>\n",
       "      <th>TENURE</th>\n",
       "    </tr>\n",
       "  </thead>\n",
       "  <tbody>\n",
       "    <tr>\n",
       "      <th>BALANCE</th>\n",
       "      <td>NaN</td>\n",
       "      <td>0.321915</td>\n",
       "      <td>0.181261</td>\n",
       "      <td>0.164350</td>\n",
       "      <td>0.126469</td>\n",
       "      <td>0.496692</td>\n",
       "      <td>-0.077849</td>\n",
       "      <td>0.073180</td>\n",
       "      <td>-0.063164</td>\n",
       "      <td>0.449174</td>\n",
       "      <td>0.385152</td>\n",
       "      <td>0.154338</td>\n",
       "      <td>NaN</td>\n",
       "      <td>0.322802</td>\n",
       "      <td>0.394282</td>\n",
       "      <td>-0.318776</td>\n",
       "      <td>0.072692</td>\n",
       "    </tr>\n",
       "    <tr>\n",
       "      <th>BALANCE_FREQUENCY</th>\n",
       "      <td>0.321915</td>\n",
       "      <td>NaN</td>\n",
       "      <td>0.133609</td>\n",
       "      <td>0.104225</td>\n",
       "      <td>0.124315</td>\n",
       "      <td>0.099400</td>\n",
       "      <td>0.230049</td>\n",
       "      <td>0.202483</td>\n",
       "      <td>0.176200</td>\n",
       "      <td>0.191735</td>\n",
       "      <td>0.141427</td>\n",
       "      <td>0.189429</td>\n",
       "      <td>0.095646</td>\n",
       "      <td>0.064976</td>\n",
       "      <td>0.114044</td>\n",
       "      <td>-0.094510</td>\n",
       "      <td>0.119524</td>\n",
       "    </tr>\n",
       "    <tr>\n",
       "      <th>PURCHASES</th>\n",
       "      <td>0.181261</td>\n",
       "      <td>0.133609</td>\n",
       "      <td>NaN</td>\n",
       "      <td>NaN</td>\n",
       "      <td>NaN</td>\n",
       "      <td>-0.051474</td>\n",
       "      <td>0.392921</td>\n",
       "      <td>0.498460</td>\n",
       "      <td>0.315497</td>\n",
       "      <td>-0.119933</td>\n",
       "      <td>-0.067175</td>\n",
       "      <td>NaN</td>\n",
       "      <td>0.356959</td>\n",
       "      <td>NaN</td>\n",
       "      <td>0.093514</td>\n",
       "      <td>0.180313</td>\n",
       "      <td>0.086288</td>\n",
       "    </tr>\n",
       "    <tr>\n",
       "      <th>ONEOFF_PURCHASES</th>\n",
       "      <td>0.164350</td>\n",
       "      <td>0.104225</td>\n",
       "      <td>NaN</td>\n",
       "      <td>NaN</td>\n",
       "      <td>0.330622</td>\n",
       "      <td>-0.031326</td>\n",
       "      <td>0.264855</td>\n",
       "      <td>NaN</td>\n",
       "      <td>0.127672</td>\n",
       "      <td>-0.082484</td>\n",
       "      <td>-0.046212</td>\n",
       "      <td>NaN</td>\n",
       "      <td>0.319721</td>\n",
       "      <td>NaN</td>\n",
       "      <td>0.048597</td>\n",
       "      <td>0.132712</td>\n",
       "      <td>0.064150</td>\n",
       "    </tr>\n",
       "    <tr>\n",
       "      <th>INSTALLMENTS_PURCHASES</th>\n",
       "      <td>0.126469</td>\n",
       "      <td>0.124315</td>\n",
       "      <td>NaN</td>\n",
       "      <td>0.330622</td>\n",
       "      <td>NaN</td>\n",
       "      <td>-0.064244</td>\n",
       "      <td>0.442342</td>\n",
       "      <td>0.214192</td>\n",
       "      <td>NaN</td>\n",
       "      <td>-0.132086</td>\n",
       "      <td>-0.073999</td>\n",
       "      <td>NaN</td>\n",
       "      <td>0.256496</td>\n",
       "      <td>0.384084</td>\n",
       "      <td>0.131687</td>\n",
       "      <td>0.182506</td>\n",
       "      <td>0.086143</td>\n",
       "    </tr>\n",
       "    <tr>\n",
       "      <th>CASH_ADVANCE</th>\n",
       "      <td>0.496692</td>\n",
       "      <td>0.099400</td>\n",
       "      <td>-0.051474</td>\n",
       "      <td>-0.031326</td>\n",
       "      <td>-0.064244</td>\n",
       "      <td>NaN</td>\n",
       "      <td>-0.215433</td>\n",
       "      <td>-0.086697</td>\n",
       "      <td>-0.177021</td>\n",
       "      <td>NaN</td>\n",
       "      <td>NaN</td>\n",
       "      <td>-0.075850</td>\n",
       "      <td>0.303983</td>\n",
       "      <td>0.453238</td>\n",
       "      <td>0.139223</td>\n",
       "      <td>-0.153032</td>\n",
       "      <td>-0.068312</td>\n",
       "    </tr>\n",
       "    <tr>\n",
       "      <th>PURCHASES_FREQUENCY</th>\n",
       "      <td>-0.077849</td>\n",
       "      <td>0.230049</td>\n",
       "      <td>0.392921</td>\n",
       "      <td>0.264855</td>\n",
       "      <td>0.442342</td>\n",
       "      <td>-0.215433</td>\n",
       "      <td>NaN</td>\n",
       "      <td>NaN</td>\n",
       "      <td>NaN</td>\n",
       "      <td>-0.307593</td>\n",
       "      <td>-0.203405</td>\n",
       "      <td>NaN</td>\n",
       "      <td>0.119751</td>\n",
       "      <td>0.103436</td>\n",
       "      <td>0.002964</td>\n",
       "      <td>0.305791</td>\n",
       "      <td>0.061451</td>\n",
       "    </tr>\n",
       "    <tr>\n",
       "      <th>ONEOFF_PURCHASES_FREQUENCY</th>\n",
       "      <td>0.073180</td>\n",
       "      <td>0.202483</td>\n",
       "      <td>0.498460</td>\n",
       "      <td>NaN</td>\n",
       "      <td>0.214192</td>\n",
       "      <td>-0.086697</td>\n",
       "      <td>NaN</td>\n",
       "      <td>NaN</td>\n",
       "      <td>0.142607</td>\n",
       "      <td>-0.111159</td>\n",
       "      <td>-0.068987</td>\n",
       "      <td>NaN</td>\n",
       "      <td>0.295032</td>\n",
       "      <td>0.243628</td>\n",
       "      <td>-0.029984</td>\n",
       "      <td>0.157709</td>\n",
       "      <td>0.082407</td>\n",
       "    </tr>\n",
       "    <tr>\n",
       "      <th>PURCHASES_INSTALLMENTS_FREQUENCY</th>\n",
       "      <td>-0.063164</td>\n",
       "      <td>0.176200</td>\n",
       "      <td>0.315497</td>\n",
       "      <td>0.127672</td>\n",
       "      <td>NaN</td>\n",
       "      <td>-0.177021</td>\n",
       "      <td>NaN</td>\n",
       "      <td>0.142607</td>\n",
       "      <td>NaN</td>\n",
       "      <td>-0.262349</td>\n",
       "      <td>-0.169193</td>\n",
       "      <td>NaN</td>\n",
       "      <td>0.060744</td>\n",
       "      <td>0.085513</td>\n",
       "      <td>0.029572</td>\n",
       "      <td>0.249980</td>\n",
       "      <td>0.073346</td>\n",
       "    </tr>\n",
       "    <tr>\n",
       "      <th>CASH_ADVANCE_FREQUENCY</th>\n",
       "      <td>0.449174</td>\n",
       "      <td>0.191735</td>\n",
       "      <td>-0.119933</td>\n",
       "      <td>-0.082484</td>\n",
       "      <td>-0.132086</td>\n",
       "      <td>NaN</td>\n",
       "      <td>-0.307593</td>\n",
       "      <td>-0.111159</td>\n",
       "      <td>-0.262349</td>\n",
       "      <td>NaN</td>\n",
       "      <td>NaN</td>\n",
       "      <td>-0.130835</td>\n",
       "      <td>0.132796</td>\n",
       "      <td>0.183119</td>\n",
       "      <td>0.097775</td>\n",
       "      <td>-0.249355</td>\n",
       "      <td>-0.133408</td>\n",
       "    </tr>\n",
       "    <tr>\n",
       "      <th>CASH_ADVANCE_TRX</th>\n",
       "      <td>0.385152</td>\n",
       "      <td>0.141427</td>\n",
       "      <td>-0.067175</td>\n",
       "      <td>-0.046212</td>\n",
       "      <td>-0.073999</td>\n",
       "      <td>NaN</td>\n",
       "      <td>-0.203405</td>\n",
       "      <td>-0.068987</td>\n",
       "      <td>-0.169193</td>\n",
       "      <td>NaN</td>\n",
       "      <td>NaN</td>\n",
       "      <td>-0.066157</td>\n",
       "      <td>0.149699</td>\n",
       "      <td>0.255278</td>\n",
       "      <td>0.109185</td>\n",
       "      <td>-0.169839</td>\n",
       "      <td>-0.043421</td>\n",
       "    </tr>\n",
       "    <tr>\n",
       "      <th>PURCHASES_TRX</th>\n",
       "      <td>0.154338</td>\n",
       "      <td>0.189429</td>\n",
       "      <td>NaN</td>\n",
       "      <td>NaN</td>\n",
       "      <td>NaN</td>\n",
       "      <td>-0.075850</td>\n",
       "      <td>NaN</td>\n",
       "      <td>NaN</td>\n",
       "      <td>NaN</td>\n",
       "      <td>-0.130835</td>\n",
       "      <td>-0.066157</td>\n",
       "      <td>NaN</td>\n",
       "      <td>0.272877</td>\n",
       "      <td>0.370832</td>\n",
       "      <td>0.095858</td>\n",
       "      <td>0.162009</td>\n",
       "      <td>0.121874</td>\n",
       "    </tr>\n",
       "    <tr>\n",
       "      <th>CREDIT_LIMIT</th>\n",
       "      <td>NaN</td>\n",
       "      <td>0.095646</td>\n",
       "      <td>0.356959</td>\n",
       "      <td>0.319721</td>\n",
       "      <td>0.256496</td>\n",
       "      <td>0.303983</td>\n",
       "      <td>0.119751</td>\n",
       "      <td>0.295032</td>\n",
       "      <td>0.060744</td>\n",
       "      <td>0.132796</td>\n",
       "      <td>0.149699</td>\n",
       "      <td>0.272877</td>\n",
       "      <td>NaN</td>\n",
       "      <td>0.421852</td>\n",
       "      <td>0.125134</td>\n",
       "      <td>0.055739</td>\n",
       "      <td>0.139034</td>\n",
       "    </tr>\n",
       "    <tr>\n",
       "      <th>PAYMENTS</th>\n",
       "      <td>0.322802</td>\n",
       "      <td>0.064976</td>\n",
       "      <td>NaN</td>\n",
       "      <td>NaN</td>\n",
       "      <td>0.384084</td>\n",
       "      <td>0.453238</td>\n",
       "      <td>0.103436</td>\n",
       "      <td>0.243628</td>\n",
       "      <td>0.085513</td>\n",
       "      <td>0.183119</td>\n",
       "      <td>0.255278</td>\n",
       "      <td>0.370832</td>\n",
       "      <td>0.421852</td>\n",
       "      <td>NaN</td>\n",
       "      <td>0.125046</td>\n",
       "      <td>0.111815</td>\n",
       "      <td>0.106136</td>\n",
       "    </tr>\n",
       "    <tr>\n",
       "      <th>MINIMUM_PAYMENTS</th>\n",
       "      <td>0.394282</td>\n",
       "      <td>0.114044</td>\n",
       "      <td>0.093514</td>\n",
       "      <td>0.048597</td>\n",
       "      <td>0.131687</td>\n",
       "      <td>0.139223</td>\n",
       "      <td>0.002964</td>\n",
       "      <td>-0.029984</td>\n",
       "      <td>0.029572</td>\n",
       "      <td>0.097775</td>\n",
       "      <td>0.109185</td>\n",
       "      <td>0.095858</td>\n",
       "      <td>0.125134</td>\n",
       "      <td>0.125046</td>\n",
       "      <td>NaN</td>\n",
       "      <td>-0.139594</td>\n",
       "      <td>0.057257</td>\n",
       "    </tr>\n",
       "    <tr>\n",
       "      <th>PRC_FULL_PAYMENT</th>\n",
       "      <td>-0.318776</td>\n",
       "      <td>-0.094510</td>\n",
       "      <td>0.180313</td>\n",
       "      <td>0.132712</td>\n",
       "      <td>0.182506</td>\n",
       "      <td>-0.153032</td>\n",
       "      <td>0.305791</td>\n",
       "      <td>0.157709</td>\n",
       "      <td>0.249980</td>\n",
       "      <td>-0.249355</td>\n",
       "      <td>-0.169839</td>\n",
       "      <td>0.162009</td>\n",
       "      <td>0.055739</td>\n",
       "      <td>0.111815</td>\n",
       "      <td>-0.139594</td>\n",
       "      <td>NaN</td>\n",
       "      <td>-0.016626</td>\n",
       "    </tr>\n",
       "    <tr>\n",
       "      <th>TENURE</th>\n",
       "      <td>0.072692</td>\n",
       "      <td>0.119524</td>\n",
       "      <td>0.086288</td>\n",
       "      <td>0.064150</td>\n",
       "      <td>0.086143</td>\n",
       "      <td>-0.068312</td>\n",
       "      <td>0.061451</td>\n",
       "      <td>0.082407</td>\n",
       "      <td>0.073346</td>\n",
       "      <td>-0.133408</td>\n",
       "      <td>-0.043421</td>\n",
       "      <td>0.121874</td>\n",
       "      <td>0.139034</td>\n",
       "      <td>0.106136</td>\n",
       "      <td>0.057257</td>\n",
       "      <td>-0.016626</td>\n",
       "      <td>NaN</td>\n",
       "    </tr>\n",
       "  </tbody>\n",
       "</table>\n",
       "</div>"
      ],
      "text/plain": [
       "                                   BALANCE  BALANCE_FREQUENCY  PURCHASES  \\\n",
       "BALANCE                                NaN           0.321915   0.181261   \n",
       "BALANCE_FREQUENCY                 0.321915                NaN   0.133609   \n",
       "PURCHASES                         0.181261           0.133609        NaN   \n",
       "ONEOFF_PURCHASES                  0.164350           0.104225        NaN   \n",
       "INSTALLMENTS_PURCHASES            0.126469           0.124315        NaN   \n",
       "CASH_ADVANCE                      0.496692           0.099400  -0.051474   \n",
       "PURCHASES_FREQUENCY              -0.077849           0.230049   0.392921   \n",
       "ONEOFF_PURCHASES_FREQUENCY        0.073180           0.202483   0.498460   \n",
       "PURCHASES_INSTALLMENTS_FREQUENCY -0.063164           0.176200   0.315497   \n",
       "CASH_ADVANCE_FREQUENCY            0.449174           0.191735  -0.119933   \n",
       "CASH_ADVANCE_TRX                  0.385152           0.141427  -0.067175   \n",
       "PURCHASES_TRX                     0.154338           0.189429        NaN   \n",
       "CREDIT_LIMIT                           NaN           0.095646   0.356959   \n",
       "PAYMENTS                          0.322802           0.064976        NaN   \n",
       "MINIMUM_PAYMENTS                  0.394282           0.114044   0.093514   \n",
       "PRC_FULL_PAYMENT                 -0.318776          -0.094510   0.180313   \n",
       "TENURE                            0.072692           0.119524   0.086288   \n",
       "\n",
       "                                  ONEOFF_PURCHASES  INSTALLMENTS_PURCHASES  \\\n",
       "BALANCE                                   0.164350                0.126469   \n",
       "BALANCE_FREQUENCY                         0.104225                0.124315   \n",
       "PURCHASES                                      NaN                     NaN   \n",
       "ONEOFF_PURCHASES                               NaN                0.330622   \n",
       "INSTALLMENTS_PURCHASES                    0.330622                     NaN   \n",
       "CASH_ADVANCE                             -0.031326               -0.064244   \n",
       "PURCHASES_FREQUENCY                       0.264855                0.442342   \n",
       "ONEOFF_PURCHASES_FREQUENCY                     NaN                0.214192   \n",
       "PURCHASES_INSTALLMENTS_FREQUENCY          0.127672                     NaN   \n",
       "CASH_ADVANCE_FREQUENCY                   -0.082484               -0.132086   \n",
       "CASH_ADVANCE_TRX                         -0.046212               -0.073999   \n",
       "PURCHASES_TRX                                  NaN                     NaN   \n",
       "CREDIT_LIMIT                              0.319721                0.256496   \n",
       "PAYMENTS                                       NaN                0.384084   \n",
       "MINIMUM_PAYMENTS                          0.048597                0.131687   \n",
       "PRC_FULL_PAYMENT                          0.132712                0.182506   \n",
       "TENURE                                    0.064150                0.086143   \n",
       "\n",
       "                                  CASH_ADVANCE  PURCHASES_FREQUENCY  \\\n",
       "BALANCE                               0.496692            -0.077849   \n",
       "BALANCE_FREQUENCY                     0.099400             0.230049   \n",
       "PURCHASES                            -0.051474             0.392921   \n",
       "ONEOFF_PURCHASES                     -0.031326             0.264855   \n",
       "INSTALLMENTS_PURCHASES               -0.064244             0.442342   \n",
       "CASH_ADVANCE                               NaN            -0.215433   \n",
       "PURCHASES_FREQUENCY                  -0.215433                  NaN   \n",
       "ONEOFF_PURCHASES_FREQUENCY           -0.086697                  NaN   \n",
       "PURCHASES_INSTALLMENTS_FREQUENCY     -0.177021                  NaN   \n",
       "CASH_ADVANCE_FREQUENCY                     NaN            -0.307593   \n",
       "CASH_ADVANCE_TRX                           NaN            -0.203405   \n",
       "PURCHASES_TRX                        -0.075850                  NaN   \n",
       "CREDIT_LIMIT                          0.303983             0.119751   \n",
       "PAYMENTS                              0.453238             0.103436   \n",
       "MINIMUM_PAYMENTS                      0.139223             0.002964   \n",
       "PRC_FULL_PAYMENT                     -0.153032             0.305791   \n",
       "TENURE                               -0.068312             0.061451   \n",
       "\n",
       "                                  ONEOFF_PURCHASES_FREQUENCY  \\\n",
       "BALANCE                                             0.073180   \n",
       "BALANCE_FREQUENCY                                   0.202483   \n",
       "PURCHASES                                           0.498460   \n",
       "ONEOFF_PURCHASES                                         NaN   \n",
       "INSTALLMENTS_PURCHASES                              0.214192   \n",
       "CASH_ADVANCE                                       -0.086697   \n",
       "PURCHASES_FREQUENCY                                      NaN   \n",
       "ONEOFF_PURCHASES_FREQUENCY                               NaN   \n",
       "PURCHASES_INSTALLMENTS_FREQUENCY                    0.142607   \n",
       "CASH_ADVANCE_FREQUENCY                             -0.111159   \n",
       "CASH_ADVANCE_TRX                                   -0.068987   \n",
       "PURCHASES_TRX                                            NaN   \n",
       "CREDIT_LIMIT                                        0.295032   \n",
       "PAYMENTS                                            0.243628   \n",
       "MINIMUM_PAYMENTS                                   -0.029984   \n",
       "PRC_FULL_PAYMENT                                    0.157709   \n",
       "TENURE                                              0.082407   \n",
       "\n",
       "                                  PURCHASES_INSTALLMENTS_FREQUENCY  \\\n",
       "BALANCE                                                  -0.063164   \n",
       "BALANCE_FREQUENCY                                         0.176200   \n",
       "PURCHASES                                                 0.315497   \n",
       "ONEOFF_PURCHASES                                          0.127672   \n",
       "INSTALLMENTS_PURCHASES                                         NaN   \n",
       "CASH_ADVANCE                                             -0.177021   \n",
       "PURCHASES_FREQUENCY                                            NaN   \n",
       "ONEOFF_PURCHASES_FREQUENCY                                0.142607   \n",
       "PURCHASES_INSTALLMENTS_FREQUENCY                               NaN   \n",
       "CASH_ADVANCE_FREQUENCY                                   -0.262349   \n",
       "CASH_ADVANCE_TRX                                         -0.169193   \n",
       "PURCHASES_TRX                                                  NaN   \n",
       "CREDIT_LIMIT                                              0.060744   \n",
       "PAYMENTS                                                  0.085513   \n",
       "MINIMUM_PAYMENTS                                          0.029572   \n",
       "PRC_FULL_PAYMENT                                          0.249980   \n",
       "TENURE                                                    0.073346   \n",
       "\n",
       "                                  CASH_ADVANCE_FREQUENCY  CASH_ADVANCE_TRX  \\\n",
       "BALANCE                                         0.449174          0.385152   \n",
       "BALANCE_FREQUENCY                               0.191735          0.141427   \n",
       "PURCHASES                                      -0.119933         -0.067175   \n",
       "ONEOFF_PURCHASES                               -0.082484         -0.046212   \n",
       "INSTALLMENTS_PURCHASES                         -0.132086         -0.073999   \n",
       "CASH_ADVANCE                                         NaN               NaN   \n",
       "PURCHASES_FREQUENCY                            -0.307593         -0.203405   \n",
       "ONEOFF_PURCHASES_FREQUENCY                     -0.111159         -0.068987   \n",
       "PURCHASES_INSTALLMENTS_FREQUENCY               -0.262349         -0.169193   \n",
       "CASH_ADVANCE_FREQUENCY                               NaN               NaN   \n",
       "CASH_ADVANCE_TRX                                     NaN               NaN   \n",
       "PURCHASES_TRX                                  -0.130835         -0.066157   \n",
       "CREDIT_LIMIT                                    0.132796          0.149699   \n",
       "PAYMENTS                                        0.183119          0.255278   \n",
       "MINIMUM_PAYMENTS                                0.097775          0.109185   \n",
       "PRC_FULL_PAYMENT                               -0.249355         -0.169839   \n",
       "TENURE                                         -0.133408         -0.043421   \n",
       "\n",
       "                                  PURCHASES_TRX  CREDIT_LIMIT  PAYMENTS  \\\n",
       "BALANCE                                0.154338           NaN  0.322802   \n",
       "BALANCE_FREQUENCY                      0.189429      0.095646  0.064976   \n",
       "PURCHASES                                   NaN      0.356959       NaN   \n",
       "ONEOFF_PURCHASES                            NaN      0.319721       NaN   \n",
       "INSTALLMENTS_PURCHASES                      NaN      0.256496  0.384084   \n",
       "CASH_ADVANCE                          -0.075850      0.303983  0.453238   \n",
       "PURCHASES_FREQUENCY                         NaN      0.119751  0.103436   \n",
       "ONEOFF_PURCHASES_FREQUENCY                  NaN      0.295032  0.243628   \n",
       "PURCHASES_INSTALLMENTS_FREQUENCY            NaN      0.060744  0.085513   \n",
       "CASH_ADVANCE_FREQUENCY                -0.130835      0.132796  0.183119   \n",
       "CASH_ADVANCE_TRX                      -0.066157      0.149699  0.255278   \n",
       "PURCHASES_TRX                               NaN      0.272877  0.370832   \n",
       "CREDIT_LIMIT                           0.272877           NaN  0.421852   \n",
       "PAYMENTS                               0.370832      0.421852       NaN   \n",
       "MINIMUM_PAYMENTS                       0.095858      0.125134  0.125046   \n",
       "PRC_FULL_PAYMENT                       0.162009      0.055739  0.111815   \n",
       "TENURE                                 0.121874      0.139034  0.106136   \n",
       "\n",
       "                                  MINIMUM_PAYMENTS  PRC_FULL_PAYMENT    TENURE  \n",
       "BALANCE                                   0.394282         -0.318776  0.072692  \n",
       "BALANCE_FREQUENCY                         0.114044         -0.094510  0.119524  \n",
       "PURCHASES                                 0.093514          0.180313  0.086288  \n",
       "ONEOFF_PURCHASES                          0.048597          0.132712  0.064150  \n",
       "INSTALLMENTS_PURCHASES                    0.131687          0.182506  0.086143  \n",
       "CASH_ADVANCE                              0.139223         -0.153032 -0.068312  \n",
       "PURCHASES_FREQUENCY                       0.002964          0.305791  0.061451  \n",
       "ONEOFF_PURCHASES_FREQUENCY               -0.029984          0.157709  0.082407  \n",
       "PURCHASES_INSTALLMENTS_FREQUENCY          0.029572          0.249980  0.073346  \n",
       "CASH_ADVANCE_FREQUENCY                    0.097775         -0.249355 -0.133408  \n",
       "CASH_ADVANCE_TRX                          0.109185         -0.169839 -0.043421  \n",
       "PURCHASES_TRX                             0.095858          0.162009  0.121874  \n",
       "CREDIT_LIMIT                              0.125134          0.055739  0.139034  \n",
       "PAYMENTS                                  0.125046          0.111815  0.106136  \n",
       "MINIMUM_PAYMENTS                               NaN         -0.139594  0.057257  \n",
       "PRC_FULL_PAYMENT                         -0.139594               NaN -0.016626  \n",
       "TENURE                                    0.057257         -0.016626       NaN  "
      ]
     },
     "execution_count": 10,
     "metadata": {},
     "output_type": "execute_result"
    }
   ],
   "source": [
    "corr_matrix = data.corr()\n",
    "corr_matrix[corr_matrix<=0.5]"
   ]
  },
  {
   "cell_type": "markdown",
   "id": "e80fa0d6",
   "metadata": {
    "_cell_guid": "fe33473e-3bd1-4b30-93e0-0322c6242d1c",
    "_uuid": "5b5af4c3-7ad1-4df7-a398-02dfad21fbc8",
    "papermill": {
     "duration": 0.018394,
     "end_time": "2023-04-04T14:53:18.025060",
     "exception": false,
     "start_time": "2023-04-04T14:53:18.006666",
     "status": "completed"
    },
    "tags": []
   },
   "source": [
    "# Choosing Number of Clusters\n",
    "\n",
    "Choosing the appropriate value of k is an important step in K-means clustering. There are several methods to determine the optimal number of clusters. Here are some common methods:\n",
    "\n",
    "* Elbow method: This method involves plotting the within-cluster sum of squares (WCSS) against the number of clusters k and selecting the value of k at the \"elbow\" of the curve, which represents a significant drop in the WCSS. The idea is that as we increase the number of clusters, the WCSS will decrease, but at some point, the marginal decrease in WCSS will become less significant. The elbow point represents the optimal value of k that balances the trade-off between model complexity and clustering performance.\n",
    "* Silhouette score: This method measures the quality of clustering by computing the average distance between each point and its own cluster compared to the average distance to the nearest neighboring cluster. The score ranges from -1 to 1, with higher values indicating better-defined clusters. The optimal value of k corresponds to the highest silhouette score.\n",
    "* Gap statistic: This method compares the within-cluster dispersion for different values of k with that of a null reference distribution generated by randomly shuffling the data. The optimal value of k corresponds to the point at which the gap between the within-cluster dispersion and the null reference distribution is the largest.\n",
    "* Average silhouette width: This method computes the average silhouette score for each value of k and selects the value of k that maximizes the average silhouette width.\n",
    "\n",
    "In practice, there is no single \"best\" method for choosing k, and different methods may produce different values of k. Therefore, it is recommended to try different methods and compare the results to make an informed decision."
   ]
  },
  {
   "cell_type": "markdown",
   "id": "625f860e",
   "metadata": {
    "_cell_guid": "b0be2332-9cfb-4b51-ba7e-e4918366825c",
    "_uuid": "bf28e11f-9b16-491a-a58d-0b976c7b8aae",
    "papermill": {
     "duration": 0.018374,
     "end_time": "2023-04-04T14:53:18.062034",
     "exception": false,
     "start_time": "2023-04-04T14:53:18.043660",
     "status": "completed"
    },
    "tags": []
   },
   "source": [
    "> matplotlib\n",
    "\n",
    "Matplotlib is a plotting library for the Python programming language and its numerical mathematics extension NumPy. It provides an object-oriented API for embedding plots into applications using general-purpose GUI toolkits like Tkinter, wxPython, Qt, or GTK.\n",
    "\n",
    "> sklearn\n",
    "\n",
    "Scikit-learn (Sklearn) is the most useful and robust library for machine learning in Python. It provides a selection of efficient tools for machine learning and statistical modeling including classification, regression, clustering and dimensionality reduction via a consistence interface in Python."
   ]
  },
  {
   "cell_type": "code",
   "execution_count": 11,
   "id": "fa486348",
   "metadata": {
    "_cell_guid": "251b0772-2db7-4ba2-a245-1ec2f1a88557",
    "_uuid": "380198a2-a274-4182-9454-86aae12b58a1",
    "collapsed": false,
    "execution": {
     "iopub.execute_input": "2023-04-04T14:53:18.101611Z",
     "iopub.status.busy": "2023-04-04T14:53:18.100948Z",
     "iopub.status.idle": "2023-04-04T14:53:46.382548Z",
     "shell.execute_reply": "2023-04-04T14:53:46.381190Z"
    },
    "jupyter": {
     "outputs_hidden": false
    },
    "papermill": {
     "duration": 28.304546,
     "end_time": "2023-04-04T14:53:46.385272",
     "exception": false,
     "start_time": "2023-04-04T14:53:18.080726",
     "status": "completed"
    },
    "tags": []
   },
   "outputs": [
    {
     "data": {
      "image/png": "[encoded data removed]",
      "text/plain": [
       "<Figure size 640x480 with 1 Axes>"
      ]
     },
     "metadata": {},
     "output_type": "display_data"
    }
   ],
   "source": [
    "import pandas as pd\n",
    "import numpy as np\n",
    "import matplotlib.pyplot as plt\n",
    "from sklearn.cluster import KMeans\n",
    "\n",
    "# load data\n",
    "X = data\n",
    "\n",
    "# calculate within-cluster sum of squares for different values of k\n",
    "wcss = []\n",
    "for k in range(1, 16):\n",
    "    kmeans = KMeans(n_clusters=k, init='k-means++', max_iter=300, n_init=10, random_state=0)\n",
    "    kmeans.fit(X)\n",
    "    wcss.append(kmeans.inertia_)\n",
    "\n",
    "# plot the elbow curve\n",
    "plt.plot(range(1, 16), wcss)\n",
    "plt.title('Elbow Method')\n",
    "plt.xlabel('Number of clusters')\n",
    "plt.ylabel('WCSS')\n",
    "plt.show()"
   ]
  },
  {
   "cell_type": "markdown",
   "id": "abf10794",
   "metadata": {
    "_cell_guid": "67125749-f6c8-4fe5-838f-281d70ce61e7",
    "_uuid": "b55ed459-59e8-4eb7-8c75-fa6ddfe124df",
    "papermill": {
     "duration": 0.019539,
     "end_time": "2023-04-04T14:53:46.425145",
     "exception": false,
     "start_time": "2023-04-04T14:53:46.405606",
     "status": "completed"
    },
    "tags": []
   },
   "source": [
    "We are not able to clearly defined a differentation point from the visual graph. K can be anywhere around 2 to 12"
   ]
  },
  {
   "cell_type": "code",
   "execution_count": 12,
   "id": "5dc81311",
   "metadata": {
    "_cell_guid": "8c8f7cac-26d1-4522-816b-0882d39b0824",
    "_uuid": "534bca47-4629-457b-869a-2568cdaa08f7",
    "collapsed": false,
    "execution": {
     "iopub.execute_input": "2023-04-04T14:53:46.465984Z",
     "iopub.status.busy": "2023-04-04T14:53:46.465551Z",
     "iopub.status.idle": "2023-04-04T14:54:29.383888Z",
     "shell.execute_reply": "2023-04-04T14:54:29.381956Z"
    },
    "jupyter": {
     "outputs_hidden": false
    },
    "papermill": {
     "duration": 42.94432,
     "end_time": "2023-04-04T14:54:29.388871",
     "exception": false,
     "start_time": "2023-04-04T14:53:46.444551",
     "status": "completed"
    },
    "tags": []
   },
   "outputs": [],
   "source": [
    "from sklearn.metrics import silhouette_score,calinski_harabasz_score,davies_bouldin_score\n",
    "# Let's try to plot other metrics in the same chart as well\n",
    "\n",
    "silhouette = []\n",
    "davies_bouldin = []\n",
    "\n",
    "for i in range(2, 16): \n",
    "    kmeans = KMeans(n_clusters = i, random_state = 0)\n",
    "    labels = kmeans.fit_predict(X)\n",
    "    silhouette.append(silhouette_score(data, labels))\n",
    "    davies_bouldin.append(davies_bouldin_score(data, labels))"
   ]
  },
  {
   "cell_type": "markdown",
   "id": "4ab06972",
   "metadata": {
    "_cell_guid": "c696035a-acd9-4e09-8f8c-142033a13260",
    "_uuid": "b51882ce-9fe8-4049-ba48-22c609f5291e",
    "papermill": {
     "duration": 0.052217,
     "end_time": "2023-04-04T14:54:29.493233",
     "exception": false,
     "start_time": "2023-04-04T14:54:29.441016",
     "status": "completed"
    },
    "tags": []
   },
   "source": [
    "Let's also consider other methods to choose number of K:\n",
    "\n",
    "* The **Silhouette Coefficient** is calculated using the mean intra-cluster distance (a) and the mean nearest-cluster distance (b) for each sample. The Silhouette Coefficient for a sample is (b - a) / max(a, b). To clarify, b is the distance between a sample and the nearest cluster that the sample is not a part of. Note that Silhouette Coefficient is only defined if number of labels is 2 <= n_labels <= n_samples - 1. This function returns the mean Silhouette Coefficient over all samples. To obtain the values for each sample, use silhouette_samples. The best value is 1 and the worst value is -1. Values near 0 indicate overlapping clusters. Negative values generally indicate that a sample has been assigned to the wrong cluster, as a different cluster is more similar.\n",
    "\n",
    "* **Calinski-Harabasz (CH) Index** (introduced by Calinski and Harabasz in 1974) can be used to evaluate the model when ground truth labels are not known where the validation of how well the clustering has been done is made using quantities and features inherent to the dataset. The CH Index (also known as Variance ratio criterion) is a measure of how similar an object is to its own cluster (cohesion) compared to other clusters (separation). Here cohesion is estimated based on the distances from the data points in a cluster to its cluster centroid and separation is based on the distance of the cluster centroids from the global centroid. CH index has a form of (a . Separation)/(b . Cohesion) , where a and b are weights. Higher value of CH index means the clusters are dense and well separated, although there is no “acceptable” cut-off value. We need to choose that solution which gives a peak or at least an abrupt elbow on the line plot of CH indices. On the other hand, if the line is smooth (horizontal or ascending or descending) then there is no such reason to prefer one solution over others. \n",
    "\n",
    "* **Davies-Bouldin score**. The score is defined as the average similarity measure of each cluster with its most similar cluster, where similarity is the ratio of within-cluster distances to between-cluster distances. Thus, clusters which are farther apart and less dispersed will result in a better score. The minimum score is zero, with lower values indicating better clustering."
   ]
  },
  {
   "cell_type": "code",
   "execution_count": 13,
   "id": "2946dc85",
   "metadata": {
    "_cell_guid": "b02bb891-6c11-4d76-9e23-54cc5b90beed",
    "_uuid": "5895076d-d4e2-4ce4-996b-af0a5ca25a56",
    "collapsed": false,
    "execution": {
     "iopub.execute_input": "2023-04-04T14:54:29.539988Z",
     "iopub.status.busy": "2023-04-04T14:54:29.539567Z",
     "iopub.status.idle": "2023-04-04T14:54:29.745583Z",
     "shell.execute_reply": "2023-04-04T14:54:29.744304Z"
    },
    "jupyter": {
     "outputs_hidden": false
    },
    "papermill": {
     "duration": 0.230879,
     "end_time": "2023-04-04T14:54:29.748404",
     "exception": false,
     "start_time": "2023-04-04T14:54:29.517525",
     "status": "completed"
    },
    "tags": []
   },
   "outputs": [
    {
     "data": {
      "image/png": "[encoded data removed]",
      "text/plain": [
       "<Figure size 640x480 with 1 Axes>"
      ]
     },
     "metadata": {},
     "output_type": "display_data"
    }
   ],
   "source": [
    "kvalue = range(2, 16)\n",
    "plt.plot(kvalue, silhouette, marker='o')\n",
    "plt.plot(kvalue, davies_bouldin, marker='*')\n",
    "plt.show()"
   ]
  },
  {
   "cell_type": "markdown",
   "id": "0acdaef7",
   "metadata": {
    "_cell_guid": "e11bf788-beef-43a2-bc38-b8b9f11785ac",
    "_uuid": "c0f8422b-41ba-4c6a-9a1f-21bba277db1f",
    "papermill": {
     "duration": 0.01962,
     "end_time": "2023-04-04T14:54:29.788663",
     "exception": false,
     "start_time": "2023-04-04T14:54:29.769043",
     "status": "completed"
    },
    "tags": []
   },
   "source": [
    "We can see that both the lines are closest to each other around 3, 7 and probably 10. Let's keep our range of cluster groups from 2-11 to calculate clustering score. We can iterated these cluster group number and get the numerical result, where we have more confidence."
   ]
  },
  {
   "cell_type": "code",
   "execution_count": 14,
   "id": "ff59f830",
   "metadata": {
    "_cell_guid": "3534418d-8d09-4dde-ad86-f0377fcdaf9d",
    "_uuid": "eb3e3f9a-1129-4cda-876a-a9d898ed2050",
    "collapsed": false,
    "execution": {
     "iopub.execute_input": "2023-04-04T14:54:29.831068Z",
     "iopub.status.busy": "2023-04-04T14:54:29.829949Z",
     "iopub.status.idle": "2023-04-04T14:54:44.590341Z",
     "shell.execute_reply": "2023-04-04T14:54:44.588905Z"
    },
    "jupyter": {
     "outputs_hidden": false
    },
    "papermill": {
     "duration": 14.784677,
     "end_time": "2023-04-04T14:54:44.593286",
     "exception": false,
     "start_time": "2023-04-04T14:54:29.808609",
     "status": "completed"
    },
    "tags": []
   },
   "outputs": [
    {
     "name": "stdout",
     "output_type": "stream",
     "text": [
      "Collecting scikit-fuzzy\r\n",
      "  Downloading scikit-fuzzy-0.4.2.tar.gz (993 kB)\r\n",
      "\u001b[2K     \u001b[90m━━━━━━━━━━━━━━━━━━━━━━━━━━━━━━━━━━━━━━\u001b[0m \u001b[32m994.0/994.0 kB\u001b[0m \u001b[31m18.8 MB/s\u001b[0m eta \u001b[36m0:00:00\u001b[0m\r\n",
      "\u001b[?25h  Preparing metadata (setup.py) ... \u001b[?25l-\b \bdone\r\n",
      "\u001b[?25hRequirement already satisfied: numpy>=1.6.0 in /opt/conda/lib/python3.7/site-packages (from scikit-fuzzy) (1.21.6)\r\n",
      "Requirement already satisfied: scipy>=0.9.0 in /opt/conda/lib/python3.7/site-packages (from scikit-fuzzy) (1.7.3)\r\n",
      "Requirement already satisfied: networkx>=1.9.0 in /opt/conda/lib/python3.7/site-packages (from scikit-fuzzy) (2.6.3)\r\n",
      "Building wheels for collected packages: scikit-fuzzy\r\n",
      "  Building wheel for scikit-fuzzy (setup.py) ... \u001b[?25l-\b \b\\\b \bdone\r\n",
      "\u001b[?25h  Created wheel for scikit-fuzzy: filename=scikit_fuzzy-0.4.2-py3-none-any.whl size=894088 sha256=4429312df624572d53afcedfa7cb7f7e8fc2f6ae04ec498a59e1463df927a0c8\r\n",
      "  Stored in directory: /root/.cache/pip/wheels/54/07/81/0c3a15b7bc115d78892a6d8ece8352b4559f1f5d3fc015be9a\r\n",
      "Successfully built scikit-fuzzy\r\n",
      "Installing collected packages: scikit-fuzzy\r\n",
      "Successfully installed scikit-fuzzy-0.4.2\r\n",
      "\u001b[33mWARNING: Running pip as the 'root' user can result in broken permissions and conflicting behaviour with the system package manager. It is recommended to use a virtual environment instead: https://pip.pypa.io/warnings/venv\u001b[0m\u001b[33m\r\n",
      "\u001b[0mNote: you may need to restart the kernel to use updated packages.\n"
     ]
    }
   ],
   "source": [
    "pip install -U scikit-fuzzy"
   ]
  },
  {
   "cell_type": "markdown",
   "id": "7a290fc5",
   "metadata": {
    "_cell_guid": "049ec856-c014-4b6d-be32-399894405dfc",
    "_uuid": "034d339e-1a18-4871-a6b1-ab9396e88ec7",
    "papermill": {
     "duration": 0.02093,
     "end_time": "2023-04-04T14:54:44.635449",
     "exception": false,
     "start_time": "2023-04-04T14:54:44.614519",
     "status": "completed"
    },
    "tags": []
   },
   "source": [
    "> scikitfuzzy / skfuzzy\n",
    "\n",
    "Scikit-Fuzzy is a collection of fuzzy logic algorithms intended for use in the SciPy Stack, written in the Python computing language. This SciKit is developed by the SciPy community.\n",
    "\n",
    "> scipy\n",
    "\n",
    "SciPy is a collection of mathematical algorithms and convenience functions built on the NumPy extension of Python. It adds significant power to the interactive Python session by providing the user with high-level commands and classes for manipulating and visualizing data."
   ]
  },
  {
   "cell_type": "code",
   "execution_count": 15,
   "id": "d7c7cbcc",
   "metadata": {
    "_cell_guid": "1edd09b1-a245-479f-bce8-22bfc39d08dd",
    "_uuid": "f0b3f1d9-a8f7-4907-9f1a-38018daed71b",
    "collapsed": false,
    "execution": {
     "iopub.execute_input": "2023-04-04T14:54:44.680306Z",
     "iopub.status.busy": "2023-04-04T14:54:44.679884Z",
     "iopub.status.idle": "2023-04-04T14:54:44.911628Z",
     "shell.execute_reply": "2023-04-04T14:54:44.910201Z"
    },
    "jupyter": {
     "outputs_hidden": false
    },
    "papermill": {
     "duration": 0.257766,
     "end_time": "2023-04-04T14:54:44.914601",
     "exception": false,
     "start_time": "2023-04-04T14:54:44.656835",
     "status": "completed"
    },
    "tags": []
   },
   "outputs": [],
   "source": [
    "from sklearn.cluster import KMeans, DBSCAN, AgglomerativeClustering\n",
    "import skfuzzy as fuzz\n",
    "from skfuzzy.cluster import cmeans\n",
    "import scipy.cluster.hierarchy as sch\n",
    "from sklearn.preprocessing import StandardScaler\n",
    "from scipy.stats import zscore\n",
    "from sklearn.preprocessing import MinMaxScaler\n",
    "\n",
    "X = data\n",
    "\n",
    "#converting to dataframe for compatibility\n",
    "X = pd.DataFrame(X)\n",
    "\n",
    "# standardize the data\n",
    "#scaler = StandardScaler()\n",
    "#to_be_cleaned = scaler.fit_transform(X)\n",
    "\n",
    "# Instantiate a MinMaxScaler object\n",
    "scaler = MinMaxScaler()\n",
    "# Fit the scaler to your dataset and transform it\n",
    "scaled_data = scaler.fit_transform(X)\n",
    "# Create a new pandas dataframe with the scaled data\n",
    "\n",
    "#saving the nsame of columns\n",
    "to_be_cleaned = pd.DataFrame(scaled_data, columns=X.columns)\n",
    "\n",
    "#to_be_cleaned = pd.DataFrame(to_be_cleaned, columns=X.columns)\n",
    "z_threshold = 3\n",
    "\n",
    "# iterate over each column in the DataFrame\n",
    "for column in to_be_cleaned.columns:\n",
    "    # calculate the z-score for each data point in the column\n",
    "    z_scores = np.abs((to_be_cleaned[column] - to_be_cleaned[column].mean()) / to_be_cleaned[column].std())\n",
    "\n",
    "    # remove any data point with a z-score greater than the threshold\n",
    "    to_be_cleaned = to_be_cleaned[z_scores <= z_threshold]\n",
    "\n",
    "# convert the NumPy array back to a pandas DataFrame\n",
    "to_be_cleaned = pd.DataFrame(to_be_cleaned, columns=X.columns)\n",
    "\n",
    "# descale the data\n",
    "cleaned_data = scaler.inverse_transform(to_be_cleaned)\n",
    "cleaned_data = pd.DataFrame(cleaned_data, columns=X.columns)\n",
    "\n",
    "# save the cleaned dataset to a new file\n",
    "to_be_cleaned.to_csv('my_cleaned_dataset.csv', index=False)"
   ]
  },
  {
   "cell_type": "markdown",
   "id": "2f42b0cc",
   "metadata": {
    "_cell_guid": "3293fb02-39a6-4e45-bc98-f7cbb606b97b",
    "_uuid": "0f96616c-ae48-4186-9c8c-a5a584b89574",
    "papermill": {
     "duration": 0.02065,
     "end_time": "2023-04-04T14:54:44.960452",
     "exception": false,
     "start_time": "2023-04-04T14:54:44.939802",
     "status": "completed"
    },
    "tags": []
   },
   "source": [
    "Here we took our data and scaled all the feature values in range of 0-1 for standardization to help train our model much better. Then we iterated values of threshold for outlier removal. Best case was found when threshold was set to 3, data was not much removed but had significant improvement in clustering result as compared to orginial data with outliers."
   ]
  },
  {
   "cell_type": "code",
   "execution_count": 16,
   "id": "e60501ac",
   "metadata": {
    "_cell_guid": "3bc4e113-b0f7-4db1-b3cc-89da501bca82",
    "_uuid": "f355bb60-b699-400f-99c9-4e55efd166a4",
    "collapsed": false,
    "execution": {
     "iopub.execute_input": "2023-04-04T14:54:45.004646Z",
     "iopub.status.busy": "2023-04-04T14:54:45.003704Z",
     "iopub.status.idle": "2023-04-04T14:54:45.029633Z",
     "shell.execute_reply": "2023-04-04T14:54:45.028374Z"
    },
    "jupyter": {
     "outputs_hidden": false
    },
    "papermill": {
     "duration": 0.051194,
     "end_time": "2023-04-04T14:54:45.032571",
     "exception": false,
     "start_time": "2023-04-04T14:54:44.981377",
     "status": "completed"
    },
    "tags": []
   },
   "outputs": [
    {
     "name": "stdout",
     "output_type": "stream",
     "text": [
      "(6708, 17)\n"
     ]
    }
   ],
   "source": [
    "data_with_no_outliers = pd.read_csv(\"/kaggle/working/my_cleaned_dataset.csv\")\n",
    "X_std = data_with_no_outliers\n",
    "print(X_std.shape)"
   ]
  },
  {
   "cell_type": "code",
   "execution_count": 17,
   "id": "fadd381b",
   "metadata": {
    "_cell_guid": "ae83068f-5e7e-4dd2-9696-4ed19d8feba2",
    "_uuid": "0df3b4f5-a766-4121-a311-175d7869db43",
    "collapsed": false,
    "execution": {
     "iopub.execute_input": "2023-04-04T14:54:45.076503Z",
     "iopub.status.busy": "2023-04-04T14:54:45.076051Z",
     "iopub.status.idle": "2023-04-04T14:54:45.199661Z",
     "shell.execute_reply": "2023-04-04T14:54:45.198193Z"
    },
    "jupyter": {
     "outputs_hidden": false
    },
    "papermill": {
     "duration": 0.148718,
     "end_time": "2023-04-04T14:54:45.202341",
     "exception": false,
     "start_time": "2023-04-04T14:54:45.053623",
     "status": "completed"
    },
    "tags": []
   },
   "outputs": [
    {
     "name": "stdout",
     "output_type": "stream",
     "text": [
      "(6708, 17)\n"
     ]
    }
   ],
   "source": [
    "X_std_descaled = scaler.inverse_transform(data_with_no_outliers)\n",
    "X_std_descaled = pd.DataFrame(X_std_descaled, columns=X.columns)\n",
    "X_std_descaled.to_csv('my_cleaned_dataset_not_scaled.csv', index=False)\n",
    "print(X_std_descaled.shape)"
   ]
  },
  {
   "cell_type": "code",
   "execution_count": 18,
   "id": "f7febd13",
   "metadata": {
    "_cell_guid": "7ef13b5f-a3c1-4fe3-b3f6-6ed896be9d8f",
    "_uuid": "b0d8c41f-e630-486f-b5de-dbe72aac794d",
    "collapsed": false,
    "execution": {
     "iopub.execute_input": "2023-04-04T14:54:45.246709Z",
     "iopub.status.busy": "2023-04-04T14:54:45.245772Z",
     "iopub.status.idle": "2023-04-04T14:54:45.310172Z",
     "shell.execute_reply": "2023-04-04T14:54:45.308967Z"
    },
    "jupyter": {
     "outputs_hidden": false
    },
    "papermill": {
     "duration": 0.089428,
     "end_time": "2023-04-04T14:54:45.312699",
     "exception": false,
     "start_time": "2023-04-04T14:54:45.223271",
     "status": "completed"
    },
    "tags": []
   },
   "outputs": [
    {
     "data": {
      "text/html": [
       "<div>\n",
       "<style scoped>\n",
       "    .dataframe tbody tr th:only-of-type {\n",
       "        vertical-align: middle;\n",
       "    }\n",
       "\n",
       "    .dataframe tbody tr th {\n",
       "        vertical-align: top;\n",
       "    }\n",
       "\n",
       "    .dataframe thead th {\n",
       "        text-align: right;\n",
       "    }\n",
       "</style>\n",
       "<table border=\"1\" class=\"dataframe\">\n",
       "  <thead>\n",
       "    <tr style=\"text-align: right;\">\n",
       "      <th></th>\n",
       "      <th>BALANCE</th>\n",
       "      <th>BALANCE_FREQUENCY</th>\n",
       "      <th>PURCHASES</th>\n",
       "      <th>ONEOFF_PURCHASES</th>\n",
       "      <th>INSTALLMENTS_PURCHASES</th>\n",
       "      <th>CASH_ADVANCE</th>\n",
       "      <th>PURCHASES_FREQUENCY</th>\n",
       "      <th>ONEOFF_PURCHASES_FREQUENCY</th>\n",
       "      <th>PURCHASES_INSTALLMENTS_FREQUENCY</th>\n",
       "      <th>CASH_ADVANCE_FREQUENCY</th>\n",
       "      <th>CASH_ADVANCE_TRX</th>\n",
       "      <th>PURCHASES_TRX</th>\n",
       "      <th>CREDIT_LIMIT</th>\n",
       "      <th>PAYMENTS</th>\n",
       "      <th>MINIMUM_PAYMENTS</th>\n",
       "      <th>PRC_FULL_PAYMENT</th>\n",
       "      <th>TENURE</th>\n",
       "    </tr>\n",
       "  </thead>\n",
       "  <tbody>\n",
       "    <tr>\n",
       "      <th>count</th>\n",
       "      <td>6708.000000</td>\n",
       "      <td>6708.000000</td>\n",
       "      <td>6708.000000</td>\n",
       "      <td>6708.000000</td>\n",
       "      <td>6708.000000</td>\n",
       "      <td>6708.000000</td>\n",
       "      <td>6708.000000</td>\n",
       "      <td>6708.000000</td>\n",
       "      <td>6708.000000</td>\n",
       "      <td>6708.000000</td>\n",
       "      <td>6708.000000</td>\n",
       "      <td>6708.000000</td>\n",
       "      <td>6708.000000</td>\n",
       "      <td>6708.000000</td>\n",
       "      <td>6708.000000</td>\n",
       "      <td>6708.000000</td>\n",
       "      <td>6708.000000</td>\n",
       "    </tr>\n",
       "    <tr>\n",
       "      <th>mean</th>\n",
       "      <td>0.061757</td>\n",
       "      <td>0.885078</td>\n",
       "      <td>0.012142</td>\n",
       "      <td>0.007994</td>\n",
       "      <td>0.011994</td>\n",
       "      <td>0.012370</td>\n",
       "      <td>0.468278</td>\n",
       "      <td>0.171576</td>\n",
       "      <td>0.343518</td>\n",
       "      <td>0.068072</td>\n",
       "      <td>0.016137</td>\n",
       "      <td>0.028438</td>\n",
       "      <td>0.122500</td>\n",
       "      <td>0.020603</td>\n",
       "      <td>0.007107</td>\n",
       "      <td>0.147770</td>\n",
       "      <td>0.956694</td>\n",
       "    </tr>\n",
       "    <tr>\n",
       "      <th>std</th>\n",
       "      <td>0.075356</td>\n",
       "      <td>0.218493</td>\n",
       "      <td>0.014903</td>\n",
       "      <td>0.013609</td>\n",
       "      <td>0.017990</td>\n",
       "      <td>0.022798</td>\n",
       "      <td>0.391697</td>\n",
       "      <td>0.268929</td>\n",
       "      <td>0.386034</td>\n",
       "      <td>0.099226</td>\n",
       "      <td>0.025983</td>\n",
       "      <td>0.032787</td>\n",
       "      <td>0.090190</td>\n",
       "      <td>0.019405</td>\n",
       "      <td>0.008920</td>\n",
       "      <td>0.284595</td>\n",
       "      <td>0.135759</td>\n",
       "    </tr>\n",
       "    <tr>\n",
       "      <th>min</th>\n",
       "      <td>0.000000</td>\n",
       "      <td>0.180000</td>\n",
       "      <td>0.000000</td>\n",
       "      <td>0.000000</td>\n",
       "      <td>0.000000</td>\n",
       "      <td>0.000000</td>\n",
       "      <td>0.000000</td>\n",
       "      <td>0.000000</td>\n",
       "      <td>0.000000</td>\n",
       "      <td>0.000000</td>\n",
       "      <td>0.000000</td>\n",
       "      <td>0.000000</td>\n",
       "      <td>0.003339</td>\n",
       "      <td>0.000000</td>\n",
       "      <td>0.000000</td>\n",
       "      <td>0.000000</td>\n",
       "      <td>0.333333</td>\n",
       "    </tr>\n",
       "    <tr>\n",
       "      <th>25%</th>\n",
       "      <td>0.005117</td>\n",
       "      <td>0.900000</td>\n",
       "      <td>0.000880</td>\n",
       "      <td>0.000000</td>\n",
       "      <td>0.000000</td>\n",
       "      <td>0.000000</td>\n",
       "      <td>0.080000</td>\n",
       "      <td>0.000000</td>\n",
       "      <td>0.000000</td>\n",
       "      <td>0.000000</td>\n",
       "      <td>0.000000</td>\n",
       "      <td>0.002793</td>\n",
       "      <td>0.048414</td>\n",
       "      <td>0.007134</td>\n",
       "      <td>0.002157</td>\n",
       "      <td>0.000000</td>\n",
       "      <td>1.000000</td>\n",
       "    </tr>\n",
       "    <tr>\n",
       "      <th>50%</th>\n",
       "      <td>0.037411</td>\n",
       "      <td>1.000000</td>\n",
       "      <td>0.006686</td>\n",
       "      <td>0.000000</td>\n",
       "      <td>0.003367</td>\n",
       "      <td>0.000000</td>\n",
       "      <td>0.420000</td>\n",
       "      <td>0.000000</td>\n",
       "      <td>0.170000</td>\n",
       "      <td>0.000000</td>\n",
       "      <td>0.000000</td>\n",
       "      <td>0.019553</td>\n",
       "      <td>0.098497</td>\n",
       "      <td>0.014058</td>\n",
       "      <td>0.003594</td>\n",
       "      <td>0.000000</td>\n",
       "      <td>1.000000</td>\n",
       "    </tr>\n",
       "    <tr>\n",
       "      <th>75%</th>\n",
       "      <td>0.085690</td>\n",
       "      <td>1.000000</td>\n",
       "      <td>0.017641</td>\n",
       "      <td>0.010677</td>\n",
       "      <td>0.017733</td>\n",
       "      <td>0.016095</td>\n",
       "      <td>0.920000</td>\n",
       "      <td>0.250000</td>\n",
       "      <td>0.670000</td>\n",
       "      <td>0.113333</td>\n",
       "      <td>0.024390</td>\n",
       "      <td>0.039106</td>\n",
       "      <td>0.169297</td>\n",
       "      <td>0.027487</td>\n",
       "      <td>0.008884</td>\n",
       "      <td>0.120000</td>\n",
       "      <td>1.000000</td>\n",
       "    </tr>\n",
       "    <tr>\n",
       "      <th>max</th>\n",
       "      <td>0.409758</td>\n",
       "      <td>1.000000</td>\n",
       "      <td>0.091849</td>\n",
       "      <td>0.073390</td>\n",
       "      <td>0.094163</td>\n",
       "      <td>0.138400</td>\n",
       "      <td>1.000000</td>\n",
       "      <td>1.000000</td>\n",
       "      <td>1.000000</td>\n",
       "      <td>0.446667</td>\n",
       "      <td>0.121951</td>\n",
       "      <td>0.164804</td>\n",
       "      <td>0.432387</td>\n",
       "      <td>0.110139</td>\n",
       "      <td>0.079032</td>\n",
       "      <td>1.000000</td>\n",
       "      <td>1.000000</td>\n",
       "    </tr>\n",
       "  </tbody>\n",
       "</table>\n",
       "</div>"
      ],
      "text/plain": [
       "           BALANCE  BALANCE_FREQUENCY    PURCHASES  ONEOFF_PURCHASES  \\\n",
       "count  6708.000000        6708.000000  6708.000000       6708.000000   \n",
       "mean      0.061757           0.885078     0.012142          0.007994   \n",
       "std       0.075356           0.218493     0.014903          0.013609   \n",
       "min       0.000000           0.180000     0.000000          0.000000   \n",
       "25%       0.005117           0.900000     0.000880          0.000000   \n",
       "50%       0.037411           1.000000     0.006686          0.000000   \n",
       "75%       0.085690           1.000000     0.017641          0.010677   \n",
       "max       0.409758           1.000000     0.091849          0.073390   \n",
       "\n",
       "       INSTALLMENTS_PURCHASES  CASH_ADVANCE  PURCHASES_FREQUENCY  \\\n",
       "count             6708.000000   6708.000000          6708.000000   \n",
       "mean                 0.011994      0.012370             0.468278   \n",
       "std                  0.017990      0.022798             0.391697   \n",
       "min                  0.000000      0.000000             0.000000   \n",
       "25%                  0.000000      0.000000             0.080000   \n",
       "50%                  0.003367      0.000000             0.420000   \n",
       "75%                  0.017733      0.016095             0.920000   \n",
       "max                  0.094163      0.138400             1.000000   \n",
       "\n",
       "       ONEOFF_PURCHASES_FREQUENCY  PURCHASES_INSTALLMENTS_FREQUENCY  \\\n",
       "count                 6708.000000                       6708.000000   \n",
       "mean                     0.171576                          0.343518   \n",
       "std                      0.268929                          0.386034   \n",
       "min                      0.000000                          0.000000   \n",
       "25%                      0.000000                          0.000000   \n",
       "50%                      0.000000                          0.170000   \n",
       "75%                      0.250000                          0.670000   \n",
       "max                      1.000000                          1.000000   \n",
       "\n",
       "       CASH_ADVANCE_FREQUENCY  CASH_ADVANCE_TRX  PURCHASES_TRX  CREDIT_LIMIT  \\\n",
       "count             6708.000000       6708.000000    6708.000000   6708.000000   \n",
       "mean                 0.068072          0.016137       0.028438      0.122500   \n",
       "std                  0.099226          0.025983       0.032787      0.090190   \n",
       "min                  0.000000          0.000000       0.000000      0.003339   \n",
       "25%                  0.000000          0.000000       0.002793      0.048414   \n",
       "50%                  0.000000          0.000000       0.019553      0.098497   \n",
       "75%                  0.113333          0.024390       0.039106      0.169297   \n",
       "max                  0.446667          0.121951       0.164804      0.432387   \n",
       "\n",
       "          PAYMENTS  MINIMUM_PAYMENTS  PRC_FULL_PAYMENT       TENURE  \n",
       "count  6708.000000       6708.000000       6708.000000  6708.000000  \n",
       "mean      0.020603          0.007107          0.147770     0.956694  \n",
       "std       0.019405          0.008920          0.284595     0.135759  \n",
       "min       0.000000          0.000000          0.000000     0.333333  \n",
       "25%       0.007134          0.002157          0.000000     1.000000  \n",
       "50%       0.014058          0.003594          0.000000     1.000000  \n",
       "75%       0.027487          0.008884          0.120000     1.000000  \n",
       "max       0.110139          0.079032          1.000000     1.000000  "
      ]
     },
     "execution_count": 18,
     "metadata": {},
     "output_type": "execute_result"
    }
   ],
   "source": [
    "X_std.describe()"
   ]
  },
  {
   "cell_type": "code",
   "execution_count": 19,
   "id": "cea37770",
   "metadata": {
    "_cell_guid": "dff9ee8e-630e-41e7-9e01-1074d1fc5bdb",
    "_uuid": "980812a5-bfe9-4ded-a750-29971b266fd3",
    "collapsed": false,
    "execution": {
     "iopub.execute_input": "2023-04-04T14:54:45.358730Z",
     "iopub.status.busy": "2023-04-04T14:54:45.358115Z",
     "iopub.status.idle": "2023-04-04T14:54:45.362105Z",
     "shell.execute_reply": "2023-04-04T14:54:45.361260Z"
    },
    "jupyter": {
     "outputs_hidden": false
    },
    "papermill": {
     "duration": 0.029107,
     "end_time": "2023-04-04T14:54:45.364226",
     "exception": false,
     "start_time": "2023-04-04T14:54:45.335119",
     "status": "completed"
    },
    "tags": []
   },
   "outputs": [],
   "source": [
    "# define number of clusters for K-means\n",
    "k_values = range(2, 12)"
   ]
  },
  {
   "cell_type": "code",
   "execution_count": 20,
   "id": "ada2bfff",
   "metadata": {
    "_cell_guid": "d52bc41f-12ec-466b-9602-b019fe81d884",
    "_uuid": "fe562a69-5dbf-42b9-871b-8adf4f2223d6",
    "collapsed": false,
    "execution": {
     "iopub.execute_input": "2023-04-04T14:54:45.409208Z",
     "iopub.status.busy": "2023-04-04T14:54:45.408768Z",
     "iopub.status.idle": "2023-04-04T14:54:45.413815Z",
     "shell.execute_reply": "2023-04-04T14:54:45.412739Z"
    },
    "jupyter": {
     "outputs_hidden": false
    },
    "papermill": {
     "duration": 0.030632,
     "end_time": "2023-04-04T14:54:45.416386",
     "exception": false,
     "start_time": "2023-04-04T14:54:45.385754",
     "status": "completed"
    },
    "tags": []
   },
   "outputs": [],
   "source": [
    "from sklearn.metrics import silhouette_score,calinski_harabasz_score,davies_bouldin_score"
   ]
  },
  {
   "cell_type": "code",
   "execution_count": 21,
   "id": "c810d293",
   "metadata": {
    "_cell_guid": "d8d10e4d-128b-4584-9ac4-91ec0f1cbaa0",
    "_uuid": "e4de7e1d-c757-420d-891a-7f24921a87b6",
    "collapsed": false,
    "execution": {
     "iopub.execute_input": "2023-04-04T14:54:45.461132Z",
     "iopub.status.busy": "2023-04-04T14:54:45.460682Z",
     "iopub.status.idle": "2023-04-04T14:55:08.208497Z",
     "shell.execute_reply": "2023-04-04T14:55:08.204157Z"
    },
    "jupyter": {
     "outputs_hidden": false
    },
    "papermill": {
     "duration": 22.774524,
     "end_time": "2023-04-04T14:55:08.212768",
     "exception": false,
     "start_time": "2023-04-04T14:54:45.438244",
     "status": "completed"
    },
    "tags": []
   },
   "outputs": [
    {
     "name": "stdout",
     "output_type": "stream",
     "text": [
      "For k = 2\n",
      "K-means silhouette score: 0.4197\n",
      "K-means Calinski Harabasz score: 5422.3269\n",
      "K-means Davies Bouldin score: 1.0267\n",
      "For k = 3\n",
      "K-means silhouette score: 0.4177\n",
      "K-means Calinski Harabasz score: 4202.8962\n",
      "K-means Davies Bouldin score: 1.1611\n",
      "For k = 4\n",
      "K-means silhouette score: 0.3762\n",
      "K-means Calinski Harabasz score: 3776.113\n",
      "K-means Davies Bouldin score: 1.2334\n",
      "For k = 5\n",
      "K-means silhouette score: 0.3736\n",
      "K-means Calinski Harabasz score: 3694.4599\n",
      "K-means Davies Bouldin score: 1.138\n",
      "For k = 6\n",
      "K-means silhouette score: 0.3523\n",
      "K-means Calinski Harabasz score: 3541.9897\n",
      "K-means Davies Bouldin score: 1.1005\n",
      "For k = 7\n",
      "K-means silhouette score: 0.362\n",
      "K-means Calinski Harabasz score: 3429.0394\n",
      "K-means Davies Bouldin score: 1.0296\n",
      "For k = 8\n",
      "K-means silhouette score: 0.3685\n",
      "K-means Calinski Harabasz score: 3290.2514\n",
      "K-means Davies Bouldin score: 1.0386\n",
      "For k = 9\n",
      "K-means silhouette score: 0.3774\n",
      "K-means Calinski Harabasz score: 3229.2493\n",
      "K-means Davies Bouldin score: 0.9651\n",
      "For k = 10\n",
      "K-means silhouette score: 0.3605\n",
      "K-means Calinski Harabasz score: 3065.4742\n",
      "K-means Davies Bouldin score: 1.0358\n",
      "For k = 11\n",
      "K-means silhouette score: 0.3636\n",
      "K-means Calinski Harabasz score: 3075.1482\n",
      "K-means Davies Bouldin score: 0.9922\n"
     ]
    }
   ],
   "source": [
    "for k in k_values:\n",
    "    # perform K-means clustering\n",
    "    kmeans = KMeans(n_clusters=k, random_state=0)\n",
    "    kmeans.fit(X_std)\n",
    "    kmeans_labels = kmeans.labels_\n",
    "    kmeans_silhoutte_score = silhouette_score(X_std, kmeans_labels)\n",
    "    kmeans_calinski_score = calinski_harabasz_score(X_std, kmeans_labels)\n",
    "    kmeans_davies_bouldin_score = davies_bouldin_score(X_std, kmeans_labels)\n",
    "\n",
    "\n",
    "    # print silhouette scores\n",
    "    print(\"For k =\", k)\n",
    "    print(\"K-means silhouette score:\", round(kmeans_silhoutte_score, 4))\n",
    "    print(\"K-means Calinski Harabasz score:\", round(kmeans_calinski_score, 4))\n",
    "    print(\"K-means Davies Bouldin score:\", round(kmeans_davies_bouldin_score, 4))"
   ]
  },
  {
   "cell_type": "code",
   "execution_count": 22,
   "id": "0dad6423",
   "metadata": {
    "_cell_guid": "42338b3a-1925-48b5-9364-48592d71f5ee",
    "_uuid": "77cd51dc-d6df-4b01-8e3f-bdba26bf70f2",
    "collapsed": false,
    "execution": {
     "iopub.execute_input": "2023-04-04T14:55:08.326882Z",
     "iopub.status.busy": "2023-04-04T14:55:08.326439Z",
     "iopub.status.idle": "2023-04-04T14:55:34.722190Z",
     "shell.execute_reply": "2023-04-04T14:55:34.719986Z"
    },
    "jupyter": {
     "outputs_hidden": false
    },
    "papermill": {
     "duration": 26.454814,
     "end_time": "2023-04-04T14:55:34.726909",
     "exception": false,
     "start_time": "2023-04-04T14:55:08.272095",
     "status": "completed"
    },
    "tags": []
   },
   "outputs": [
    {
     "name": "stdout",
     "output_type": "stream",
     "text": [
      "For k = 2\n",
      "Agglomerative clustering silhouette score: 0.3746\n",
      "Agglomerative clustering Calinski Harabasz score: 4617.9525\n",
      "Agglomerative clustering Davies Bouldin score: 1.0809\n",
      "For k = 3\n",
      "Agglomerative clustering silhouette score: 0.3128\n",
      "Agglomerative clustering Calinski Harabasz score: 3478.0045\n",
      "Agglomerative clustering Davies Bouldin score: 1.4264\n",
      "For k = 4\n",
      "Agglomerative clustering silhouette score: 0.304\n",
      "Agglomerative clustering Calinski Harabasz score: 3072.8094\n",
      "Agglomerative clustering Davies Bouldin score: 1.3477\n",
      "For k = 5\n",
      "Agglomerative clustering silhouette score: 0.3084\n",
      "Agglomerative clustering Calinski Harabasz score: 2909.3757\n",
      "Agglomerative clustering Davies Bouldin score: 1.4015\n",
      "For k = 6\n",
      "Agglomerative clustering silhouette score: 0.3161\n",
      "Agglomerative clustering Calinski Harabasz score: 2765.2303\n",
      "Agglomerative clustering Davies Bouldin score: 1.285\n",
      "For k = 7\n",
      "Agglomerative clustering silhouette score: 0.3313\n",
      "Agglomerative clustering Calinski Harabasz score: 2744.4045\n",
      "Agglomerative clustering Davies Bouldin score: 1.2127\n",
      "For k = 8\n",
      "Agglomerative clustering silhouette score: 0.3324\n",
      "Agglomerative clustering Calinski Harabasz score: 2776.4108\n",
      "Agglomerative clustering Davies Bouldin score: 1.1056\n",
      "For k = 9\n",
      "Agglomerative clustering silhouette score: 0.3449\n",
      "Agglomerative clustering Calinski Harabasz score: 2786.2435\n",
      "Agglomerative clustering Davies Bouldin score: 1.0172\n",
      "For k = 10\n",
      "Agglomerative clustering silhouette score: 0.3349\n",
      "Agglomerative clustering Calinski Harabasz score: 2644.037\n",
      "Agglomerative clustering Davies Bouldin score: 1.0024\n",
      "For k = 11\n",
      "Agglomerative clustering silhouette score: 0.3225\n",
      "Agglomerative clustering Calinski Harabasz score: 2546.5494\n",
      "Agglomerative clustering Davies Bouldin score: 1.1751\n"
     ]
    }
   ],
   "source": [
    "for k in k_values:\n",
    "    # Agglomerative clustering\n",
    "    agglo = AgglomerativeClustering(n_clusters=k)\n",
    "    agglo_labels = agglo.fit_predict(X_std)\n",
    "    agglo_silhoutte_score = silhouette_score(X_std, agglo_labels)\n",
    "    agglo_calinski_score = calinski_harabasz_score(X_std, agglo_labels)\n",
    "    agglo_davies_bouldin_score = davies_bouldin_score(X_std, agglo_labels)\n",
    "    \n",
    "    print(\"For k =\", k)\n",
    "    print(\"Agglomerative clustering silhouette score:\", round(agglo_silhoutte_score, 4))\n",
    "    print(\"Agglomerative clustering Calinski Harabasz score:\", round(agglo_calinski_score, 4))\n",
    "    print(\"Agglomerative clustering Davies Bouldin score:\", round(agglo_davies_bouldin_score, 4))"
   ]
  },
  {
   "cell_type": "code",
   "execution_count": 23,
   "id": "40bf42a8",
   "metadata": {
    "_cell_guid": "b8685591-70a5-4ed3-82ca-9612ce2f10de",
    "_uuid": "07550517-d80a-4d9d-8bae-25cdf58cd260",
    "collapsed": false,
    "execution": {
     "iopub.execute_input": "2023-04-04T14:55:34.841583Z",
     "iopub.status.busy": "2023-04-04T14:55:34.841092Z",
     "iopub.status.idle": "2023-04-04T14:55:52.103629Z",
     "shell.execute_reply": "2023-04-04T14:55:52.100249Z"
    },
    "jupyter": {
     "outputs_hidden": false
    },
    "papermill": {
     "duration": 17.333229,
     "end_time": "2023-04-04T14:55:52.120962",
     "exception": false,
     "start_time": "2023-04-04T14:55:34.787733",
     "status": "completed"
    },
    "tags": []
   },
   "outputs": [
    {
     "name": "stdout",
     "output_type": "stream",
     "text": [
      "For k = 2\n",
      "Fuzzy clustering silhouette score: 0.4194\n",
      "Fuzzy clustering Calinski Harabasz score: 5415.893\n",
      "Fuzzy clustering Davies Bouldin score: 1.0263\n",
      "For k = 3\n",
      "Fuzzy clustering silhouette score: 0.3446\n",
      "Fuzzy clustering Calinski Harabasz score: 3916.5963\n",
      "Fuzzy clustering Davies Bouldin score: 1.4711\n",
      "For k = 4\n",
      "Fuzzy clustering silhouette score: 0.3279\n",
      "Fuzzy clustering Calinski Harabasz score: 3484.3252\n",
      "Fuzzy clustering Davies Bouldin score: 1.4239\n",
      "For k = 5\n",
      "Fuzzy clustering silhouette score: 0.3518\n",
      "Fuzzy clustering Calinski Harabasz score: 3524.1343\n",
      "Fuzzy clustering Davies Bouldin score: 1.1716\n",
      "For k = 6\n",
      "Fuzzy clustering silhouette score: 0.3487\n",
      "Fuzzy clustering Calinski Harabasz score: 3487.5113\n",
      "Fuzzy clustering Davies Bouldin score: 1.1069\n",
      "For k = 7\n",
      "Fuzzy clustering silhouette score: 0.2905\n",
      "Fuzzy clustering Calinski Harabasz score: 3182.7314\n",
      "Fuzzy clustering Davies Bouldin score: 1.2019\n",
      "For k = 8\n",
      "Fuzzy clustering silhouette score: 0.27\n",
      "Fuzzy clustering Calinski Harabasz score: 2892.2309\n",
      "Fuzzy clustering Davies Bouldin score: 1.3602\n",
      "For k = 9\n",
      "Fuzzy clustering silhouette score: 0.2341\n",
      "Fuzzy clustering Calinski Harabasz score: 2699.9788\n",
      "Fuzzy clustering Davies Bouldin score: 1.4637\n",
      "For k = 10\n",
      "Fuzzy clustering silhouette score: 0.2184\n",
      "Fuzzy clustering Calinski Harabasz score: 2486.8696\n",
      "Fuzzy clustering Davies Bouldin score: 1.663\n",
      "For k = 11\n",
      "Fuzzy clustering silhouette score: 0.231\n",
      "Fuzzy clustering Calinski Harabasz score: 2679.3149\n",
      "Fuzzy clustering Davies Bouldin score: 1.3764\n"
     ]
    }
   ],
   "source": [
    "for k in k_values:\n",
    "    # perform fuzzy clustering\n",
    "    cntr, u, u0, d, jm, p, fpc = cmeans(X_std.T, k, 2, error=0.005, maxiter=1000)\n",
    "    fuzzy_labels = np.argmax(u, axis=0)\n",
    "    fuzzy_silhoutte_score = silhouette_score(X_std, fuzzy_labels)\n",
    "    fuzzy_calinski_score = calinski_harabasz_score(X_std, fuzzy_labels)\n",
    "    fuzzy_davies_bouldin_score = davies_bouldin_score(X_std, fuzzy_labels)\n",
    "    \n",
    "    print(\"For k =\", k)\n",
    "    print(\"Fuzzy clustering silhouette score:\", round(fuzzy_silhoutte_score, 4))\n",
    "    print(\"Fuzzy clustering Calinski Harabasz score:\", round(fuzzy_calinski_score, 4))\n",
    "    print(\"Fuzzy clustering Davies Bouldin score:\", round(fuzzy_davies_bouldin_score, 4))"
   ]
  },
  {
   "cell_type": "code",
   "execution_count": 24,
   "id": "3e09f976",
   "metadata": {
    "_cell_guid": "32c0cda4-bfe9-45f2-86da-e39eb231bfbd",
    "_uuid": "391376c5-fc30-4abc-b968-5187a62b345d",
    "collapsed": false,
    "execution": {
     "iopub.execute_input": "2023-04-04T14:55:52.235019Z",
     "iopub.status.busy": "2023-04-04T14:55:52.234465Z",
     "iopub.status.idle": "2023-04-04T14:56:18.753712Z",
     "shell.execute_reply": "2023-04-04T14:56:18.751610Z"
    },
    "jupyter": {
     "outputs_hidden": false
    },
    "papermill": {
     "duration": 26.559067,
     "end_time": "2023-04-04T14:56:18.758316",
     "exception": false,
     "start_time": "2023-04-04T14:55:52.199249",
     "status": "completed"
    },
    "tags": []
   },
   "outputs": [
    {
     "name": "stdout",
     "output_type": "stream",
     "text": [
      "For k = 2\n",
      "Hierarchical clustering silhouette score: 0.1986\n",
      "Hierarchical clustering Calinski Harabasz score: 1126.9387\n",
      "Hierarchical clustering Davies Bouldin score: 1.3123\n",
      "For k = 3\n",
      "Hierarchical clustering silhouette score: 0.18\n",
      "Hierarchical clustering Calinski Harabasz score: 1388.7322\n",
      "Hierarchical clustering Davies Bouldin score: 1.3405\n",
      "For k = 4\n",
      "Hierarchical clustering silhouette score: 0.208\n",
      "Hierarchical clustering Calinski Harabasz score: 1595.6304\n",
      "Hierarchical clustering Davies Bouldin score: 1.3389\n",
      "For k = 5\n",
      "Hierarchical clustering silhouette score: 0.212\n",
      "Hierarchical clustering Calinski Harabasz score: 1844.2804\n",
      "Hierarchical clustering Davies Bouldin score: 1.2759\n",
      "For k = 6\n",
      "Hierarchical clustering silhouette score: 0.2547\n",
      "Hierarchical clustering Calinski Harabasz score: 2106.3114\n",
      "Hierarchical clustering Davies Bouldin score: 1.2831\n",
      "For k = 7\n",
      "Hierarchical clustering silhouette score: 0.2615\n",
      "Hierarchical clustering Calinski Harabasz score: 2288.832\n",
      "Hierarchical clustering Davies Bouldin score: 1.2358\n",
      "For k = 8\n",
      "Hierarchical clustering silhouette score: 0.2606\n",
      "Hierarchical clustering Calinski Harabasz score: 2373.7312\n",
      "Hierarchical clustering Davies Bouldin score: 1.2192\n",
      "For k = 9\n",
      "Hierarchical clustering silhouette score: 0.3225\n",
      "Hierarchical clustering Calinski Harabasz score: 2546.5494\n",
      "Hierarchical clustering Davies Bouldin score: 1.1751\n",
      "For k = 10\n",
      "Hierarchical clustering silhouette score: 0.3449\n",
      "Hierarchical clustering Calinski Harabasz score: 2786.2435\n",
      "Hierarchical clustering Davies Bouldin score: 1.0172\n",
      "For k = 11\n",
      "Hierarchical clustering silhouette score: 0.3449\n",
      "Hierarchical clustering Calinski Harabasz score: 2786.2435\n",
      "Hierarchical clustering Davies Bouldin score: 1.0172\n"
     ]
    }
   ],
   "source": [
    "from scipy.cluster.hierarchy import linkage, fcluster\n",
    "\n",
    "for k in k_values:\n",
    "    # perform hierarchical clustering\n",
    "    hierarchical_labels = fcluster(linkage(X_std, method='ward'), t=k, criterion='distance')\n",
    "    hierarchical_silhoutte_score = silhouette_score(X_std, hierarchical_labels)\n",
    "    hierarchical_calinski_score = calinski_harabasz_score(X_std, hierarchical_labels)\n",
    "    hierarchical_davies_bouldin_score = davies_bouldin_score(X_std, hierarchical_labels)\n",
    "\n",
    "    print(\"For k =\", k)\n",
    "    print(\"Hierarchical clustering silhouette score:\", round(hierarchical_silhoutte_score, 4))\n",
    "    print(\"Hierarchical clustering Calinski Harabasz score:\", round(hierarchical_calinski_score, 4))\n",
    "    print(\"Hierarchical clustering Davies Bouldin score:\", round(hierarchical_davies_bouldin_score, 4))"
   ]
  },
  {
   "cell_type": "code",
   "execution_count": 25,
   "id": "ce567aed",
   "metadata": {
    "_cell_guid": "f44d577a-d2ac-4be3-aa7c-b7a9b61a564e",
    "_uuid": "407b17a8-60ba-4151-96cf-d9da64df0b8a",
    "collapsed": false,
    "execution": {
     "iopub.execute_input": "2023-04-04T14:56:18.876556Z",
     "iopub.status.busy": "2023-04-04T14:56:18.876149Z",
     "iopub.status.idle": "2023-04-04T14:56:38.661303Z",
     "shell.execute_reply": "2023-04-04T14:56:38.656694Z"
    },
    "jupyter": {
     "outputs_hidden": false
    },
    "papermill": {
     "duration": 19.844815,
     "end_time": "2023-04-04T14:56:38.666193",
     "exception": false,
     "start_time": "2023-04-04T14:56:18.821378",
     "status": "completed"
    },
    "tags": []
   },
   "outputs": [
    {
     "name": "stdout",
     "output_type": "stream",
     "text": [
      "For k = 2\n",
      "Gaussian Mixture silhouette score: 0.2991\n",
      "Gaussian Mixture Calinski Harabasz score: 3287.4057\n",
      "Gaussian Mixture Davies Bouldin score: 1.194\n",
      "For k = 3\n",
      "Gaussian Mixture silhouette score: 0.1379\n",
      "Gaussian Mixture Calinski Harabasz score: 1555.222\n",
      "Gaussian Mixture Davies Bouldin score: 3.4607\n",
      "For k = 4\n",
      "Gaussian Mixture silhouette score: 0.1531\n",
      "Gaussian Mixture Calinski Harabasz score: 1204.3316\n",
      "Gaussian Mixture Davies Bouldin score: 2.9758\n",
      "For k = 5\n",
      "Gaussian Mixture silhouette score: 0.02\n",
      "Gaussian Mixture Calinski Harabasz score: 916.5922\n",
      "Gaussian Mixture Davies Bouldin score: 3.4925\n",
      "For k = 6\n",
      "Gaussian Mixture silhouette score: 0.0581\n",
      "Gaussian Mixture Calinski Harabasz score: 910.3106\n",
      "Gaussian Mixture Davies Bouldin score: 3.2226\n",
      "For k = 7\n",
      "Gaussian Mixture silhouette score: 0.0256\n",
      "Gaussian Mixture Calinski Harabasz score: 719.4391\n",
      "Gaussian Mixture Davies Bouldin score: 4.3993\n",
      "For k = 8\n",
      "Gaussian Mixture silhouette score: 0.0459\n",
      "Gaussian Mixture Calinski Harabasz score: 836.7013\n",
      "Gaussian Mixture Davies Bouldin score: 2.5785\n",
      "For k = 9\n",
      "Gaussian Mixture silhouette score: 0.0138\n",
      "Gaussian Mixture Calinski Harabasz score: 618.1655\n",
      "Gaussian Mixture Davies Bouldin score: 3.101\n",
      "For k = 10\n",
      "Gaussian Mixture silhouette score: 0.0285\n",
      "Gaussian Mixture Calinski Harabasz score: 662.9716\n",
      "Gaussian Mixture Davies Bouldin score: 3.093\n",
      "For k = 11\n",
      "Gaussian Mixture silhouette score: 0.0298\n",
      "Gaussian Mixture Calinski Harabasz score: 663.8245\n",
      "Gaussian Mixture Davies Bouldin score: 3.4543\n"
     ]
    }
   ],
   "source": [
    "from sklearn.mixture import GaussianMixture\n",
    "for k in k_values:\n",
    "    gmm = GaussianMixture(n_components=k)\n",
    "    gmm.fit(X_std)\n",
    "    gmm_labels = gmm.predict(X_std)\n",
    "    gmm_silhouette_score = silhouette_score(X_std, gmm_labels)\n",
    "    gmm_calinski_score = calinski_harabasz_score(X_std, gmm_labels)\n",
    "    gmm_davies_bouldin_score = davies_bouldin_score(X_std, gmm_labels)\n",
    "\n",
    "    # print the scores for the current value of k\n",
    "    print(\"For k =\", k)\n",
    "    print(\"Gaussian Mixture silhouette score:\", round(gmm_silhouette_score, 4))\n",
    "    print(\"Gaussian Mixture Calinski Harabasz score:\", round(gmm_calinski_score,4))\n",
    "    print(\"Gaussian Mixture Davies Bouldin score:\", round(gmm_davies_bouldin_score, 4))"
   ]
  },
  {
   "cell_type": "code",
   "execution_count": 26,
   "id": "2931f4bb",
   "metadata": {
    "_cell_guid": "3f1c60c7-cc59-4676-b1c9-3297ee73b4a0",
    "_uuid": "7006e263-16ad-48a9-9037-13be5a356bde",
    "collapsed": false,
    "execution": {
     "iopub.execute_input": "2023-04-04T14:56:38.785514Z",
     "iopub.status.busy": "2023-04-04T14:56:38.785037Z",
     "iopub.status.idle": "2023-04-04T14:57:34.809453Z",
     "shell.execute_reply": "2023-04-04T14:57:34.807807Z"
    },
    "jupyter": {
     "outputs_hidden": false
    },
    "papermill": {
     "duration": 56.17173,
     "end_time": "2023-04-04T14:57:34.903797",
     "exception": false,
     "start_time": "2023-04-04T14:56:38.732067",
     "status": "completed"
    },
    "tags": []
   },
   "outputs": [
    {
     "name": "stdout",
     "output_type": "stream",
     "text": [
      "Affinity Propagation silhouette score: 0.2006\n",
      "Affinity Propagation Calinski Harabasz score: 977.3086\n",
      "Affinity Propagation Davies Bouldin score: 1.3157\n"
     ]
    }
   ],
   "source": [
    "from sklearn.cluster import AffinityPropagation\n",
    "\n",
    "affinity_propagation = AffinityPropagation(damping=0.5, max_iter=200, convergence_iter=15)\n",
    "ap_labels = affinity_propagation.fit_predict(X_std)\n",
    "\n",
    "ap_silhouette_score = silhouette_score(X_std, ap_labels)\n",
    "ap_calinski_score = calinski_harabasz_score(X_std, ap_labels)\n",
    "ap_davies_bouldin_score = davies_bouldin_score(X_std, ap_labels)\n",
    "\n",
    "print(\"Affinity Propagation silhouette score:\", round(ap_silhouette_score, 4))\n",
    "print(\"Affinity Propagation Calinski Harabasz score:\", round(ap_calinski_score,4))\n",
    "print(\"Affinity Propagation Davies Bouldin score:\", round(ap_davies_bouldin_score, 4))"
   ]
  },
  {
   "cell_type": "markdown",
   "id": "778a8cf4",
   "metadata": {
    "_cell_guid": "19744c4a-a9b3-4193-aaf1-c665486f4d57",
    "_uuid": "5584cc28-5180-444e-bb6b-31b047d45568",
    "papermill": {
     "duration": 0.023956,
     "end_time": "2023-04-04T14:57:34.965212",
     "exception": false,
     "start_time": "2023-04-04T14:57:34.941256",
     "status": "completed"
    },
    "tags": []
   },
   "source": [
    "**K-Means and Fuzzy** showed great results considering our evalution parameters."
   ]
  },
  {
   "cell_type": "markdown",
   "id": "0ce3165f",
   "metadata": {
    "_cell_guid": "777bb18a-55e2-4fce-a0cd-3d095f25c4f6",
    "_uuid": "b21a3555-97f5-458f-a6e9-e0f4bad8ca04",
    "papermill": {
     "duration": 0.024388,
     "end_time": "2023-04-04T14:57:35.013957",
     "exception": false,
     "start_time": "2023-04-04T14:57:34.989569",
     "status": "completed"
    },
    "tags": []
   },
   "source": [
    "**Principal Component Analysis** is an unsupervised learning algorithm that is used for the dimensionality reduction in machine learning. It is a statistical process that converts the observations of correlated features into a set of linearly uncorrelated features with the help of orthogonal transformation. These new transformed features are called the Principal Components. It is one of the popular tools that is used for exploratory data analysis and predictive modeling. It is a technique to draw strong patterns from the given dataset by reducing the variances.\n",
    "\n",
    "PCA generally tries to find the lower-dimensional surface to project the high-dimensional data.\n",
    "\n",
    "PCA works by considering the variance of each attribute because the high attribute shows the good split between the classes, and hence it reduces the dimensionality. Some real-world applications of PCA are image processing, movie recommendation system, optimizing the power allocation in various communication channels. It is a feature extraction technique, so it contains the important variables and drops the least important variable."
   ]
  },
  {
   "cell_type": "code",
   "execution_count": 27,
   "id": "ba159610",
   "metadata": {
    "_cell_guid": "426945bc-d953-40a4-b8ca-175fe1e9a3a6",
    "_uuid": "03e7d838-c188-48a5-85d5-d54f30e44a57",
    "collapsed": false,
    "execution": {
     "iopub.execute_input": "2023-04-04T14:57:35.064429Z",
     "iopub.status.busy": "2023-04-04T14:57:35.064011Z",
     "iopub.status.idle": "2023-04-04T14:57:35.343667Z",
     "shell.execute_reply": "2023-04-04T14:57:35.341951Z"
    },
    "jupyter": {
     "outputs_hidden": false
    },
    "papermill": {
     "duration": 0.309825,
     "end_time": "2023-04-04T14:57:35.348136",
     "exception": false,
     "start_time": "2023-04-04T14:57:35.038311",
     "status": "completed"
    },
    "tags": []
   },
   "outputs": [
    {
     "data": {
      "image/png": "[encoded data removed]",
      "text/plain": [
       "<Figure size 640x480 with 1 Axes>"
      ]
     },
     "metadata": {},
     "output_type": "display_data"
    },
    {
     "name": "stdout",
     "output_type": "stream",
     "text": [
      "Optimal number of components: 5\n",
      "Shape of transformed features: (6708, 5)\n"
     ]
    }
   ],
   "source": [
    "from sklearn.decomposition import PCA\n",
    "\n",
    "# Create a PCA object\n",
    "pca = PCA()\n",
    "\n",
    "X = pd.read_csv(\"/kaggle/working/my_cleaned_dataset.csv\")\n",
    "\n",
    "# Fit the PCA object to the standardized features\n",
    "pca.fit(X)\n",
    "\n",
    "# Find the explained variance ratio for each component\n",
    "explained_variance_ratio = pca.explained_variance_ratio_\n",
    "\n",
    "# Find the cumulative sum of the explained variance ratio\n",
    "cumulative_variance_ratio = np.cumsum(explained_variance_ratio)\n",
    "\n",
    "# Plot the cumulative sum of the explained variance ratio\n",
    "import matplotlib.pyplot as plt\n",
    "plt.plot(cumulative_variance_ratio)\n",
    "plt.xlabel('Number of Components')\n",
    "plt.ylabel('Cumulative Explained Variance Ratio')\n",
    "plt.show()\n",
    "\n",
    "# Find the optimal number of components\n",
    "optimal_n_components = np.argmax(cumulative_variance_ratio >= 0.95) + 1\n",
    "\n",
    "# Print the optimal number of components\n",
    "print(\"Optimal number of components:\", optimal_n_components)\n",
    "\n",
    "# Create a new PCA object with the optimal number of components\n",
    "pca = PCA(n_components=optimal_n_components)\n",
    "\n",
    "# Transform the standardized features using the new PCA object\n",
    "X_pca = pca.fit_transform(X)\n",
    "\n",
    "# Print the shape of the transformed features\n",
    "print(\"Shape of transformed features:\", X_pca.shape)"
   ]
  },
  {
   "cell_type": "markdown",
   "id": "c778dd29",
   "metadata": {
    "_cell_guid": "1f8df057-4667-4f4a-b7ad-36e9b290ef27",
    "_uuid": "0d69dd62-5cff-4a2b-a325-960e8270497b",
    "papermill": {
     "duration": 0.052057,
     "end_time": "2023-04-04T14:57:35.466521",
     "exception": false,
     "start_time": "2023-04-04T14:57:35.414464",
     "status": "completed"
    },
    "tags": []
   },
   "source": [
    "We automated the task of choosing the right number of component to fit PCA. After running it now our features are trimed from 17 to 5"
   ]
  },
  {
   "cell_type": "markdown",
   "id": "6f3384f3",
   "metadata": {
    "_cell_guid": "646d2fdf-2656-401e-a8f4-31f3722630cc",
    "_uuid": "bcd5f07e-fe42-4d29-9a8c-fbe94d00a3c5",
    "papermill": {
     "duration": 0.024612,
     "end_time": "2023-04-04T14:57:35.516840",
     "exception": false,
     "start_time": "2023-04-04T14:57:35.492228",
     "status": "completed"
    },
    "tags": []
   },
   "source": [
    "In PCA (Principal Component Analysis), the **explained variance ratio** is a measure of how much information (or variance) each principal component captures from the original data. It is the ratio of the variance of a principal component to the total variance of all the principal components. For example, if we have performed PCA on a dataset with 10 features and we have 5 principal components, the explained variance ratio of the first principal component is the ratio of the variance of the first principal component to the sum of the variances of all 5 principal components. The explained variance ratio is a useful metric to evaluate the effectiveness of PCA in reducing the dimensionality of the data. It tells us how much of the original data's variance is retained in the reduced feature set. Higher explained variance ratio for a principal component indicates that it captures more important features of the original data."
   ]
  },
  {
   "cell_type": "code",
   "execution_count": 28,
   "id": "04bd784c",
   "metadata": {
    "_cell_guid": "f59130e3-a20b-4851-96a9-b5e033c73f41",
    "_uuid": "f82ed465-7a2c-432d-a172-964d31ccc740",
    "collapsed": false,
    "execution": {
     "iopub.execute_input": "2023-04-04T14:57:35.568323Z",
     "iopub.status.busy": "2023-04-04T14:57:35.567807Z",
     "iopub.status.idle": "2023-04-04T14:57:35.835732Z",
     "shell.execute_reply": "2023-04-04T14:57:35.834713Z"
    },
    "jupyter": {
     "outputs_hidden": false
    },
    "papermill": {
     "duration": 0.2971,
     "end_time": "2023-04-04T14:57:35.838828",
     "exception": false,
     "start_time": "2023-04-04T14:57:35.541728",
     "status": "completed"
    },
    "tags": []
   },
   "outputs": [
    {
     "data": {
      "image/png": "[encoded data removed]",
      "text/plain": [
       "<Figure size 640x480 with 1 Axes>"
      ]
     },
     "metadata": {},
     "output_type": "display_data"
    }
   ],
   "source": [
    "# Plot the explained variance ratio of each principal component\n",
    "plt.bar(range(1, 6), pca.explained_variance_ratio_)\n",
    "plt.xlabel('Principal Component')\n",
    "plt.ylabel('Explained Variance Ratio')\n",
    "plt.show()\n",
    "\n",
    "# Save the transformed dataset with 5 principal components\n",
    "transformed_df = pd.DataFrame(X_pca)\n",
    "transformed_df.to_csv('pca_transformed_data.csv', index=False)"
   ]
  },
  {
   "cell_type": "markdown",
   "id": "01bb16c0",
   "metadata": {
    "_cell_guid": "492b9f74-af29-4b2d-958c-ae049b3873db",
    "_uuid": "34a17003-49e8-4955-b045-30fb428d3eda",
    "papermill": {
     "duration": 0.025396,
     "end_time": "2023-04-04T14:57:35.890034",
     "exception": false,
     "start_time": "2023-04-04T14:57:35.864638",
     "status": "completed"
    },
    "tags": []
   },
   "source": [
    "**Cumulative explained variance ratio** is the sum of explained variance ratios for all the principal components up to a certain point. It is often used in PCA to determine the number of principal components to retain for further analysis. For example, if we have performed PCA on a dataset with 10 principal components, and the explained variance ratios for each component are [0.2, 0.15, 0.1, 0.08, 0.06, 0.05, 0.04, 0.03, 0.02, 0.01], then the cumulative explained variance ratio for the first two principal components would be 0.2 + 0.15 = 0.35. Similarly, the cumulative explained variance ratio for the first five principal components would be 0.2 + 0.15 + 0.1 + 0.08 + 0.06 = 0.59. By examining the cumulative explained variance ratio, we can determine the number of principal components to keep for further analysis. Typically, we want to keep enough principal components to capture a large portion of the variance in the data, while also minimizing the number of components to avoid overfitting. A common threshold for determining the number of principal components to keep is to retain enough components to capture 80-90% of the cumulative explained variance."
   ]
  },
  {
   "cell_type": "code",
   "execution_count": 29,
   "id": "18f80bc0",
   "metadata": {
    "_cell_guid": "81638b0e-d29c-4c3b-b786-e380b9588073",
    "_uuid": "823aedbf-9583-491f-ad14-cf87e09f73a6",
    "collapsed": false,
    "execution": {
     "iopub.execute_input": "2023-04-04T14:57:35.945754Z",
     "iopub.status.busy": "2023-04-04T14:57:35.945323Z",
     "iopub.status.idle": "2023-04-04T14:57:36.185576Z",
     "shell.execute_reply": "2023-04-04T14:57:36.184149Z"
    },
    "jupyter": {
     "outputs_hidden": false
    },
    "papermill": {
     "duration": 0.270777,
     "end_time": "2023-04-04T14:57:36.188304",
     "exception": false,
     "start_time": "2023-04-04T14:57:35.917527",
     "status": "completed"
    },
    "tags": []
   },
   "outputs": [
    {
     "data": {
      "image/png": "[encoded data removed]",
      "text/plain": [
       "<Figure size 640x480 with 1 Axes>"
      ]
     },
     "metadata": {},
     "output_type": "display_data"
    }
   ],
   "source": [
    "# Plot the cumulative sum of explained variance ratio\n",
    "plt.plot(range(1, 6), np.cumsum(pca.explained_variance_ratio_), marker='o')\n",
    "plt.title('Cumulative Explained Variance Ratio')\n",
    "plt.xlabel('Component')\n",
    "plt.ylabel('Proportion of Variance Explained')\n",
    "plt.show()\n",
    "\n",
    "# Plot the first two components\n",
    "#plt.scatter(X_pca[:, 0], X_pca[:, 1], cmap='rainbow')\n",
    "#plt.colorbar()\n",
    "#plt.title('First Two Components')\n",
    "#plt.xlabel('PC 1')\n",
    "#plt.ylabel('PC 2')\n",
    "#plt.show()"
   ]
  },
  {
   "cell_type": "markdown",
   "id": "4ddd7ec0",
   "metadata": {
    "_cell_guid": "d8a80442-ae74-4b3d-a77c-21da0432ea53",
    "_uuid": "4e0ddb22-d3fc-4c60-bf63-f91878d38c30",
    "papermill": {
     "duration": 0.026997,
     "end_time": "2023-04-04T14:57:36.241723",
     "exception": false,
     "start_time": "2023-04-04T14:57:36.214726",
     "status": "completed"
    },
    "tags": []
   },
   "source": [
    "**Loading** of each components from all 17 features"
   ]
  },
  {
   "cell_type": "code",
   "execution_count": 30,
   "id": "50ea16c9",
   "metadata": {
    "_cell_guid": "cfefac1c-4350-4aa6-97fc-44b1a6325554",
    "_uuid": "c36d19e9-1a86-421b-9872-ee776e8748a2",
    "collapsed": false,
    "execution": {
     "iopub.execute_input": "2023-04-04T14:57:36.298417Z",
     "iopub.status.busy": "2023-04-04T14:57:36.297244Z",
     "iopub.status.idle": "2023-04-04T14:57:36.535507Z",
     "shell.execute_reply": "2023-04-04T14:57:36.534337Z"
    },
    "jupyter": {
     "outputs_hidden": false
    },
    "papermill": {
     "duration": 0.269155,
     "end_time": "2023-04-04T14:57:36.538219",
     "exception": false,
     "start_time": "2023-04-04T14:57:36.269064",
     "status": "completed"
    },
    "tags": []
   },
   "outputs": [
    {
     "data": {
      "image/png": "[encoded data removed]",
      "text/plain": [
       "<Figure size 640x480 with 1 Axes>"
      ]
     },
     "metadata": {},
     "output_type": "display_data"
    }
   ],
   "source": [
    "plt.plot(pca.components_[0])\n",
    "plt.xlabel('Feature')\n",
    "plt.ylabel('Loading')\n",
    "plt.title('Loadings for Component 1')\n",
    "plt.show()"
   ]
  },
  {
   "cell_type": "code",
   "execution_count": 31,
   "id": "5a065fb3",
   "metadata": {
    "_cell_guid": "beeddb81-f90b-48b1-9148-6b2d19a791fa",
    "_uuid": "f9cef667-27f0-47b6-bdb8-d67eb67c72db",
    "collapsed": false,
    "execution": {
     "iopub.execute_input": "2023-04-04T14:57:36.594965Z",
     "iopub.status.busy": "2023-04-04T14:57:36.594579Z",
     "iopub.status.idle": "2023-04-04T14:57:36.602503Z",
     "shell.execute_reply": "2023-04-04T14:57:36.601157Z"
    },
    "jupyter": {
     "outputs_hidden": false
    },
    "papermill": {
     "duration": 0.040859,
     "end_time": "2023-04-04T14:57:36.606455",
     "exception": false,
     "start_time": "2023-04-04T14:57:36.565596",
     "status": "completed"
    },
    "tags": []
   },
   "outputs": [
    {
     "name": "stdout",
     "output_type": "stream",
     "text": [
      "Principal component 1:\n",
      "\tBALANCE: -0.028\n",
      "\tBALANCE_FREQUENCY: 0.083\n",
      "\tPURCHASES: 0.015\n",
      "\tONEOFF_PURCHASES: 0.006\n",
      "\tINSTALLMENTS_PURCHASES: 0.022\n",
      "\tCASH_ADVANCE: -0.013\n",
      "\tPURCHASES_FREQUENCY: 0.698\n",
      "\tONEOFF_PURCHASES_FREQUENCY: 0.161\n",
      "\tPURCHASES_INSTALLMENTS_FREQUENCY: 0.656\n",
      "\tCASH_ADVANCE_FREQUENCY: -0.065\n",
      "\tCASH_ADVANCE_TRX: -0.015\n",
      "\tPURCHASES_TRX: 0.046\n",
      "\tCREDIT_LIMIT: 0.012\n",
      "\tPAYMENTS: 0.003\n",
      "\tMINIMUM_PAYMENTS: -0.001\n",
      "\tPRC_FULL_PAYMENT: 0.204\n",
      "\tTENURE: 0.011\n",
      "Principal component 2:\n",
      "\tBALANCE: 0.072\n",
      "\tBALANCE_FREQUENCY: 0.296\n",
      "\tPURCHASES: 0.020\n",
      "\tONEOFF_PURCHASES: 0.028\n",
      "\tINSTALLMENTS_PURCHASES: -0.009\n",
      "\tCASH_ADVANCE: 0.004\n",
      "\tPURCHASES_FREQUENCY: 0.205\n",
      "\tONEOFF_PURCHASES_FREQUENCY: 0.790\n",
      "\tPURCHASES_INSTALLMENTS_FREQUENCY: -0.342\n",
      "\tCASH_ADVANCE_FREQUENCY: 0.032\n",
      "\tCASH_ADVANCE_TRX: 0.007\n",
      "\tPURCHASES_TRX: 0.033\n",
      "\tCREDIT_LIMIT: 0.071\n",
      "\tPAYMENTS: 0.013\n",
      "\tMINIMUM_PAYMENTS: 0.005\n",
      "\tPRC_FULL_PAYMENT: -0.339\n",
      "\tTENURE: 0.039\n",
      "Principal component 3:\n",
      "\tBALANCE: -0.096\n",
      "\tBALANCE_FREQUENCY: -0.333\n",
      "\tPURCHASES: 0.007\n",
      "\tONEOFF_PURCHASES: 0.012\n",
      "\tINSTALLMENTS_PURCHASES: -0.005\n",
      "\tCASH_ADVANCE: -0.014\n",
      "\tPURCHASES_FREQUENCY: -0.002\n",
      "\tONEOFF_PURCHASES_FREQUENCY: 0.350\n",
      "\tPURCHASES_INSTALLMENTS_FREQUENCY: -0.307\n",
      "\tCASH_ADVANCE_FREQUENCY: -0.084\n",
      "\tCASH_ADVANCE_TRX: -0.020\n",
      "\tPURCHASES_TRX: 0.001\n",
      "\tCREDIT_LIMIT: 0.034\n",
      "\tPAYMENTS: 0.005\n",
      "\tMINIMUM_PAYMENTS: -0.009\n",
      "\tPRC_FULL_PAYMENT: 0.808\n",
      "\tTENURE: -0.031\n",
      "Principal component 4:\n",
      "\tBALANCE: -0.093\n",
      "\tBALANCE_FREQUENCY: -0.864\n",
      "\tPURCHASES: 0.005\n",
      "\tONEOFF_PURCHASES: 0.007\n",
      "\tINSTALLMENTS_PURCHASES: -0.001\n",
      "\tCASH_ADVANCE: -0.017\n",
      "\tPURCHASES_FREQUENCY: 0.131\n",
      "\tONEOFF_PURCHASES_FREQUENCY: 0.147\n",
      "\tPURCHASES_INSTALLMENTS_FREQUENCY: 0.050\n",
      "\tCASH_ADVANCE_FREQUENCY: -0.125\n",
      "\tCASH_ADVANCE_TRX: -0.028\n",
      "\tPURCHASES_TRX: 0.012\n",
      "\tCREDIT_LIMIT: -0.018\n",
      "\tPAYMENTS: -0.006\n",
      "\tMINIMUM_PAYMENTS: -0.007\n",
      "\tPRC_FULL_PAYMENT: -0.427\n",
      "\tTENURE: -0.064\n",
      "Principal component 5:\n",
      "\tBALANCE: -0.006\n",
      "\tBALANCE_FREQUENCY: 0.066\n",
      "\tPURCHASES: -0.003\n",
      "\tONEOFF_PURCHASES: -0.000\n",
      "\tINSTALLMENTS_PURCHASES: -0.006\n",
      "\tCASH_ADVANCE: 0.021\n",
      "\tPURCHASES_FREQUENCY: 0.051\n",
      "\tONEOFF_PURCHASES_FREQUENCY: 0.001\n",
      "\tPURCHASES_INSTALLMENTS_FREQUENCY: -0.029\n",
      "\tCASH_ADVANCE_FREQUENCY: 0.117\n",
      "\tCASH_ADVANCE_TRX: 0.023\n",
      "\tPURCHASES_TRX: -0.012\n",
      "\tCREDIT_LIMIT: -0.106\n",
      "\tPAYMENTS: -0.011\n",
      "\tMINIMUM_PAYMENTS: -0.002\n",
      "\tPRC_FULL_PAYMENT: -0.005\n",
      "\tTENURE: -0.983\n"
     ]
    }
   ],
   "source": [
    "# Get the principal component weights\n",
    "weights = pca.components_\n",
    "\n",
    "# Print the contribution of each feature to the first three principal components\n",
    "for i in range(5):\n",
    "    print(f\"Principal component {i+1}:\")\n",
    "    for feature, weight in zip(X.columns, weights[i]):\n",
    "        print(f\"\\t{feature}: {weight:.3f}\")"
   ]
  },
  {
   "cell_type": "code",
   "execution_count": 32,
   "id": "7ee6e9e0",
   "metadata": {
    "_cell_guid": "16adaac4-1089-4bf6-b7f3-80354fcad4be",
    "_uuid": "72035a35-e492-49de-9b51-8176faafa61d",
    "collapsed": false,
    "execution": {
     "iopub.execute_input": "2023-04-04T14:57:36.662654Z",
     "iopub.status.busy": "2023-04-04T14:57:36.662267Z",
     "iopub.status.idle": "2023-04-04T14:57:38.700257Z",
     "shell.execute_reply": "2023-04-04T14:57:38.698660Z"
    },
    "jupyter": {
     "outputs_hidden": false
    },
    "papermill": {
     "duration": 2.071085,
     "end_time": "2023-04-04T14:57:38.704661",
     "exception": false,
     "start_time": "2023-04-04T14:57:36.633576",
     "status": "completed"
    },
    "tags": []
   },
   "outputs": [
    {
     "name": "stdout",
     "output_type": "stream",
     "text": [
      "For k = 3\n",
      "K-means silhouette score: 0.4492\n",
      "K-means Calinski Harabasz score: 4720.3224\n",
      "K-means Davies Bouldin score: 1.0746\n"
     ]
    }
   ],
   "source": [
    "X_std = pd.read_csv('/kaggle/working/pca_transformed_data.csv')\n",
    "# perform K-means clustering\n",
    "kmeans = KMeans(n_clusters=3, random_state=0)\n",
    "kmeans.fit(X_std)\n",
    "kmeans_labels = kmeans.labels_\n",
    "kmeans_silhoutte_score = silhouette_score(X_std, kmeans_labels)\n",
    "kmeans_calinski_score = calinski_harabasz_score(X_std, kmeans_labels)\n",
    "kmeans_davies_bouldin_score = davies_bouldin_score(X_std, kmeans_labels)\n",
    "\n",
    "# print silhouette scores\n",
    "print(\"For k = 3\")\n",
    "print(\"K-means silhouette score:\", round(kmeans_silhoutte_score, 4))\n",
    "print(\"K-means Calinski Harabasz score:\", round(kmeans_calinski_score, 4))\n",
    "print(\"K-means Davies Bouldin score:\", round(kmeans_davies_bouldin_score, 4))"
   ]
  },
  {
   "cell_type": "markdown",
   "id": "ae044d6c",
   "metadata": {
    "_cell_guid": "dabde51c-66ec-4c37-b28e-0a98b3829539",
    "_uuid": "5dcfc12c-f0e3-4b2c-a33d-ff107b1a5074",
    "papermill": {
     "duration": 0.052574,
     "end_time": "2023-04-04T14:57:38.827473",
     "exception": false,
     "start_time": "2023-04-04T14:57:38.774899",
     "status": "completed"
    },
    "tags": []
   },
   "source": [
    "Our performance for labelling is increased where we choose K-means with three cluster groups."
   ]
  },
  {
   "cell_type": "code",
   "execution_count": 33,
   "id": "4bc6233a",
   "metadata": {
    "_cell_guid": "10b41ad0-b2d2-4a52-9fcb-82e07184d210",
    "_uuid": "74a87d96-b14a-48fd-9631-9521e2ff5484",
    "collapsed": false,
    "execution": {
     "iopub.execute_input": "2023-04-04T14:57:38.883994Z",
     "iopub.status.busy": "2023-04-04T14:57:38.883548Z",
     "iopub.status.idle": "2023-04-04T14:57:38.945012Z",
     "shell.execute_reply": "2023-04-04T14:57:38.943480Z"
    },
    "jupyter": {
     "outputs_hidden": false
    },
    "papermill": {
     "duration": 0.093094,
     "end_time": "2023-04-04T14:57:38.948077",
     "exception": false,
     "start_time": "2023-04-04T14:57:38.854983",
     "status": "completed"
    },
    "tags": []
   },
   "outputs": [],
   "source": [
    "# Saving cluster Group in PCA component CSV\n",
    "X_std['Cluster_Group'] = kmeans.labels_\n",
    "X_std.to_csv(\"labelled_pca_dataset.csv\", index=False)"
   ]
  },
  {
   "cell_type": "code",
   "execution_count": 34,
   "id": "f63bdf0f",
   "metadata": {
    "_cell_guid": "4af214e2-4136-407e-a4a0-10acfcb55c3b",
    "_uuid": "fad1ce03-bb95-472f-900e-8de78b3d50a4",
    "collapsed": false,
    "execution": {
     "iopub.execute_input": "2023-04-04T14:57:39.004642Z",
     "iopub.status.busy": "2023-04-04T14:57:39.004226Z",
     "iopub.status.idle": "2023-04-04T14:57:39.137829Z",
     "shell.execute_reply": "2023-04-04T14:57:39.136650Z"
    },
    "jupyter": {
     "outputs_hidden": false
    },
    "papermill": {
     "duration": 0.165426,
     "end_time": "2023-04-04T14:57:39.140762",
     "exception": false,
     "start_time": "2023-04-04T14:57:38.975336",
     "status": "completed"
    },
    "tags": []
   },
   "outputs": [],
   "source": [
    "data_with_no_outliers = pd.read_csv(\"/kaggle/working/my_cleaned_dataset.csv\")\n",
    "labelled_dataset = data_with_no_outliers\n",
    "labelled_dataset['CLUSTER_GROUP'] = kmeans.labels_\n",
    "labelled_dataset.to_csv(\"labelled_dataset.csv\", index=False)"
   ]
  },
  {
   "cell_type": "markdown",
   "id": "02be5607",
   "metadata": {
    "_cell_guid": "f94268a8-1af4-424b-b065-de58c2247445",
    "_uuid": "06dd369c-a1b4-41d7-8e53-ee4076a6588d",
    "papermill": {
     "duration": 0.026634,
     "end_time": "2023-04-04T14:57:39.195127",
     "exception": false,
     "start_time": "2023-04-04T14:57:39.168493",
     "status": "completed"
    },
    "tags": []
   },
   "source": [
    "# Supervied Model Training for Prediction"
   ]
  },
  {
   "cell_type": "markdown",
   "id": "6c8a3ecf",
   "metadata": {
    "_cell_guid": "32b72ed3-1f2c-4a07-bdc0-b26ad77fd7f3",
    "_uuid": "1aa110d9-a318-4da2-99d3-5fc4148c36c9",
    "papermill": {
     "duration": 0.026353,
     "end_time": "2023-04-04T14:57:39.248570",
     "exception": false,
     "start_time": "2023-04-04T14:57:39.222217",
     "status": "completed"
    },
    "tags": []
   },
   "source": [
    "* Decision Tree Classifier: A decision tree is a flowchart-like structure in which each internal node represents a \"test\" on an attribute, each branch represents the outcome of the test, and each leaf node represents a class label. Decision tree classifier is a type of supervised learning algorithm that is mostly used for classification problems.\n",
    "* Random Forest Classifier: Random forest is a type of ensemble learning algorithm that is used for classification, regression, and other tasks. In random forest, we grow multiple decision trees and combine their results to classify new data. Random forests can improve the performance of decision trees by reducing overfitting.\n",
    "* Gradient Boosting Classifier: Gradient boosting is a machine learning technique for regression and classification problems that produces a prediction model in the form of an ensemble of weak prediction models. It builds the model in a stage-wise fashion like other boosting methods, and it generalizes them by allowing optimization of an arbitrary differentiable loss function.\n",
    "* AdaBoost Classifier: AdaBoost is an ensemble learning method that uses multiple models to improve the predictive performance. AdaBoost works by creating a base decision tree model, then using that model to make predictions on the training data, and then boosting the weights of the training data that were not predicted correctly.\n",
    "* K-Nearest Neighbors Classifier: K-Nearest Neighbors (K-NN) is a type of instance-based learning or lazy learning where the function is only approximated locally and all computation is deferred until classification. K-NN is used for classification and regression.\n",
    "* Gaussian Naive Bayes Classifier: Naive Bayes is a family of probabilistic algorithms that use Bayes' theorem to make predictions. The Gaussian Naive Bayes classifier assumes that the features are normally distributed and independent of each other.\n",
    "* Logistic Regression: Logistic regression is a statistical method for analyzing a dataset in which there are one or more independent variables that determine an outcome. Logistic regression is used to predict a binary outcome (1 / 0, Yes / No, True / False) given a set of independent variables.\n",
    "* Support Vector Machine Classifier: Support vector machines (SVMs) are a set of supervised learning methods used for classification, regression and outliers detection. SVMs work by finding the hyperplane that maximizes the margin between the two classes.\n",
    "* Extra Trees Classifier: Extra Trees is an ensemble learning method that combines decision trees in a random way to reduce variance and improve accuracy. Extra Trees Classifier is a type of Random Forest.\n",
    "* Bagging Classifier: Bagging is a technique used to reduce the variance of a machine learning algorithm. Bagging Classifier is an ensemble meta-estimator that fits base classifiers each on random subsets of the original dataset and then aggregate their individual predictions to form a final prediction.\n",
    "* XGBoost Classifier: XGBoost is an optimized distributed gradient boosting library designed to be highly efficient, flexible and portable. XGBoost is a type of gradient boosting algorithm that uses both tree and linear models.\n",
    "* LightGBM Classifier: LightGBM is a gradient boosting framework that uses tree-based learning algorithms. LightGBM is designed to be distributed and efficient with higher accuracy.\n",
    "* CatBoost Classifier: CatBoost is a gradient boosting library that uses decision trees with gradient boosting. CatBoost can handle categorical data natively and allows to use non-continuous features."
   ]
  },
  {
   "cell_type": "code",
   "execution_count": 35,
   "id": "97e0e09b",
   "metadata": {
    "_cell_guid": "d899bee0-a6e4-4335-84c6-18c26e0b3d65",
    "_uuid": "4b0f42cb-dea6-4ec8-9553-c1908bd776b2",
    "collapsed": false,
    "execution": {
     "iopub.execute_input": "2023-04-04T14:57:39.304875Z",
     "iopub.status.busy": "2023-04-04T14:57:39.304012Z",
     "iopub.status.idle": "2023-04-04T14:57:56.275470Z",
     "shell.execute_reply": "2023-04-04T14:57:56.274075Z"
    },
    "jupyter": {
     "outputs_hidden": false
    },
    "papermill": {
     "duration": 17.002735,
     "end_time": "2023-04-04T14:57:56.278135",
     "exception": false,
     "start_time": "2023-04-04T14:57:39.275400",
     "status": "completed"
    },
    "tags": []
   },
   "outputs": [
    {
     "data": {
      "text/html": [
       "<style type='text/css'>\n",
       ".datatable table.frame { margin-bottom: 0; }\n",
       ".datatable table.frame thead { border-bottom: none; }\n",
       ".datatable table.frame tr.coltypes td {  color: #FFFFFF;  line-height: 6px;  padding: 0 0.5em;}\n",
       ".datatable .bool    { background: #DDDD99; }\n",
       ".datatable .object  { background: #565656; }\n",
       ".datatable .int     { background: #5D9E5D; }\n",
       ".datatable .float   { background: #4040CC; }\n",
       ".datatable .str     { background: #CC4040; }\n",
       ".datatable .time    { background: #40CC40; }\n",
       ".datatable .row_index {  background: var(--jp-border-color3);  border-right: 1px solid var(--jp-border-color0);  color: var(--jp-ui-font-color3);  font-size: 9px;}\n",
       ".datatable .frame tbody td { text-align: left; }\n",
       ".datatable .frame tr.coltypes .row_index {  background: var(--jp-border-color0);}\n",
       ".datatable th:nth-child(2) { padding-left: 12px; }\n",
       ".datatable .hellipsis {  color: var(--jp-cell-editor-border-color);}\n",
       ".datatable .vellipsis {  background: var(--jp-layout-color0);  color: var(--jp-cell-editor-border-color);}\n",
       ".datatable .na {  color: var(--jp-cell-editor-border-color);  font-size: 80%;}\n",
       ".datatable .sp {  opacity: 0.25;}\n",
       ".datatable .footer { font-size: 9px; }\n",
       ".datatable .frame_dimensions {  background: var(--jp-border-color3);  border-top: 1px solid var(--jp-border-color0);  color: var(--jp-ui-font-color3);  display: inline-block;  opacity: 0.6;  padding: 1px 10px 1px 5px;}\n",
       "</style>\n"
      ],
      "text/plain": [
       "<IPython.core.display.HTML object>"
      ]
     },
     "metadata": {},
     "output_type": "display_data"
    },
    {
     "name": "stdout",
     "output_type": "stream",
     "text": [
      "Decision Tree (Training Accuracy): 1.0000\n",
      "Decision Tree (Testing Accuracy): 0.9829\n",
      "Decision Tree (Precision): 0.9828\n",
      "Decision Tree (Recall): 0.9829\n",
      "Decision Tree (F1 Score): 0.9828\n",
      "Decision Tree (Confusion Matrix):\n",
      "[[703   2   3]\n",
      " [  4 440   3]\n",
      " [  7   4 176]]\n",
      "Random Forest (Training Accuracy): 1.0000\n",
      "Random Forest (Testing Accuracy): 0.9866\n",
      "Random Forest (Precision): 0.9866\n",
      "Random Forest (Recall): 0.9866\n",
      "Random Forest (F1 Score): 0.9866\n",
      "Random Forest (Confusion Matrix):\n",
      "[[703   2   3]\n",
      " [  5 441   1]\n",
      " [  3   4 180]]\n",
      "Gradient Boosting (Training Accuracy): 0.9996\n",
      "Gradient Boosting (Testing Accuracy): 0.9948\n",
      "Gradient Boosting (Precision): 0.9948\n",
      "Gradient Boosting (Recall): 0.9948\n",
      "Gradient Boosting (F1 Score): 0.9948\n",
      "Gradient Boosting (Confusion Matrix):\n",
      "[[705   0   3]\n",
      " [  1 446   0]\n",
      " [  2   1 184]]\n",
      "AdaBoost (Training Accuracy): 0.9269\n",
      "AdaBoost (Testing Accuracy): 0.9404\n",
      "AdaBoost (Precision): 0.9461\n",
      "AdaBoost (Recall): 0.9404\n",
      "AdaBoost (F1 Score): 0.9413\n",
      "AdaBoost (Confusion Matrix):\n",
      "[[693   1  14]\n",
      " [ 19 392  36]\n",
      " [  0  10 177]]\n",
      "K-Nearest Neighbors (Training Accuracy): 0.9907\n",
      "K-Nearest Neighbors (Testing Accuracy): 0.9814\n",
      "K-Nearest Neighbors (Precision): 0.9814\n",
      "K-Nearest Neighbors (Recall): 0.9814\n",
      "K-Nearest Neighbors (F1 Score): 0.9813\n",
      "K-Nearest Neighbors (Confusion Matrix):\n",
      "[[702   4   2]\n",
      " [ 11 435   1]\n",
      " [  3   4 180]]\n",
      "Gaussian Naive Bayes (Training Accuracy): 0.9299\n",
      "Gaussian Naive Bayes (Testing Accuracy): 0.9344\n",
      "Gaussian Naive Bayes (Precision): 0.9392\n",
      "Gaussian Naive Bayes (Recall): 0.9344\n",
      "Gaussian Naive Bayes (F1 Score): 0.9356\n",
      "Gaussian Naive Bayes (Confusion Matrix):\n",
      "[[661  32  15]\n",
      " [  4 416  27]\n",
      " [  3   7 177]]\n",
      "Support Vector Machine (Training Accuracy): 0.9959\n",
      "Support Vector Machine (Testing Accuracy): 0.9918\n",
      "Support Vector Machine (Precision): 0.9918\n",
      "Support Vector Machine (Recall): 0.9918\n",
      "Support Vector Machine (F1 Score): 0.9918\n",
      "Support Vector Machine (Confusion Matrix):\n",
      "[[705   3   0]\n",
      " [  3 444   0]\n",
      " [  4   1 182]]\n",
      "Bagging Classifier (Training Accuracy): 0.9983\n",
      "Bagging Classifier (Testing Accuracy): 0.9911\n",
      "Bagging Classifier (Precision): 0.9910\n",
      "Bagging Classifier (Recall): 0.9911\n",
      "Bagging Classifier (F1 Score): 0.9910\n",
      "Bagging Classifier (Confusion Matrix):\n",
      "[[705   1   2]\n",
      " [  2 444   1]\n",
      " [  3   3 181]]\n",
      "XGBoost (Training Accuracy): 1.0000\n",
      "XGBoost (Testing Accuracy): 0.9948\n",
      "XGBoost (Precision): 0.9948\n",
      "XGBoost (Recall): 0.9948\n",
      "XGBoost (F1 Score): 0.9948\n",
      "XGBoost (Confusion Matrix):\n",
      "[[705   1   2]\n",
      " [  2 445   0]\n",
      " [  1   1 185]]\n",
      "CatBoost (Training Accuracy): 1.0000\n",
      "CatBoost (Testing Accuracy): 0.9940\n",
      "CatBoost (Precision): 0.9940\n",
      "CatBoost (Recall): 0.9940\n",
      "CatBoost (F1 Score): 0.9940\n",
      "CatBoost (Confusion Matrix):\n",
      "[[705   0   3]\n",
      " [  1 446   0]\n",
      " [  3   1 183]]\n"
     ]
    }
   ],
   "source": [
    "import pandas as pd\n",
    "from sklearn.preprocessing import MinMaxScaler\n",
    "from sklearn.model_selection import train_test_split\n",
    "from sklearn.tree import DecisionTreeClassifier\n",
    "from sklearn.ensemble import RandomForestClassifier, GradientBoostingClassifier, AdaBoostClassifier, ExtraTreesClassifier, BaggingClassifier\n",
    "from sklearn.neighbors import KNeighborsClassifier\n",
    "from sklearn.naive_bayes import GaussianNB\n",
    "from sklearn.linear_model import LogisticRegression\n",
    "from sklearn.svm import SVC\n",
    "from xgboost import XGBClassifier\n",
    "from sklearn.metrics import accuracy_score, precision_score, recall_score, f1_score, confusion_matrix\n",
    "from lightgbm import LGBMClassifier\n",
    "from catboost import CatBoostClassifier\n",
    "\n",
    "\n",
    "# Load data\n",
    "df = pd.read_csv('/kaggle/working/labelled_dataset.csv')\n",
    "\n",
    "# Split the dataset into features (X) and labels (y)\n",
    "X = df.iloc[:, :-1].values\n",
    "y = df.iloc[:, -1].values\n",
    "X_train, X_test, y_train, y_test = train_test_split(X, y, test_size=0.2, random_state=42)\n",
    "\n",
    "# Train and evaluate classifiers\n",
    "classifiers = {\n",
    "    'Decision Tree': DecisionTreeClassifier(),\n",
    "    'Random Forest': RandomForestClassifier(n_estimators=100, random_state=42),\n",
    "    'Gradient Boosting': GradientBoostingClassifier(),\n",
    "    'AdaBoost': AdaBoostClassifier(),\n",
    "    'K-Nearest Neighbors': KNeighborsClassifier(),\n",
    "    'Gaussian Naive Bayes': GaussianNB(),\n",
    "    'Support Vector Machine': SVC(),\n",
    "    'Bagging Classifier': BaggingClassifier(),\n",
    "    'XGBoost': XGBClassifier(),\n",
    "    'CatBoost': CatBoostClassifier(verbose =False)\n",
    "}\n",
    "\n",
    "for name, classifier in classifiers.items():\n",
    "    classifier.fit(X_train, y_train)\n",
    "    y_pred_train = classifier.predict(X_train)\n",
    "    y_pred_test = classifier.predict(X_test)\n",
    "    train_acc = accuracy_score(y_train, y_pred_train)\n",
    "    test_acc = accuracy_score(y_test, y_pred_test)\n",
    "    precision = precision_score(y_test, y_pred_test, average='weighted', zero_division=0)\n",
    "    recall = recall_score(y_test, y_pred_test, average='weighted')\n",
    "    f1 = f1_score(y_test, y_pred_test, average='weighted')\n",
    "    print(f'{name} (Training Accuracy): {train_acc:.4f}')\n",
    "    print(f'{name} (Testing Accuracy): {test_acc:.4f}')\n",
    "    print(f'{name} (Precision): {precision:.4f}')\n",
    "    print(f'{name} (Recall): {recall:.4f}')\n",
    "    print(f'{name} (F1 Score): {f1:.4f}')\n",
    "    print(f'{name} (Confusion Matrix):')\n",
    "    print(confusion_matrix(y_test, y_pred_test))"
   ]
  },
  {
   "cell_type": "markdown",
   "id": "0a917a25",
   "metadata": {
    "_cell_guid": "809fe648-4146-4f70-ba3a-bab725132df5",
    "_uuid": "9047c453-cdf2-4db5-b54d-9fa00d74c326",
    "papermill": {
     "duration": 0.027994,
     "end_time": "2023-04-04T14:57:56.333814",
     "exception": false,
     "start_time": "2023-04-04T14:57:56.305820",
     "status": "completed"
    },
    "tags": []
   },
   "source": [
    "Performance for each of the model is great, let's consider CatBoost for learning which is dedicated for clustering work.\n",
    "\n",
    "**CatBoost** is an open-source machine learning(gradient boosting) algorithm, with its name coined from “Category” and “Boosting.” It was developed by Yandex (Russian Google ) in 2017. According to Yandex, CatBoost has been applied to a wide range of areas such as recommendation systems, search ranking, self-driving cars, forecasting, and virtual assistants. It is the successor of MatrixNet that was widely used within Yandex products.\n",
    "\n",
    "Let’s take a look at some of the key features that make CatBoost better than its counterparts:\n",
    "\n",
    "* Symmetric trees: CatBoost builds symmetric (balanced) trees, unlike XGBoost and LightGBM. In every step, leaves from the previous tree are split using the same condition. The feature-split pair that accounts for the lowest loss is selected and used for all the level’s nodes. This balanced tree architecture aids in efficient CPU implementation, decreases prediction time, makes swift model appliers, and controls overfitting as the structure serves as regularization. \n",
    "* Ordered boosting:  Classic boosting algorithms are prone to overfitting on small/noisy datasets due to a problem known as prediction shift. When calculating the gradient estimate of a data instance, these algorithms use the same data instances that the model was built with, thus having no chances of experiencing unseen data. CatBoost, on the other hand, uses the concept of ordered boosting, a permutation-driven approach to train model on a subset of data while calculating residuals on another subset, thus preventing target leakage and overfitting.  \n",
    "* Native feature support: CatBoost supports all kinds of features be it numeric, categorical, or text and saves time and effort of preprocessing."
   ]
  },
  {
   "cell_type": "code",
   "execution_count": 36,
   "id": "3f8895bf",
   "metadata": {
    "_cell_guid": "b26fc3f7-0633-4754-a79a-aecdff710107",
    "_uuid": "1011c041-0fea-4edd-b8e9-6634ca515443",
    "collapsed": false,
    "execution": {
     "iopub.execute_input": "2023-04-04T14:57:56.390614Z",
     "iopub.status.busy": "2023-04-04T14:57:56.390231Z",
     "iopub.status.idle": "2023-04-04T14:58:25.111883Z",
     "shell.execute_reply": "2023-04-04T14:58:25.109775Z"
    },
    "jupyter": {
     "outputs_hidden": false
    },
    "papermill": {
     "duration": 28.754293,
     "end_time": "2023-04-04T14:58:25.115598",
     "exception": false,
     "start_time": "2023-04-04T14:57:56.361305",
     "status": "completed"
    },
    "tags": []
   },
   "outputs": [
    {
     "name": "stdout",
     "output_type": "stream",
     "text": [
      "Accuracy: 0.99 (+/- 0.00)\n"
     ]
    }
   ],
   "source": [
    "import numpy as np\n",
    "import pandas as pd\n",
    "from catboost import CatBoostClassifier\n",
    "from sklearn.model_selection import KFold, cross_val_score\n",
    "\n",
    "# Load data\n",
    "df = pd.read_csv('/kaggle/working/labelled_dataset.csv')\n",
    "X = df.iloc[:, :-1]\n",
    "y = df.iloc[:, -1]\n",
    "\n",
    "# Define the model\n",
    "model = CatBoostClassifier(iterations=1000, learning_rate=0.1, depth=6, verbose =False)\n",
    "\n",
    "# Define the cross-validation method\n",
    "kfold = KFold(n_splits=5, shuffle=True, random_state=42)\n",
    "\n",
    "# Evaluate the model using cross-validation\n",
    "scores = cross_val_score(model, X, y, cv=kfold, scoring='accuracy')\n",
    "\n",
    "# Print the average accuracy and standard deviation across folds\n",
    "print(\"Accuracy: %0.2f (+/- %0.2f)\" % (scores.mean(), scores.std() * 2))"
   ]
  },
  {
   "cell_type": "markdown",
   "id": "08d6122e",
   "metadata": {
    "_cell_guid": "d2faae13-29cc-4802-87f8-a8b83ceb4073",
    "_uuid": "d16d7a53-ce21-454c-a421-33d4b08d7b32",
    "papermill": {
     "duration": 0.028737,
     "end_time": "2023-04-04T14:58:25.173378",
     "exception": false,
     "start_time": "2023-04-04T14:58:25.144641",
     "status": "completed"
    },
    "tags": []
   },
   "source": [
    "Cross validating our model with K-fold to check if it is not overfitting just to be on safer side."
   ]
  },
  {
   "cell_type": "code",
   "execution_count": 37,
   "id": "d28d421a",
   "metadata": {
    "_cell_guid": "077b21c8-659c-4a52-8db5-403cfec7e960",
    "_uuid": "23a8ddaa-3cb7-4daf-bcf0-d31e1684b9a4",
    "collapsed": false,
    "execution": {
     "iopub.execute_input": "2023-04-04T14:58:25.234363Z",
     "iopub.status.busy": "2023-04-04T14:58:25.233897Z",
     "iopub.status.idle": "2023-04-04T14:59:20.410907Z",
     "shell.execute_reply": "2023-04-04T14:59:20.409609Z"
    },
    "jupyter": {
     "outputs_hidden": false
    },
    "papermill": {
     "duration": 55.240111,
     "end_time": "2023-04-04T14:59:20.444266",
     "exception": false,
     "start_time": "2023-04-04T14:58:25.204155",
     "status": "completed"
    },
    "tags": []
   },
   "outputs": [
    {
     "name": "stdout",
     "output_type": "stream",
     "text": [
      "Best hyperparameters: {'learning_rate': 0.1, 'l2_leaf_reg': 5, 'iterations': 300, 'depth': 3}\n",
      "Train accuracy: 0.9910539898403508\n",
      "(Training Accuracy): 0.9965\n",
      "(Test Accuracy): 0.9911\n",
      "(Precision): 0.9911\n",
      "(Recall): 0.9911\n",
      "(F1 score): 0.9911\n",
      "Confusion matrix:\n",
      " [[703   2   3]\n",
      " [  2 444   1]\n",
      " [  3   1 183]]\n"
     ]
    },
    {
     "data": {
      "text/plain": [
       "['catboost_model.pkl']"
      ]
     },
     "execution_count": 37,
     "metadata": {},
     "output_type": "execute_result"
    }
   ],
   "source": [
    "from catboost import CatBoostClassifier\n",
    "from sklearn.model_selection import RandomizedSearchCV\n",
    "from sklearn.metrics import accuracy_score, precision_score, recall_score, f1_score, confusion_matrix\n",
    "import joblib\n",
    "\n",
    "# Load data\n",
    "df = pd.read_csv('/kaggle/working/labelled_dataset.csv')\n",
    "\n",
    "X = df.iloc[:, :-1]\n",
    "y = df.iloc[:, -1]\n",
    "\n",
    "X_train, X_test, y_train, y_test = train_test_split(X, y, test_size=0.2, random_state=42)\n",
    "\n",
    "# Define the hyperparameter space to search over\n",
    "param_dist = {\n",
    "    'iterations': [100, 200, 300],\n",
    "    'learning_rate': [0.01, 0.05, 0.1],\n",
    "    'depth': [3, 5, 7],\n",
    "    'l2_leaf_reg': [1, 3, 5]\n",
    "}\n",
    "\n",
    "# Define the CatBoost classifier\n",
    "cat = CatBoostClassifier(verbose =False)\n",
    "\n",
    "# Perform hyperparameter tuning with randomized search\n",
    "random_search = RandomizedSearchCV(cat, param_distributions=param_dist, cv=5, n_iter=10, scoring='accuracy')\n",
    "random_search.fit(X_train, y_train)\n",
    "\n",
    "# Print the best hyperparameters and corresponding accuracy score\n",
    "print('Best hyperparameters:', random_search.best_params_)\n",
    "print('Train accuracy:', random_search.best_score_)\n",
    "\n",
    "# Evaluate the model on test data\n",
    "y_pred_train = random_search.predict(X_train)\n",
    "y_pred_test = random_search.predict(X_test)\n",
    "train_acc = accuracy_score(y_train, y_pred_train)\n",
    "test_acc = accuracy_score(y_test, y_pred_test)\n",
    "precision = precision_score(y_test, y_pred_test, average='weighted', zero_division=0)\n",
    "recall = recall_score(y_test, y_pred_test, average='weighted')\n",
    "f1 = f1_score(y_test, y_pred_test, average='weighted')\n",
    "print(f'(Training Accuracy): {train_acc:.4f}')\n",
    "print(f'(Test Accuracy): {test_acc:.4f}')\n",
    "print(f'(Precision): {precision:.4f}')\n",
    "print(f'(Recall): {recall:.4f}')\n",
    "print(f'(F1 score): {f1:.4f}')\n",
    "print('Confusion matrix:\\n', confusion_matrix(y_test, y_pred_test))\n",
    "\n",
    "# Save the model for future use\n",
    "joblib.dump(random_search.best_estimator_, 'catboost_model.pkl')"
   ]
  },
  {
   "cell_type": "markdown",
   "id": "5f8fcfb5",
   "metadata": {
    "_cell_guid": "caf2ecda-01a9-42b5-ad41-d9b468c34ac6",
    "_uuid": "9713f54c-c14b-49bf-8ddf-4a0c731a7ab6",
    "papermill": {
     "duration": 0.028016,
     "end_time": "2023-04-04T14:59:20.500699",
     "exception": false,
     "start_time": "2023-04-04T14:59:20.472683",
     "status": "completed"
    },
    "tags": []
   },
   "source": [
    "saving the model"
   ]
  },
  {
   "cell_type": "markdown",
   "id": "6ba01a9e",
   "metadata": {
    "_cell_guid": "3bca0d04-614d-4883-83b2-ce8bab71f4b4",
    "_uuid": "ba6107c2-df11-4b6d-af41-2dbfac118cd4",
    "papermill": {
     "duration": 0.028105,
     "end_time": "2023-04-04T14:59:20.558467",
     "exception": false,
     "start_time": "2023-04-04T14:59:20.530362",
     "status": "completed"
    },
    "tags": []
   },
   "source": [
    "**Hyper tunded** our model with Random Search CV\n",
    "\n",
    "**RandomizedSearchCV** implements a “fit” and a “score” method. It also implements “score_samples”, “predict”, “predict_proba”, “decision_function”, “transform” and “inverse_transform” if they are implemented in the estimator used. The parameters of the estimator used to apply these methods are optimized by cross-validated search over parameter settings. In contrast to GridSearchCV, not all parameter values are tried out, but rather a fixed number of parameter settings is sampled from the specified distributions. The number of parameter settings that are tried is given by n_iter. If all parameters are presented as a list, sampling without replacement is performed. If at least one parameter is given as a distribution, sampling with replacement is used. It is highly recommended to use continuous distributions for continuous parameters."
   ]
  },
  {
   "cell_type": "code",
   "execution_count": 38,
   "id": "f77b34bd",
   "metadata": {
    "_cell_guid": "acf2c6fa-0398-4963-84f0-d91de71036d9",
    "_uuid": "db6edcf7-e88f-4856-807b-76cc6819b6d2",
    "collapsed": false,
    "execution": {
     "iopub.execute_input": "2023-04-04T14:59:20.617056Z",
     "iopub.status.busy": "2023-04-04T14:59:20.616608Z",
     "iopub.status.idle": "2023-04-04T14:59:20.643699Z",
     "shell.execute_reply": "2023-04-04T14:59:20.641367Z"
    },
    "jupyter": {
     "outputs_hidden": false
    },
    "papermill": {
     "duration": 0.05981,
     "end_time": "2023-04-04T14:59:20.646684",
     "exception": false,
     "start_time": "2023-04-04T14:59:20.586874",
     "status": "completed"
    },
    "tags": []
   },
   "outputs": [
    {
     "name": "stdout",
     "output_type": "stream",
     "text": [
      "0    3621\n",
      "1    2190\n",
      "2     897\n",
      "Name: CLUSTER_GROUP, dtype: int64\n"
     ]
    }
   ],
   "source": [
    "import pandas as pd\n",
    "\n",
    "# Load your dataset into a pandas DataFrame\n",
    "df = pd.read_csv('/kaggle/working/labelled_dataset.csv')\n",
    "\n",
    "# Use value_counts() to count the number of occurrences of each unique value in the last column\n",
    "counts = df.iloc[:, -1].value_counts()\n",
    "\n",
    "# Print the counts\n",
    "print(counts)"
   ]
  },
  {
   "cell_type": "markdown",
   "id": "030827e5",
   "metadata": {
    "_cell_guid": "a07bc5d7-18f5-44d5-973c-9c7577151ab8",
    "_uuid": "34e037e7-74ef-407b-ad36-24ad5c0d249a",
    "papermill": {
     "duration": 0.028483,
     "end_time": "2023-04-04T14:59:20.704655",
     "exception": false,
     "start_time": "2023-04-04T14:59:20.676172",
     "status": "completed"
    },
    "tags": []
   },
   "source": [
    "Checking contribution of number of rows for each cluster."
   ]
  },
  {
   "cell_type": "code",
   "execution_count": 39,
   "id": "ce64ccac",
   "metadata": {
    "_cell_guid": "825580f8-933d-45ef-9a42-c2f8666cef2e",
    "_uuid": "dbacfeaf-584a-42db-8b4c-3d8c98e922b6",
    "collapsed": false,
    "execution": {
     "iopub.execute_input": "2023-04-04T14:59:20.764760Z",
     "iopub.status.busy": "2023-04-04T14:59:20.764346Z",
     "iopub.status.idle": "2023-04-04T14:59:20.804256Z",
     "shell.execute_reply": "2023-04-04T14:59:20.802929Z"
    },
    "jupyter": {
     "outputs_hidden": false
    },
    "papermill": {
     "duration": 0.073756,
     "end_time": "2023-04-04T14:59:20.806785",
     "exception": false,
     "start_time": "2023-04-04T14:59:20.733029",
     "status": "completed"
    },
    "tags": []
   },
   "outputs": [
    {
     "data": {
      "text/html": [
       "<div>\n",
       "<style scoped>\n",
       "    .dataframe tbody tr th:only-of-type {\n",
       "        vertical-align: middle;\n",
       "    }\n",
       "\n",
       "    .dataframe tbody tr th {\n",
       "        vertical-align: top;\n",
       "    }\n",
       "\n",
       "    .dataframe thead th {\n",
       "        text-align: right;\n",
       "    }\n",
       "</style>\n",
       "<table border=\"1\" class=\"dataframe\">\n",
       "  <thead>\n",
       "    <tr style=\"text-align: right;\">\n",
       "      <th></th>\n",
       "      <th>BALANCE</th>\n",
       "      <th>BALANCE_FREQUENCY</th>\n",
       "      <th>PURCHASES</th>\n",
       "      <th>ONEOFF_PURCHASES</th>\n",
       "      <th>INSTALLMENTS_PURCHASES</th>\n",
       "      <th>CASH_ADVANCE</th>\n",
       "      <th>PURCHASES_FREQUENCY</th>\n",
       "      <th>ONEOFF_PURCHASES_FREQUENCY</th>\n",
       "      <th>PURCHASES_INSTALLMENTS_FREQUENCY</th>\n",
       "      <th>CASH_ADVANCE_FREQUENCY</th>\n",
       "      <th>CASH_ADVANCE_TRX</th>\n",
       "      <th>PURCHASES_TRX</th>\n",
       "      <th>CREDIT_LIMIT</th>\n",
       "      <th>PAYMENTS</th>\n",
       "      <th>MINIMUM_PAYMENTS</th>\n",
       "      <th>PRC_FULL_PAYMENT</th>\n",
       "      <th>TENURE</th>\n",
       "      <th>CLUSTER_GROUP</th>\n",
       "    </tr>\n",
       "  </thead>\n",
       "  <tbody>\n",
       "    <tr>\n",
       "      <th>0</th>\n",
       "      <td>0.002148</td>\n",
       "      <td>0.82</td>\n",
       "      <td>0.001945</td>\n",
       "      <td>0.000000</td>\n",
       "      <td>0.00424</td>\n",
       "      <td>0.000000</td>\n",
       "      <td>0.17</td>\n",
       "      <td>0.00</td>\n",
       "      <td>0.08</td>\n",
       "      <td>0.000000</td>\n",
       "      <td>0.00000</td>\n",
       "      <td>0.005587</td>\n",
       "      <td>0.031720</td>\n",
       "      <td>0.003979</td>\n",
       "      <td>0.001826</td>\n",
       "      <td>0.00</td>\n",
       "      <td>1.0</td>\n",
       "      <td>0</td>\n",
       "    </tr>\n",
       "    <tr>\n",
       "      <th>1</th>\n",
       "      <td>0.168169</td>\n",
       "      <td>0.91</td>\n",
       "      <td>0.000000</td>\n",
       "      <td>0.000000</td>\n",
       "      <td>0.00000</td>\n",
       "      <td>0.136685</td>\n",
       "      <td>0.00</td>\n",
       "      <td>0.00</td>\n",
       "      <td>0.00</td>\n",
       "      <td>0.166667</td>\n",
       "      <td>0.03252</td>\n",
       "      <td>0.000000</td>\n",
       "      <td>0.232053</td>\n",
       "      <td>0.080893</td>\n",
       "      <td>0.014034</td>\n",
       "      <td>0.22</td>\n",
       "      <td>1.0</td>\n",
       "      <td>0</td>\n",
       "    </tr>\n",
       "    <tr>\n",
       "      <th>2</th>\n",
       "      <td>0.131026</td>\n",
       "      <td>1.00</td>\n",
       "      <td>0.015766</td>\n",
       "      <td>0.018968</td>\n",
       "      <td>0.00000</td>\n",
       "      <td>0.000000</td>\n",
       "      <td>1.00</td>\n",
       "      <td>1.00</td>\n",
       "      <td>0.00</td>\n",
       "      <td>0.000000</td>\n",
       "      <td>0.00000</td>\n",
       "      <td>0.033520</td>\n",
       "      <td>0.248748</td>\n",
       "      <td>0.012264</td>\n",
       "      <td>0.008210</td>\n",
       "      <td>0.00</td>\n",
       "      <td>1.0</td>\n",
       "      <td>2</td>\n",
       "    </tr>\n",
       "    <tr>\n",
       "      <th>3</th>\n",
       "      <td>0.087521</td>\n",
       "      <td>0.64</td>\n",
       "      <td>0.030567</td>\n",
       "      <td>0.036775</td>\n",
       "      <td>0.00000</td>\n",
       "      <td>0.004366</td>\n",
       "      <td>0.08</td>\n",
       "      <td>0.08</td>\n",
       "      <td>0.00</td>\n",
       "      <td>0.053333</td>\n",
       "      <td>0.00813</td>\n",
       "      <td>0.002793</td>\n",
       "      <td>0.248748</td>\n",
       "      <td>0.000000</td>\n",
       "      <td>0.011310</td>\n",
       "      <td>0.00</td>\n",
       "      <td>1.0</td>\n",
       "      <td>0</td>\n",
       "    </tr>\n",
       "    <tr>\n",
       "      <th>4</th>\n",
       "      <td>0.042940</td>\n",
       "      <td>1.00</td>\n",
       "      <td>0.000326</td>\n",
       "      <td>0.000393</td>\n",
       "      <td>0.00000</td>\n",
       "      <td>0.000000</td>\n",
       "      <td>0.08</td>\n",
       "      <td>0.08</td>\n",
       "      <td>0.00</td>\n",
       "      <td>0.000000</td>\n",
       "      <td>0.00000</td>\n",
       "      <td>0.002793</td>\n",
       "      <td>0.038397</td>\n",
       "      <td>0.013374</td>\n",
       "      <td>0.003204</td>\n",
       "      <td>0.00</td>\n",
       "      <td>1.0</td>\n",
       "      <td>0</td>\n",
       "    </tr>\n",
       "  </tbody>\n",
       "</table>\n",
       "</div>"
      ],
      "text/plain": [
       "    BALANCE  BALANCE_FREQUENCY  PURCHASES  ONEOFF_PURCHASES  \\\n",
       "0  0.002148               0.82   0.001945          0.000000   \n",
       "1  0.168169               0.91   0.000000          0.000000   \n",
       "2  0.131026               1.00   0.015766          0.018968   \n",
       "3  0.087521               0.64   0.030567          0.036775   \n",
       "4  0.042940               1.00   0.000326          0.000393   \n",
       "\n",
       "   INSTALLMENTS_PURCHASES  CASH_ADVANCE  PURCHASES_FREQUENCY  \\\n",
       "0                 0.00424      0.000000                 0.17   \n",
       "1                 0.00000      0.136685                 0.00   \n",
       "2                 0.00000      0.000000                 1.00   \n",
       "3                 0.00000      0.004366                 0.08   \n",
       "4                 0.00000      0.000000                 0.08   \n",
       "\n",
       "   ONEOFF_PURCHASES_FREQUENCY  PURCHASES_INSTALLMENTS_FREQUENCY  \\\n",
       "0                        0.00                              0.08   \n",
       "1                        0.00                              0.00   \n",
       "2                        1.00                              0.00   \n",
       "3                        0.08                              0.00   \n",
       "4                        0.08                              0.00   \n",
       "\n",
       "   CASH_ADVANCE_FREQUENCY  CASH_ADVANCE_TRX  PURCHASES_TRX  CREDIT_LIMIT  \\\n",
       "0                0.000000           0.00000       0.005587      0.031720   \n",
       "1                0.166667           0.03252       0.000000      0.232053   \n",
       "2                0.000000           0.00000       0.033520      0.248748   \n",
       "3                0.053333           0.00813       0.002793      0.248748   \n",
       "4                0.000000           0.00000       0.002793      0.038397   \n",
       "\n",
       "   PAYMENTS  MINIMUM_PAYMENTS  PRC_FULL_PAYMENT  TENURE  CLUSTER_GROUP  \n",
       "0  0.003979          0.001826              0.00     1.0              0  \n",
       "1  0.080893          0.014034              0.22     1.0              0  \n",
       "2  0.012264          0.008210              0.00     1.0              2  \n",
       "3  0.000000          0.011310              0.00     1.0              0  \n",
       "4  0.013374          0.003204              0.00     1.0              0  "
      ]
     },
     "execution_count": 39,
     "metadata": {},
     "output_type": "execute_result"
    }
   ],
   "source": [
    "df = pd.read_csv('/kaggle/working/labelled_dataset.csv')\n",
    "df.head()"
   ]
  },
  {
   "cell_type": "code",
   "execution_count": 40,
   "id": "90f9bff8",
   "metadata": {
    "_cell_guid": "b5643b44-87c9-40eb-a537-1a66db479b86",
    "_uuid": "05dc7dbb-0803-45c3-94e9-070951124bf0",
    "collapsed": false,
    "execution": {
     "iopub.execute_input": "2023-04-04T14:59:20.868203Z",
     "iopub.status.busy": "2023-04-04T14:59:20.867674Z",
     "iopub.status.idle": "2023-04-04T14:59:20.894516Z",
     "shell.execute_reply": "2023-04-04T14:59:20.892858Z"
    },
    "jupyter": {
     "outputs_hidden": false
    },
    "papermill": {
     "duration": 0.061616,
     "end_time": "2023-04-04T14:59:20.897170",
     "exception": false,
     "start_time": "2023-04-04T14:59:20.835554",
     "status": "completed"
    },
    "tags": []
   },
   "outputs": [
    {
     "name": "stdout",
     "output_type": "stream",
     "text": [
      "783.7860692496962,0.23554242914804716,2448.0642560619563,174.81863618536596,1595.6453519785343,2597.2192198504326,0.04339917644453395,0.5595577127113079,0.9291841614951527,0.011447205465661267,5.487800435671536,16.638121924901107,9407.208140464152,2589.5339658980774,1874.8181892577493,0.36545132933588476,9.877041665651117\n"
     ]
    }
   ],
   "source": [
    "# Load your dataset into a pandas DataFrame\n",
    "df = pd.read_csv('/kaggle/working/my_cleaned_dataset_not_scaled.csv')\n",
    "\n",
    "# Get the minimum and maximum values of each column\n",
    "min_vals = df.min()\n",
    "max_vals = df.max()\n",
    "\n",
    "# Generate a random row of data based on the minimum and maximum values of each column\n",
    "random_row = np.random.uniform(min_vals, max_vals)\n",
    "print(','.join(map(str, random_row)))"
   ]
  },
  {
   "cell_type": "markdown",
   "id": "a67eff9d",
   "metadata": {
    "_cell_guid": "9a767e88-396c-49ac-8531-df5bf3159137",
    "_uuid": "0c4d6b55-381e-49bf-a82c-f56d20bf1e51",
    "papermill": {
     "duration": 0.029754,
     "end_time": "2023-04-04T14:59:20.956538",
     "exception": false,
     "start_time": "2023-04-04T14:59:20.926784",
     "status": "completed"
    },
    "tags": []
   },
   "source": [
    "Creating test array for testing it on untrained data"
   ]
  },
  {
   "cell_type": "code",
   "execution_count": 41,
   "id": "d50be17f",
   "metadata": {
    "_cell_guid": "3c2344e5-2e9c-4677-bbe4-fade7e2513f7",
    "_uuid": "2542a340-0374-4a25-bf4a-5d85418bbab1",
    "collapsed": false,
    "execution": {
     "iopub.execute_input": "2023-04-04T14:59:21.019052Z",
     "iopub.status.busy": "2023-04-04T14:59:21.018589Z",
     "iopub.status.idle": "2023-04-04T14:59:21.036421Z",
     "shell.execute_reply": "2023-04-04T14:59:21.035023Z"
    },
    "jupyter": {
     "outputs_hidden": false
    },
    "papermill": {
     "duration": 0.052595,
     "end_time": "2023-04-04T14:59:21.039144",
     "exception": false,
     "start_time": "2023-04-04T14:59:20.986549",
     "status": "completed"
    },
    "tags": []
   },
   "outputs": [
    {
     "name": "stdout",
     "output_type": "stream",
     "text": [
      "[[0]]\n"
     ]
    },
    {
     "name": "stderr",
     "output_type": "stream",
     "text": [
      "/opt/conda/lib/python3.7/site-packages/sklearn/base.py:451: UserWarning: X does not have valid feature names, but MinMaxScaler was fitted with feature names\n",
      "  \"X does not have valid feature names, but\"\n"
     ]
    }
   ],
   "source": [
    "model = joblib.load('catboost_model.pkl')\n",
    "\n",
    "# Make a prediction on new data\n",
    "customer_data = [5541.450987487951,0.6812618572573155,560.1910589458662,2411.144607301691,1886.0514008080156,2328.4169724556864,0.07192714436242409,0.37354981292284783,0.3411247827176179,0.3507471442257143,3.457012394118761,13.31819854167796,10906.330580420956,346.9548185281417,3853.843099268344,0.42855300050003986,11.29710593637941]\n",
    "# Scale the customer data\n",
    "customer_data_scaled = scaler.transform([customer_data])\n",
    "predictions = model.predict(customer_data_scaled)\n",
    "\n",
    "# Print the predictions\n",
    "print(predictions)"
   ]
  },
  {
   "cell_type": "markdown",
   "id": "9279081b",
   "metadata": {
    "_cell_guid": "c1d29410-d14c-4f71-9abd-3597f522762a",
    "_uuid": "729a9219-5558-47ab-abee-d2cfc41f8939",
    "papermill": {
     "duration": 0.030274,
     "end_time": "2023-04-04T14:59:21.098473",
     "exception": false,
     "start_time": "2023-04-04T14:59:21.068199",
     "status": "completed"
    },
    "tags": []
   },
   "source": [
    "Tested the data multiple times"
   ]
  }
 ],
 "metadata": {
  "kernelspec": {
   "display_name": "Python 3",
   "language": "python",
   "name": "python3"
  },
  "language_info": {
   "codemirror_mode": {
    "name": "ipython",
    "version": 3
   },
   "file_extension": ".py",
   "mimetype": "text/x-python",
   "name": "python",
   "nbconvert_exporter": "python",
   "pygments_lexer": "ipython3",
   "version": "3.7.12"
  },
  "papermill": {
   "default_parameters": {},
   "duration": 375.046912,
   "end_time": "2023-04-04T14:59:22.053184",
   "environment_variables": {},
   "exception": null,
   "input_path": "__notebook__.ipynb",
   "output_path": "__notebook__.ipynb",
   "parameters": {},
   "start_time": "2023-04-04T14:53:07.006272",
   "version": "2.4.0"
  }
 },
 "nbformat": 4,
 "nbformat_minor": 5
}
